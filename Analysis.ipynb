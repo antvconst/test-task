{
 "cells": [
  {
   "cell_type": "markdown",
   "metadata": {},
   "source": [
    "# Тестовое задание\n",
    "\n",
    "**Кандидат**: Антон Константинов ([antv.konstantinov@gmail.com](mailto:antv.konstantinov@gmail.com))"
   ]
  },
  {
   "cell_type": "markdown",
   "metadata": {},
   "source": [
    "## Utils "
   ]
  },
  {
   "cell_type": "markdown",
   "metadata": {},
   "source": [
    "Необходимые библиотеки, а также глобальные настройки."
   ]
  },
  {
   "cell_type": "code",
   "execution_count": 78,
   "metadata": {},
   "outputs": [],
   "source": [
    "# Base libraries\n",
    "import pandas as pd\n",
    "import numpy as np\n",
    "import seaborn as sns\n",
    "import matplotlib\n",
    "import matplotlib.pyplot as plt\n",
    "\n",
    "# sklearn base classes and utilities\n",
    "from sklearn.base import BaseEstimator, ClassifierMixin, clone\n",
    "\n",
    "# Preprocessors\n",
    "from sklearn.impute import SimpleImputer\n",
    "from sklearn.preprocessing import StandardScaler\n",
    "from sklearn.compose import ColumnTransformer\n",
    "\n",
    "# Pipelines, metrics and model selection\n",
    "from sklearn.pipeline import Pipeline, make_pipeline, FeatureUnion\n",
    "from sklearn.model_selection import train_test_split, cross_validate, StratifiedKFold, GridSearchCV, RandomizedSearchCV\n",
    "from sklearn.metrics import roc_auc_score\n",
    "\n",
    "# Models\n",
    "from sklearn.linear_model import LogisticRegressionCV\n",
    "from sklearn.svm import SVC\n",
    "from sklearn.ensemble import RandomForestClassifier\n",
    "from catboost import CatBoostClassifier\n",
    "\n",
    "from umap import UMAP\n",
    "\n",
    "# Suppress numpy warnings\n",
    "import warnings\n",
    "warnings.filterwarnings('ignore')\n",
    "\n",
    "# Prettier and larger plots\n",
    "%matplotlib inline\n",
    "matplotlib.style.use('ggplot')\n",
    "plt.rcParams[\"figure.figsize\"] = (9, 6)"
   ]
  },
  {
   "cell_type": "markdown",
   "metadata": {},
   "source": [
    "Вывод submission-а для Kaggle."
   ]
  },
  {
   "cell_type": "code",
   "execution_count": 2,
   "metadata": {},
   "outputs": [],
   "source": [
    "def submit(model, df_submit, filename):\n",
    "    y_pred = model.predict_proba(df_submit.drop(columns='sample_id'))[:, 1]\n",
    "    result = pd.DataFrame({'sample_id': df_submit['sample_id'], 'y': y_pred})\n",
    "    \n",
    "    filename_ = 'output/' + filename + '.csv'\n",
    "    result.to_csv(filename_, index=False)\n",
    "    print(f'Submission written to {filename_}')"
   ]
  },
  {
   "cell_type": "markdown",
   "metadata": {},
   "source": [
    "Быстрый скоринг для модели."
   ]
  },
  {
   "cell_type": "code",
   "execution_count": 3,
   "metadata": {},
   "outputs": [],
   "source": [
    "def score(model, X, y):\n",
    "    roc_auc = roc_auc_score(y, model.predict_proba(X)[:, 1])\n",
    "    print('ROC-AUC score for this model:', roc_auc)"
   ]
  },
  {
   "cell_type": "markdown",
   "metadata": {},
   "source": [
    "Отрисовка графиков для выбора гиперпараметров.\n",
    "1. Если передан std_score (стандартное отклонение оценки), то предполагается, что score - одномерный массив оценок (усреднённый по фолдам). Иначе предполагается двумерный массив (оценки для каждого значения параметра на каждом фолде). В этом случае среднее и стандартное отклонение вычисляется внутри.\n",
    "2. Если передан train_scores, то в дополнение к оценкам на тестовой выборке отрисовываются и ошибки на тренировочной.\n",
    "3. Если log=True, то отрисовка производится в логарифмической шкале (по оси значений параметров)."
   ]
  },
  {
   "cell_type": "code",
   "execution_count": 4,
   "metadata": {},
   "outputs": [],
   "source": [
    "def plot_scores(param, score, std_score=None, train_scores=None, log=False):\n",
    "    if std_score is None:\n",
    "        mean_score = score.mean(axis=0)\n",
    "        std_score = score.std(axis=0)\n",
    "    else:\n",
    "        mean_score = score\n",
    "    \n",
    "    # \"Confidence intervals\" (in fact, they are not, but let's stick to this term)\n",
    "    score_ci_low = mean_score - std_score\n",
    "    score_ci_high = mean_score + std_score\n",
    "    \n",
    "    if log:\n",
    "        plt.semilogx(param, mean_score)\n",
    "    else:\n",
    "        plt.plot(param, mean_score)\n",
    "    plt.fill_between(param, score_ci_low, score_ci_high, alpha=0.3)\n",
    "    \n",
    "    if train_scores is not None:\n",
    "        if log:\n",
    "            plt.semilogx(param, train_scores)\n",
    "        else:\n",
    "            plt.plot(param, train_scores)\n",
    "    \n",
    "    plt.xlabel('Parameter value')\n",
    "    plt.ylabel('ROC-AUC Score')\n",
    "    plt.show()"
   ]
  },
  {
   "cell_type": "markdown",
   "metadata": {},
   "source": [
    "Обёртка над `CatBoostClassifier`, позволяющая указать для него список категориальных признаков заранее (например, чтобы спокойно использовать pipeline-ы). Мы будем активно использовать pipeline-ы для того, чтобы корректно проводить валидацию и оптимизировать гиперпараметры. Например, pipeline-ы позволяют корректно заполнять пропуски, используя только информацию с **текущего** тренировочного набора данных при кросс-валидации и тем самым помогают избежать утечек данных из тестовой выборки."
   ]
  },
  {
   "cell_type": "code",
   "execution_count": 5,
   "metadata": {},
   "outputs": [],
   "source": [
    "class CatBoostClassifierWrapper(BaseEstimator, ClassifierMixin):\n",
    "    def __init__(self,\n",
    "                 loss_function='Logloss',\n",
    "                 iterations=None,\n",
    "                 learning_rate=None,\n",
    "                 l2_leaf_reg=None,\n",
    "                 depth=None,\n",
    "                 one_hot_max_size=None,\n",
    "                 border_count=None,\n",
    "                 logging_level=None,\n",
    "                 cat_features=None):\n",
    "        self.clf = CatBoostClassifier(loss_function=loss_function,\n",
    "                                      iterations=iterations,\n",
    "                                      learning_rate=learning_rate,\n",
    "                                      l2_leaf_reg=l2_leaf_reg,\n",
    "                                      depth=depth,\n",
    "                                      one_hot_max_size=one_hot_max_size,\n",
    "                                      border_count=border_count,\n",
    "                                      logging_level=logging_level)\n",
    "        self.cat_features_ = cat_features\n",
    "    \n",
    "    def fit(self, X, y=None):\n",
    "        self.clf.fit(X, y, cat_features=self.cat_features_)\n",
    "        return self\n",
    "        \n",
    "    def predict(self, X, y=None):\n",
    "        return self.clf.predict(X)\n",
    "    \n",
    "    def predict_proba(self, X, y=None):\n",
    "        return self.clf.predict_proba(X)\n",
    "    \n",
    "    def get_params(self, deep=True):\n",
    "        return self.clf.get_params(deep)\n",
    "    \n",
    "    def set_params(self, **params):\n",
    "        self.clf.set_params(**params)\n",
    "        return self"
   ]
  },
  {
   "cell_type": "markdown",
   "metadata": {},
   "source": [
    "## Предварительный анализ и обработка данных"
   ]
  },
  {
   "cell_type": "markdown",
   "metadata": {},
   "source": [
    "Загрузим данные."
   ]
  },
  {
   "cell_type": "code",
   "execution_count": 81,
   "metadata": {},
   "outputs": [],
   "source": [
    "df = pd.read_csv('data/train.csv')\n",
    "y = df['y']\n",
    "df.drop(columns=['y', 'sample_id'], inplace=True)\n",
    "\n",
    "df_test = pd.read_csv('data/test.csv')"
   ]
  },
  {
   "cell_type": "markdown",
   "metadata": {},
   "source": [
    "Все типы данных оказались float64, однако у нас довольно много целочисленных столбцов. Зададим для них правильные типы."
   ]
  },
  {
   "cell_type": "code",
   "execution_count": 82,
   "metadata": {},
   "outputs": [],
   "source": [
    "def numeric_downcast(col):\n",
    "    try:\n",
    "        new_col = pd.to_numeric(col, downcast='integer')\n",
    "    except:\n",
    "        new_col = col\n",
    "    return new_col\n",
    "\n",
    "df = df.apply(numeric_downcast)\n",
    "df_test = df_test.apply(numeric_downcast)"
   ]
  },
  {
   "cell_type": "markdown",
   "metadata": {},
   "source": [
    "Унифицируем пропуски. В описании указано, что пропуски бывают закодированы как NaN и +/-Inf. Заменим их все на NaN."
   ]
  },
  {
   "cell_type": "code",
   "execution_count": 83,
   "metadata": {},
   "outputs": [],
   "source": [
    "df.replace([np.inf, -np.inf], np.nan, inplace=True)\n",
    "df_test.replace([np.inf, -np.inf], np.nan, inplace=True)"
   ]
  },
  {
   "cell_type": "markdown",
   "metadata": {},
   "source": [
    "Распределение меток классов не выглядит сильно несбалансированным, поэтому искусственная балансировка классов скорее всего не потребуется."
   ]
  },
  {
   "cell_type": "code",
   "execution_count": 84,
   "metadata": {},
   "outputs": [
    {
     "data": {
      "text/plain": [
       "<matplotlib.axes._subplots.AxesSubplot at 0x7f3aa11eb748>"
      ]
     },
     "execution_count": 84,
     "metadata": {},
     "output_type": "execute_result"
    },
    {
     "data": {
      "image/png": "[encoded data removed]",
      "text/plain": [
       "<Figure size 648x432 with 1 Axes>"
      ]
     },
     "metadata": {},
     "output_type": "display_data"
    }
   ],
   "source": [
    "sns.distplot(y, axlabel='Метка класса (y)')"
   ]
  },
  {
   "cell_type": "markdown",
   "metadata": {},
   "source": [
    "Посмотрим на пропуски в данных."
   ]
  },
  {
   "cell_type": "code",
   "execution_count": 85,
   "metadata": {},
   "outputs": [
    {
     "data": {
      "text/plain": [
       "<matplotlib.axes._subplots.AxesSubplot at 0x7f3a9f12e390>"
      ]
     },
     "execution_count": 85,
     "metadata": {},
     "output_type": "execute_result"
    },
    {
     "data": {
      "image/png": "[encoded data removed]",
      "text/plain": [
       "<Figure size 648x432 with 1 Axes>"
      ]
     },
     "metadata": {},
     "output_type": "display_data"
    }
   ],
   "source": [
    "# Количество пропусков в столбцах\n",
    "invalid = df.shape[0] - df.count()\n",
    "\n",
    "# Выбросим столбцы без пропусков\n",
    "missing = invalid[invalid > 0]\n",
    "\n",
    "# В долях\n",
    "missing_fraction = missing / df.shape[0]\n",
    "\n",
    "# Ради наглядности построим гистограмму\n",
    "sns.distplot(missing_fraction, axlabel='Доля пропусков среди столбцов, имеющих хотя бы один пропуск')"
   ]
  },
  {
   "cell_type": "markdown",
   "metadata": {},
   "source": [
    "Наблюдается достаточно много столбцов с очень большим количеством пропусков. Выбросим столбцы, имеющие более 75% пропусков. Пропуски в остальных мы постараемся заполнить позже."
   ]
  },
  {
   "cell_type": "code",
   "execution_count": 86,
   "metadata": {},
   "outputs": [],
   "source": [
    "bad_columns = missing_fraction[missing_fraction > 0.75].index\n",
    "\n",
    "df = df.drop(columns=bad_columns)\n",
    "df_test = df_test.drop(columns=bad_columns)"
   ]
  },
  {
   "cell_type": "markdown",
   "metadata": {},
   "source": [
    "Попробуем выделить среди признаков такие, которые скорее всего являются категориальными."
   ]
  },
  {
   "cell_type": "code",
   "execution_count": 87,
   "metadata": {
    "scrolled": false
   },
   "outputs": [
    {
     "data": {
      "text/plain": [
       "<matplotlib.axes._subplots.AxesSubplot at 0x7f3a9f0f3f60>"
      ]
     },
     "execution_count": 87,
     "metadata": {},
     "output_type": "execute_result"
    },
    {
     "data": {
      "image/png": "[encoded data removed]",
      "text/plain": [
       "<Figure size 648x432 with 1 Axes>"
      ]
     },
     "metadata": {},
     "output_type": "display_data"
    }
   ],
   "source": [
    "nunique = df.nunique()\n",
    "\n",
    "sns.distplot(nunique, axlabel='Количество уникальных значений')"
   ]
  },
  {
   "cell_type": "markdown",
   "metadata": {},
   "source": [
    "Выбросим признаки, имеющие единственное уникальное значение - они не несут совсем никакой смысловой нагрузки."
   ]
  },
  {
   "cell_type": "code",
   "execution_count": 88,
   "metadata": {},
   "outputs": [],
   "source": [
    "single_value_columns = nunique[nunique == 1].index\n",
    "\n",
    "df = df.drop(columns=single_value_columns)\n",
    "df_test = df_test.drop(columns=single_value_columns)"
   ]
  },
  {
   "cell_type": "markdown",
   "metadata": {},
   "source": [
    "Наблюдается большое количество признаков, имеющих мало уникальных значений. Часть признаков, имеющих небольшое число уровней, скорее всего стоит интерпретировать как категориальные."
   ]
  },
  {
   "cell_type": "code",
   "execution_count": 89,
   "metadata": {},
   "outputs": [],
   "source": [
    "integer_columns = df.select_dtypes('int64')\n",
    "int_nunique = integer_columns.nunique()\n",
    "\n",
    "cat_feature_names = int_nunique[int_nunique <= 5].index\n",
    "num_feature_names = list(set(df.columns) - set(cat_feature_names))"
   ]
  },
  {
   "cell_type": "markdown",
   "metadata": {},
   "source": [
    "Пока что выделим в качестве категориальных признаки, имеющие от 2 до 5 уникальных значений. Возможно, мы с ними что-то сделаем в дальнейшем."
   ]
  },
  {
   "cell_type": "code",
   "execution_count": 90,
   "metadata": {},
   "outputs": [
    {
     "data": {
      "text/plain": [
       "(1095, 1349)"
      ]
     },
     "execution_count": 90,
     "metadata": {},
     "output_type": "execute_result"
    }
   ],
   "source": [
    "df.shape"
   ]
  },
  {
   "cell_type": "markdown",
   "metadata": {},
   "source": [
    "Итого у нас осталось 1349 признаков. Попробуем построить вложение наших данных высокой размерности в плоскость, чтобы визуализировать их распределение."
   ]
  },
  {
   "cell_type": "code",
   "execution_count": 110,
   "metadata": {},
   "outputs": [
    {
     "data": {
      "text/plain": [
       "<matplotlib.collections.PathCollection at 0x7f3a8e44f400>"
      ]
     },
     "execution_count": 110,
     "metadata": {},
     "output_type": "execute_result"
    },
    {
     "data": {
      "image/png": "[encoded data removed]",
      "text/plain": [
       "<Figure size 648x432 with 1 Axes>"
      ]
     },
     "metadata": {},
     "output_type": "display_data"
    }
   ],
   "source": [
    "embedder = Pipeline([\n",
    "    ('imputer', SimpleImputer(strategy='median')),\n",
    "    ('embedder', UMAP(n_neighbors=50,\n",
    "                      metric='manhattan'))\n",
    "])\n",
    "\n",
    "embedding = embedder.fit_transform(df)\n",
    "\n",
    "plt.scatter(embedding[:, 0], embedding[:, 1], c=y, linewidth=0.1, alpha=0.8)"
   ]
  },
  {
   "cell_type": "markdown",
   "metadata": {},
   "source": [
    "Параметр `n_neighbors` был выставлен в максимальное \"рекомендуемое\" значение, чтобы сохранить большую часть \n",
    "глобальной структуры данных. Как видно из рендера вложения, нельзя сказать, что классы образуют какие-то чёткие кластеры. Однако, они не смешаны до степени неразличимости, а наоборот разделяются в том смысле, что на одной стороне \"сгустка\" преобладают элементы отрицательного класса, а на другой - положительного. Конечно, доверять таким проекциям сильно не стоит, но всё же есть надежда на неплохое качество классификации."
   ]
  },
  {
   "cell_type": "markdown",
   "metadata": {},
   "source": [
    "Для дальнейшей работы устроим разбиение на train- и test-выборки."
   ]
  },
  {
   "cell_type": "code",
   "execution_count": 92,
   "metadata": {},
   "outputs": [],
   "source": [
    "X = df\n",
    "X_train, X_test, y_train, y_test = train_test_split(X, y, stratify=y, test_size=0.3, random_state=42)"
   ]
  },
  {
   "cell_type": "markdown",
   "metadata": {},
   "source": [
    "## Модели"
   ]
  },
  {
   "cell_type": "markdown",
   "metadata": {},
   "source": [
    "### Логистическая регрессия"
   ]
  },
  {
   "cell_type": "markdown",
   "metadata": {},
   "source": [
    "Попробуем для начала самую простую логистическую регрессию без попытки как-то закодировать категориальные признаки. Пропуски заполним медианой, а также стандартизуем признаки. Гиперпараметр регуляризации $C$ настроим при помощи кросс-валидации (воспользуемся `LogisticRegressionCV`)."
   ]
  },
  {
   "cell_type": "code",
   "execution_count": 18,
   "metadata": {},
   "outputs": [],
   "source": [
    "imputer = SimpleImputer(strategy='median')\n",
    "scaler = StandardScaler()\n",
    "lr = LogisticRegressionCV(cv=3, refit=True, scoring='roc_auc', class_weight='balanced', random_state=42)\n",
    "\n",
    "baseline_lr = make_pipeline(imputer, scaler, lr)"
   ]
  },
  {
   "cell_type": "code",
   "execution_count": 19,
   "metadata": {},
   "outputs": [
    {
     "data": {
      "text/plain": [
       "Pipeline(memory=None,\n",
       "     steps=[('simpleimputer', SimpleImputer(copy=True, fill_value=None, missing_values=nan,\n",
       "       strategy='median', verbose=0)), ('standardscaler', StandardScaler(copy=True, with_mean=True, with_std=True)), ('logisticregressioncv', LogisticRegressionCV(Cs=10, class_weight='balanced', cv=3, dual=False,\n",
       "...te=42,\n",
       "           refit=True, scoring='roc_auc', solver='lbfgs', tol=0.0001,\n",
       "           verbose=0))])"
      ]
     },
     "execution_count": 19,
     "metadata": {},
     "output_type": "execute_result"
    }
   ],
   "source": [
    "baseline_lr.fit(X_train, y_train)"
   ]
  },
  {
   "cell_type": "code",
   "execution_count": 113,
   "metadata": {},
   "outputs": [
    {
     "data": {
      "image/png": "[encoded data removed]",
      "text/plain": [
       "<Figure size 648x432 with 1 Axes>"
      ]
     },
     "metadata": {},
     "output_type": "display_data"
    }
   ],
   "source": [
    "Cs = baseline_lr.steps[-1][1].Cs_\n",
    "scores = baseline_lr.steps[-1][1].scores_[1.0]\n",
    "\n",
    "plot_scores(Cs, scores, log=True)"
   ]
  },
  {
   "cell_type": "code",
   "execution_count": 21,
   "metadata": {},
   "outputs": [
    {
     "name": "stdout",
     "output_type": "stream",
     "text": [
      "ROC-AUC score for this model: 0.8775239728697278\n"
     ]
    }
   ],
   "source": [
    "score(baseline_lr, X_test, y_test)"
   ]
  },
  {
   "cell_type": "code",
   "execution_count": 22,
   "metadata": {},
   "outputs": [
    {
     "name": "stdout",
     "output_type": "stream",
     "text": [
      "Submission written to output/logistic_regression_baseline_1.csv\n"
     ]
    }
   ],
   "source": [
    "submit(baseline_lr, df_test, 'logistic_regression_baseline_1')"
   ]
  },
  {
   "cell_type": "markdown",
   "metadata": {},
   "source": [
    "**Kaggle test score**: 0.87193"
   ]
  },
  {
   "cell_type": "markdown",
   "metadata": {},
   "source": [
    "### SVM"
   ]
  },
  {
   "cell_type": "markdown",
   "metadata": {},
   "source": [
    "Попробуем использовать для классификации метод опорных векторов."
   ]
  },
  {
   "cell_type": "code",
   "execution_count": 23,
   "metadata": {},
   "outputs": [],
   "source": [
    "svc = SVC(gamma='scale',\n",
    "          kernel='rbf',\n",
    "          C=1.5,\n",
    "          class_weight='balanced',\n",
    "          probability=True)\n",
    "\n",
    "svc_clf = Pipeline([\n",
    "    ('imputer', SimpleImputer(strategy='median')),\n",
    "    ('scaler', StandardScaler()),\n",
    "    ('clf', svc)\n",
    "])"
   ]
  },
  {
   "cell_type": "code",
   "execution_count": 24,
   "metadata": {},
   "outputs": [
    {
     "name": "stdout",
     "output_type": "stream",
     "text": [
      "ROC-AUC score for this model: 0.8723006158883605\n"
     ]
    }
   ],
   "source": [
    "svc_clf.fit(X_train, y_train)\n",
    "score(svc_clf, X_test, y_test)"
   ]
  },
  {
   "cell_type": "markdown",
   "metadata": {},
   "source": [
    "Предварительно было проверено, что единственное ядро, которое даёт нормальные результаты - это radial basis function (rbf). Поэтому гиперпараметры будем подбирать для него."
   ]
  },
  {
   "cell_type": "code",
   "execution_count": 25,
   "metadata": {},
   "outputs": [
    {
     "name": "stdout",
     "output_type": "stream",
     "text": [
      "Fitting 3 folds for each of 10 candidates, totalling 30 fits\n",
      "[Parallel(n_jobs=1)]: Using backend SequentialBackend with 1 concurrent workers.\n",
      "[CV] clf__C=0.01 .....................................................\n",
      "[CV] ............. clf__C=0.01, score=0.740011580775912, total=   2.8s\n",
      "[Parallel(n_jobs=1)]: Done   1 out of   1 | elapsed:    3.3s remaining:    0.0s\n",
      "[CV] clf__C=0.01 .....................................................\n",
      "[CV] ............ clf__C=0.01, score=0.7602305102305102, total=   2.8s\n",
      "[Parallel(n_jobs=1)]: Done   2 out of   2 | elapsed:    6.5s remaining:    0.0s\n",
      "[CV] clf__C=0.01 .....................................................\n",
      "[CV] ............ clf__C=0.01, score=0.7921522921522922, total=   2.8s\n",
      "[Parallel(n_jobs=1)]: Done   3 out of   3 | elapsed:    9.8s remaining:    0.0s\n",
      "[CV] clf__C=0.03593813663804628 ......................................\n",
      "[CV]  clf__C=0.03593813663804628, score=0.740011580775912, total=   2.8s\n",
      "[Parallel(n_jobs=1)]: Done   4 out of   4 | elapsed:   13.1s remaining:    0.0s\n",
      "[CV] clf__C=0.03593813663804628 ......................................\n",
      "[CV]  clf__C=0.03593813663804628, score=0.7602305102305102, total=   2.8s\n",
      "[Parallel(n_jobs=1)]: Done   5 out of   5 | elapsed:   16.4s remaining:    0.0s\n",
      "[CV] clf__C=0.03593813663804628 ......................................\n",
      "[CV]  clf__C=0.03593813663804628, score=0.7921522921522922, total=   2.8s\n",
      "[Parallel(n_jobs=1)]: Done   6 out of   6 | elapsed:   19.6s remaining:    0.0s\n",
      "[CV] clf__C=0.1291549665014884 .......................................\n",
      "[CV]  clf__C=0.1291549665014884, score=0.7719873898217847, total=   2.6s\n",
      "[Parallel(n_jobs=1)]: Done   7 out of   7 | elapsed:   22.6s remaining:    0.0s\n",
      "[CV] clf__C=0.1291549665014884 .......................................\n",
      "[CV]  clf__C=0.1291549665014884, score=0.7831520331520332, total=   2.6s\n",
      "[Parallel(n_jobs=1)]: Done   8 out of   8 | elapsed:   25.7s remaining:    0.0s\n",
      "[CV] clf__C=0.1291549665014884 .......................................\n",
      "[CV]  clf__C=0.1291549665014884, score=0.8113830613830614, total=   2.6s\n",
      "[Parallel(n_jobs=1)]: Done   9 out of   9 | elapsed:   28.7s remaining:    0.0s\n",
      "[CV] clf__C=0.464158883361278 ........................................\n",
      "[CV]  clf__C=0.464158883361278, score=0.7928327864633598, total=   2.3s\n",
      "[Parallel(n_jobs=1)]: Done  10 out of  10 | elapsed:   31.4s remaining:    0.0s\n",
      "[CV] clf__C=0.464158883361278 ........................................\n",
      "[CV]  clf__C=0.464158883361278, score=0.8413623413623413, total=   2.4s\n",
      "[Parallel(n_jobs=1)]: Done  11 out of  11 | elapsed:   34.2s remaining:    0.0s\n",
      "[CV] clf__C=0.464158883361278 ........................................\n",
      "[CV]  clf__C=0.464158883361278, score=0.8436285936285937, total=   2.4s\n",
      "[Parallel(n_jobs=1)]: Done  12 out of  12 | elapsed:   36.9s remaining:    0.0s\n",
      "[CV] clf__C=1.6681005372000592 .......................................\n",
      "[CV]  clf__C=1.6681005372000592, score=0.8028051212764589, total=   2.1s\n",
      "[Parallel(n_jobs=1)]: Done  13 out of  13 | elapsed:   39.4s remaining:    0.0s\n",
      "[CV] clf__C=1.6681005372000592 .......................................\n",
      "[CV]  clf__C=1.6681005372000592, score=0.8374125874125874, total=   2.2s\n",
      "[Parallel(n_jobs=1)]: Done  14 out of  14 | elapsed:   42.0s remaining:    0.0s\n",
      "[CV] clf__C=1.6681005372000592 .......................................\n",
      "[CV]  clf__C=1.6681005372000592, score=0.8436933436933436, total=   2.2s\n",
      "[Parallel(n_jobs=1)]: Done  15 out of  15 | elapsed:   44.6s remaining:    0.0s\n",
      "[CV] clf__C=5.994842503189409 ........................................\n",
      "[CV]  clf__C=5.994842503189409, score=0.8016470436852603, total=   2.4s\n",
      "[Parallel(n_jobs=1)]: Done  16 out of  16 | elapsed:   47.3s remaining:    0.0s\n",
      "[CV] clf__C=5.994842503189409 ........................................\n",
      "[CV]  clf__C=5.994842503189409, score=0.7983682983682985, total=   2.5s\n",
      "[Parallel(n_jobs=1)]: Done  17 out of  17 | elapsed:   50.2s remaining:    0.0s\n",
      "[CV] clf__C=5.994842503189409 ........................................\n",
      "[CV]  clf__C=5.994842503189409, score=0.8274410774410775, total=   2.5s\n",
      "[Parallel(n_jobs=1)]: Done  18 out of  18 | elapsed:   53.1s remaining:    0.0s\n",
      "[CV] clf__C=21.544346900318846 .......................................\n",
      "[CV]  clf__C=21.544346900318846, score=0.79354050054687, total=   2.4s\n",
      "[Parallel(n_jobs=1)]: Done  19 out of  19 | elapsed:   55.8s remaining:    0.0s\n",
      "[CV] clf__C=21.544346900318846 .......................................\n",
      "[CV]  clf__C=21.544346900318846, score=0.7943537943537944, total=   2.5s\n",
      "[Parallel(n_jobs=1)]: Done  20 out of  20 | elapsed:   58.7s remaining:    0.0s\n",
      "[CV] clf__C=21.544346900318846 .......................................\n",
      "[CV]  clf__C=21.544346900318846, score=0.8203185703185703, total=   2.5s\n",
      "[Parallel(n_jobs=1)]: Done  21 out of  21 | elapsed:  1.0min remaining:    0.0s\n",
      "[CV] clf__C=77.42636826811278 ........................................\n",
      "[CV]  clf__C=77.42636826811278, score=0.7937335134787364, total=   2.4s\n",
      "[Parallel(n_jobs=1)]: Done  22 out of  22 | elapsed:  1.1min remaining:    0.0s\n",
      "[CV] clf__C=77.42636826811278 ........................................\n",
      "[CV]  clf__C=77.42636826811278, score=0.7954545454545455, total=   2.5s\n",
      "[Parallel(n_jobs=1)]: Done  23 out of  23 | elapsed:  1.1min remaining:    0.0s\n",
      "[CV] clf__C=77.42636826811278 ........................................\n",
      "[CV]  clf__C=77.42636826811278, score=0.8271820771820771, total=   2.5s\n",
      "[Parallel(n_jobs=1)]: Done  24 out of  24 | elapsed:  1.2min remaining:    0.0s\n",
      "[CV] clf__C=278.2559402207126 ........................................\n",
      "[CV]  clf__C=278.2559402207126, score=0.7937335134787364, total=   2.4s\n",
      "[Parallel(n_jobs=1)]: Done  25 out of  25 | elapsed:  1.2min remaining:    0.0s\n",
      "[CV] clf__C=278.2559402207126 ........................................\n",
      "[CV]  clf__C=278.2559402207126, score=0.7954545454545455, total=   2.5s\n",
      "[Parallel(n_jobs=1)]: Done  26 out of  26 | elapsed:  1.3min remaining:    0.0s\n",
      "[CV] clf__C=278.2559402207126 ........................................\n",
      "[CV]  clf__C=278.2559402207126, score=0.8258870758870759, total=   2.5s\n",
      "[Parallel(n_jobs=1)]: Done  27 out of  27 | elapsed:  1.3min remaining:    0.0s\n",
      "[CV] clf__C=1000.0 ...................................................\n",
      "[CV] .......... clf__C=1000.0, score=0.7937335134787364, total=   2.4s\n",
      "[Parallel(n_jobs=1)]: Done  28 out of  28 | elapsed:  1.4min remaining:    0.0s\n",
      "[CV] clf__C=1000.0 ...................................................\n",
      "[CV] .......... clf__C=1000.0, score=0.7954545454545455, total=   2.5s\n",
      "[Parallel(n_jobs=1)]: Done  29 out of  29 | elapsed:  1.4min remaining:    0.0s\n",
      "[CV] clf__C=1000.0 ...................................................\n",
      "[CV] .......... clf__C=1000.0, score=0.8258870758870759, total=   2.5s\n",
      "[Parallel(n_jobs=1)]: Done  30 out of  30 | elapsed:  1.5min remaining:    0.0s\n",
      "[Parallel(n_jobs=1)]: Done  30 out of  30 | elapsed:  1.5min finished\n"
     ]
    },
    {
     "data": {
      "text/plain": [
       "RandomizedSearchCV(cv='warn', error_score='raise-deprecating',\n",
       "          estimator=Pipeline(memory=None,\n",
       "     steps=[('imputer', SimpleImputer(copy=True, fill_value=None, missing_values=nan,\n",
       "       strategy='median', verbose=0)), ('scaler', StandardScaler(copy=True, with_mean=True, with_std=True)), ('clf', SVC(C=1.5, cache_size=200, class_weight='balanced', coef0=0.0,\n",
       "  decision_function_shape='ovr', degree=3, gamma='scale', kernel='rbf',\n",
       "  max_iter=-1, probability=True, random_state=None, shrinking=True,\n",
       "  tol=0.001, verbose=False))]),\n",
       "          fit_params=None, iid='warn', n_iter=100, n_jobs=None,\n",
       "          param_distributions={'clf__C': array([1.00000e-02, 3.59381e-02, 1.29155e-01, 4.64159e-01, 1.66810e+00,\n",
       "       5.99484e+00, 2.15443e+01, 7.74264e+01, 2.78256e+02, 1.00000e+03])},\n",
       "          pre_dispatch='2*n_jobs', random_state=None, refit=True,\n",
       "          return_train_score='warn', scoring='roc_auc', verbose=1000000000)"
      ]
     },
     "execution_count": 25,
     "metadata": {},
     "output_type": "execute_result"
    }
   ],
   "source": [
    "svm_grid = {\n",
    "    'clf__C': np.logspace(-2, 3, 10)\n",
    "}\n",
    "\n",
    "rsearch_svm = RandomizedSearchCV(svc_clf,\n",
    "                                 svm_grid,\n",
    "                                 n_iter=100,\n",
    "                                 scoring='roc_auc',\n",
    "                                 verbose=10**9)\n",
    "\n",
    "rsearch_svm.fit(X_train, y_train)"
   ]
  },
  {
   "cell_type": "code",
   "execution_count": 26,
   "metadata": {},
   "outputs": [
    {
     "name": "stdout",
     "output_type": "stream",
     "text": [
      "ROC-AUC score for this model: 0.8707414048491463\n"
     ]
    }
   ],
   "source": [
    "score(rsearch_svm, X_test, y_test)"
   ]
  },
  {
   "cell_type": "markdown",
   "metadata": {},
   "source": [
    "Качество сильно не изменилось."
   ]
  },
  {
   "cell_type": "code",
   "execution_count": 27,
   "metadata": {},
   "outputs": [
    {
     "name": "stdout",
     "output_type": "stream",
     "text": [
      "Submission written to output/svm_1.csv\n"
     ]
    }
   ],
   "source": [
    "best_svm = clone(rsearch_svm.best_estimator_)\n",
    "best_svm.fit(X, y)\n",
    "submit(best_svm, df_test, 'svm_1')"
   ]
  },
  {
   "cell_type": "markdown",
   "metadata": {},
   "source": [
    "**Kaggle test score**: 0.87288"
   ]
  },
  {
   "cell_type": "markdown",
   "metadata": {},
   "source": [
    "### Случайные леса"
   ]
  },
  {
   "cell_type": "code",
   "execution_count": 28,
   "metadata": {},
   "outputs": [],
   "source": [
    "rfc = RandomForestClassifier(n_estimators=1000,\n",
    "                             class_weight='balanced')\n",
    "\n",
    "rf_clf = Pipeline([\n",
    "    ('imputer', SimpleImputer(strategy='median')),\n",
    "    ('clf', rfc)\n",
    "])"
   ]
  },
  {
   "cell_type": "code",
   "execution_count": 29,
   "metadata": {},
   "outputs": [
    {
     "name": "stdout",
     "output_type": "stream",
     "text": [
      "Fitting 3 folds for each of 100 candidates, totalling 300 fits\n",
      "[Parallel(n_jobs=1)]: Using backend SequentialBackend with 1 concurrent workers.\n",
      "[CV] clf__n_estimators=2000, clf__min_samples_split=10, clf__min_samples_leaf=2, clf__max_features=auto, clf__max_depth=70, clf__bootstrap=False \n",
      "[CV]  clf__n_estimators=2000, clf__min_samples_split=10, clf__min_samples_leaf=2, clf__max_features=auto, clf__max_depth=70, clf__bootstrap=False, score=0.8138711960368011, total=  16.9s\n",
      "[Parallel(n_jobs=1)]: Done   1 out of   1 | elapsed:   17.1s remaining:    0.0s\n",
      "[CV] clf__n_estimators=2000, clf__min_samples_split=10, clf__min_samples_leaf=2, clf__max_features=auto, clf__max_depth=70, clf__bootstrap=False \n",
      "[CV]  clf__n_estimators=2000, clf__min_samples_split=10, clf__min_samples_leaf=2, clf__max_features=auto, clf__max_depth=70, clf__bootstrap=False, score=0.8444703444703445, total=  17.2s\n",
      "[Parallel(n_jobs=1)]: Done   2 out of   2 | elapsed:   34.5s remaining:    0.0s\n",
      "[CV] clf__n_estimators=2000, clf__min_samples_split=10, clf__min_samples_leaf=2, clf__max_features=auto, clf__max_depth=70, clf__bootstrap=False \n",
      "[CV]  clf__n_estimators=2000, clf__min_samples_split=10, clf__min_samples_leaf=2, clf__max_features=auto, clf__max_depth=70, clf__bootstrap=False, score=0.8544418544418544, total=  16.7s\n",
      "[Parallel(n_jobs=1)]: Done   3 out of   3 | elapsed:   51.4s remaining:    0.0s\n",
      "[CV] clf__n_estimators=2000, clf__min_samples_split=2, clf__min_samples_leaf=1, clf__max_features=sqrt, clf__max_depth=20, clf__bootstrap=True \n",
      "[CV]  clf__n_estimators=2000, clf__min_samples_split=2, clf__min_samples_leaf=1, clf__max_features=sqrt, clf__max_depth=20, clf__bootstrap=True, score=0.8117802226082481, total=  11.6s\n",
      "[Parallel(n_jobs=1)]: Done   4 out of   4 | elapsed:  1.1min remaining:    0.0s\n",
      "[CV] clf__n_estimators=2000, clf__min_samples_split=2, clf__min_samples_leaf=1, clf__max_features=sqrt, clf__max_depth=20, clf__bootstrap=True \n",
      "[CV]  clf__n_estimators=2000, clf__min_samples_split=2, clf__min_samples_leaf=1, clf__max_features=sqrt, clf__max_depth=20, clf__bootstrap=True, score=0.8428192178192178, total=  11.6s\n",
      "[Parallel(n_jobs=1)]: Done   5 out of   5 | elapsed:  1.3min remaining:    0.0s\n",
      "[CV] clf__n_estimators=2000, clf__min_samples_split=2, clf__min_samples_leaf=1, clf__max_features=sqrt, clf__max_depth=20, clf__bootstrap=True \n",
      "[CV]  clf__n_estimators=2000, clf__min_samples_split=2, clf__min_samples_leaf=1, clf__max_features=sqrt, clf__max_depth=20, clf__bootstrap=True, score=0.8525317275317275, total=  11.6s\n",
      "[Parallel(n_jobs=1)]: Done   6 out of   6 | elapsed:  1.4min remaining:    0.0s\n",
      "[CV] clf__n_estimators=1000, clf__min_samples_split=2, clf__min_samples_leaf=1, clf__max_features=auto, clf__max_depth=40, clf__bootstrap=True \n",
      "[CV]  clf__n_estimators=1000, clf__min_samples_split=2, clf__min_samples_leaf=1, clf__max_features=auto, clf__max_depth=40, clf__bootstrap=True, score=0.8096892491796949, total=   5.8s\n",
      "[Parallel(n_jobs=1)]: Done   7 out of   7 | elapsed:  1.5min remaining:    0.0s\n",
      "[CV] clf__n_estimators=1000, clf__min_samples_split=2, clf__min_samples_leaf=1, clf__max_features=auto, clf__max_depth=40, clf__bootstrap=True \n",
      "[CV]  clf__n_estimators=1000, clf__min_samples_split=2, clf__min_samples_leaf=1, clf__max_features=auto, clf__max_depth=40, clf__bootstrap=True, score=0.8422040922040921, total=   5.9s\n",
      "[Parallel(n_jobs=1)]: Done   8 out of   8 | elapsed:  1.6min remaining:    0.0s\n",
      "[CV] clf__n_estimators=1000, clf__min_samples_split=2, clf__min_samples_leaf=1, clf__max_features=auto, clf__max_depth=40, clf__bootstrap=True \n",
      "[CV]  clf__n_estimators=1000, clf__min_samples_split=2, clf__min_samples_leaf=1, clf__max_features=auto, clf__max_depth=40, clf__bootstrap=True, score=0.853956228956229, total=   5.8s\n",
      "[Parallel(n_jobs=1)]: Done   9 out of   9 | elapsed:  1.7min remaining:    0.0s\n",
      "[CV] clf__n_estimators=1000, clf__min_samples_split=2, clf__min_samples_leaf=1, clf__max_features=sqrt, clf__max_depth=60, clf__bootstrap=False \n",
      "[CV]  clf__n_estimators=1000, clf__min_samples_split=2, clf__min_samples_leaf=1, clf__max_features=sqrt, clf__max_depth=60, clf__bootstrap=False, score=0.8156726500675545, total=   9.2s\n",
      "[Parallel(n_jobs=1)]: Done  10 out of  10 | elapsed:  1.9min remaining:    0.0s\n",
      "[CV] clf__n_estimators=1000, clf__min_samples_split=2, clf__min_samples_leaf=1, clf__max_features=sqrt, clf__max_depth=60, clf__bootstrap=False \n",
      "[CV]  clf__n_estimators=1000, clf__min_samples_split=2, clf__min_samples_leaf=1, clf__max_features=sqrt, clf__max_depth=60, clf__bootstrap=False, score=0.8423335923335924, total=   9.3s\n",
      "[Parallel(n_jobs=1)]: Done  11 out of  11 | elapsed:  2.1min remaining:    0.0s\n",
      "[CV] clf__n_estimators=1000, clf__min_samples_split=2, clf__min_samples_leaf=1, clf__max_features=sqrt, clf__max_depth=60, clf__bootstrap=False \n",
      "[CV]  clf__n_estimators=1000, clf__min_samples_split=2, clf__min_samples_leaf=1, clf__max_features=sqrt, clf__max_depth=60, clf__bootstrap=False, score=0.85505698005698, total=   9.0s\n",
      "[Parallel(n_jobs=1)]: Done  12 out of  12 | elapsed:  2.2min remaining:    0.0s\n",
      "[CV] clf__n_estimators=1200, clf__min_samples_split=10, clf__min_samples_leaf=4, clf__max_features=sqrt, clf__max_depth=80, clf__bootstrap=True \n",
      "[CV]  clf__n_estimators=1200, clf__min_samples_split=10, clf__min_samples_leaf=4, clf__max_features=sqrt, clf__max_depth=80, clf__bootstrap=True, score=0.808724184520363, total=   5.8s\n",
      "[Parallel(n_jobs=1)]: Done  13 out of  13 | elapsed:  2.3min remaining:    0.0s\n",
      "[CV] clf__n_estimators=1200, clf__min_samples_split=10, clf__min_samples_leaf=4, clf__max_features=sqrt, clf__max_depth=80, clf__bootstrap=True \n",
      "[CV]  clf__n_estimators=1200, clf__min_samples_split=10, clf__min_samples_leaf=4, clf__max_features=sqrt, clf__max_depth=80, clf__bootstrap=True, score=0.8407148407148408, total=   5.9s\n",
      "[Parallel(n_jobs=1)]: Done  14 out of  14 | elapsed:  2.4min remaining:    0.0s\n",
      "[CV] clf__n_estimators=1200, clf__min_samples_split=10, clf__min_samples_leaf=4, clf__max_features=sqrt, clf__max_depth=80, clf__bootstrap=True \n",
      "[CV]  clf__n_estimators=1200, clf__min_samples_split=10, clf__min_samples_leaf=4, clf__max_features=sqrt, clf__max_depth=80, clf__bootstrap=True, score=0.8482258482258482, total=   5.8s\n",
      "[Parallel(n_jobs=1)]: Done  15 out of  15 | elapsed:  2.5min remaining:    0.0s\n",
      "[CV] clf__n_estimators=800, clf__min_samples_split=10, clf__min_samples_leaf=1, clf__max_features=auto, clf__max_depth=70, clf__bootstrap=True \n",
      "[CV]  clf__n_estimators=800, clf__min_samples_split=10, clf__min_samples_leaf=1, clf__max_features=auto, clf__max_depth=70, clf__bootstrap=True, score=0.8071800810654313, total=   4.5s\n",
      "[Parallel(n_jobs=1)]: Done  16 out of  16 | elapsed:  2.6min remaining:    0.0s\n",
      "[CV] clf__n_estimators=800, clf__min_samples_split=10, clf__min_samples_leaf=1, clf__max_features=auto, clf__max_depth=70, clf__bootstrap=True \n",
      "[CV]  clf__n_estimators=800, clf__min_samples_split=10, clf__min_samples_leaf=1, clf__max_features=auto, clf__max_depth=70, clf__bootstrap=True, score=0.8434343434343434, total=   4.6s\n",
      "[Parallel(n_jobs=1)]: Done  17 out of  17 | elapsed:  2.7min remaining:    0.0s\n",
      "[CV] clf__n_estimators=800, clf__min_samples_split=10, clf__min_samples_leaf=1, clf__max_features=auto, clf__max_depth=70, clf__bootstrap=True \n",
      "[CV]  clf__n_estimators=800, clf__min_samples_split=10, clf__min_samples_leaf=1, clf__max_features=auto, clf__max_depth=70, clf__bootstrap=True, score=0.8514633514633515, total=   4.5s\n",
      "[Parallel(n_jobs=1)]: Done  18 out of  18 | elapsed:  2.7min remaining:    0.0s\n",
      "[CV] clf__n_estimators=800, clf__min_samples_split=10, clf__min_samples_leaf=1, clf__max_features=sqrt, clf__max_depth=30, clf__bootstrap=False \n",
      "[CV]  clf__n_estimators=800, clf__min_samples_split=10, clf__min_samples_leaf=1, clf__max_features=sqrt, clf__max_depth=30, clf__bootstrap=False, score=0.8121340796500033, total=   7.1s\n",
      "[Parallel(n_jobs=1)]: Done  19 out of  19 | elapsed:  2.9min remaining:    0.0s\n",
      "[CV] clf__n_estimators=800, clf__min_samples_split=10, clf__min_samples_leaf=1, clf__max_features=sqrt, clf__max_depth=30, clf__bootstrap=False \n",
      "[CV]  clf__n_estimators=800, clf__min_samples_split=10, clf__min_samples_leaf=1, clf__max_features=sqrt, clf__max_depth=30, clf__bootstrap=False, score=0.8433048433048433, total=   7.3s\n",
      "[Parallel(n_jobs=1)]: Done  20 out of  20 | elapsed:  3.0min remaining:    0.0s\n",
      "[CV] clf__n_estimators=800, clf__min_samples_split=10, clf__min_samples_leaf=1, clf__max_features=sqrt, clf__max_depth=30, clf__bootstrap=False \n"
     ]
    },
    {
     "name": "stdout",
     "output_type": "stream",
     "text": [
      "[CV]  clf__n_estimators=800, clf__min_samples_split=10, clf__min_samples_leaf=1, clf__max_features=sqrt, clf__max_depth=30, clf__bootstrap=False, score=0.8550893550893551, total=   7.0s\n",
      "[Parallel(n_jobs=1)]: Done  21 out of  21 | elapsed:  3.1min remaining:    0.0s\n",
      "[CV] clf__n_estimators=1600, clf__min_samples_split=2, clf__min_samples_leaf=1, clf__max_features=auto, clf__max_depth=80, clf__bootstrap=False \n",
      "[CV]  clf__n_estimators=1600, clf__min_samples_split=2, clf__min_samples_leaf=1, clf__max_features=auto, clf__max_depth=80, clf__bootstrap=False, score=0.8136138454609794, total=  14.5s\n",
      "[Parallel(n_jobs=1)]: Done  22 out of  22 | elapsed:  3.3min remaining:    0.0s\n",
      "[CV] clf__n_estimators=1600, clf__min_samples_split=2, clf__min_samples_leaf=1, clf__max_features=auto, clf__max_depth=80, clf__bootstrap=False \n",
      "[CV]  clf__n_estimators=1600, clf__min_samples_split=2, clf__min_samples_leaf=1, clf__max_features=auto, clf__max_depth=80, clf__bootstrap=False, score=0.8483553483553483, total=  14.8s\n",
      "[Parallel(n_jobs=1)]: Done  23 out of  23 | elapsed:  3.6min remaining:    0.0s\n",
      "[CV] clf__n_estimators=1600, clf__min_samples_split=2, clf__min_samples_leaf=1, clf__max_features=auto, clf__max_depth=80, clf__bootstrap=False \n",
      "[CV]  clf__n_estimators=1600, clf__min_samples_split=2, clf__min_samples_leaf=1, clf__max_features=auto, clf__max_depth=80, clf__bootstrap=False, score=0.8526612276612276, total=  14.4s\n",
      "[Parallel(n_jobs=1)]: Done  24 out of  24 | elapsed:  3.8min remaining:    0.0s\n",
      "[CV] clf__n_estimators=1400, clf__min_samples_split=5, clf__min_samples_leaf=1, clf__max_features=sqrt, clf__max_depth=20, clf__bootstrap=True \n",
      "[CV]  clf__n_estimators=1400, clf__min_samples_split=5, clf__min_samples_leaf=1, clf__max_features=sqrt, clf__max_depth=20, clf__bootstrap=True, score=0.8118123914302258, total=   8.0s\n",
      "[Parallel(n_jobs=1)]: Done  25 out of  25 | elapsed:  4.0min remaining:    0.0s\n",
      "[CV] clf__n_estimators=1400, clf__min_samples_split=5, clf__min_samples_leaf=1, clf__max_features=sqrt, clf__max_depth=20, clf__bootstrap=True \n",
      "[CV]  clf__n_estimators=1400, clf__min_samples_split=5, clf__min_samples_leaf=1, clf__max_features=sqrt, clf__max_depth=20, clf__bootstrap=True, score=0.8423983423983424, total=   8.2s\n",
      "[Parallel(n_jobs=1)]: Done  26 out of  26 | elapsed:  4.1min remaining:    0.0s\n",
      "[CV] clf__n_estimators=1400, clf__min_samples_split=5, clf__min_samples_leaf=1, clf__max_features=sqrt, clf__max_depth=20, clf__bootstrap=True \n",
      "[CV]  clf__n_estimators=1400, clf__min_samples_split=5, clf__min_samples_leaf=1, clf__max_features=sqrt, clf__max_depth=20, clf__bootstrap=True, score=0.8536001036001036, total=   8.0s\n",
      "[Parallel(n_jobs=1)]: Done  27 out of  27 | elapsed:  4.3min remaining:    0.0s\n",
      "[CV] clf__n_estimators=1200, clf__min_samples_split=5, clf__min_samples_leaf=2, clf__max_features=auto, clf__max_depth=50, clf__bootstrap=False \n",
      "[CV]  clf__n_estimators=1200, clf__min_samples_split=5, clf__min_samples_leaf=2, clf__max_features=auto, clf__max_depth=50, clf__bootstrap=False, score=0.816959402946664, total=  10.3s\n",
      "[Parallel(n_jobs=1)]: Done  28 out of  28 | elapsed:  4.4min remaining:    0.0s\n",
      "[CV] clf__n_estimators=1200, clf__min_samples_split=5, clf__min_samples_leaf=2, clf__max_features=auto, clf__max_depth=50, clf__bootstrap=False \n",
      "[CV]  clf__n_estimators=1200, clf__min_samples_split=5, clf__min_samples_leaf=2, clf__max_features=auto, clf__max_depth=50, clf__bootstrap=False, score=0.8444703444703445, total=  10.5s\n",
      "[Parallel(n_jobs=1)]: Done  29 out of  29 | elapsed:  4.6min remaining:    0.0s\n",
      "[CV] clf__n_estimators=1200, clf__min_samples_split=5, clf__min_samples_leaf=2, clf__max_features=auto, clf__max_depth=50, clf__bootstrap=False \n",
      "[CV]  clf__n_estimators=1200, clf__min_samples_split=5, clf__min_samples_leaf=2, clf__max_features=auto, clf__max_depth=50, clf__bootstrap=False, score=0.8532116032116032, total=  10.2s\n",
      "[Parallel(n_jobs=1)]: Done  30 out of  30 | elapsed:  4.8min remaining:    0.0s\n",
      "[CV] clf__n_estimators=1200, clf__min_samples_split=5, clf__min_samples_leaf=1, clf__max_features=auto, clf__max_depth=80, clf__bootstrap=True \n",
      "[CV]  clf__n_estimators=1200, clf__min_samples_split=5, clf__min_samples_leaf=1, clf__max_features=auto, clf__max_depth=80, clf__bootstrap=True, score=0.8082738210126745, total=   6.9s\n",
      "[Parallel(n_jobs=1)]: Done  31 out of  31 | elapsed:  4.9min remaining:    0.0s\n",
      "[CV] clf__n_estimators=1200, clf__min_samples_split=5, clf__min_samples_leaf=1, clf__max_features=auto, clf__max_depth=80, clf__bootstrap=True \n",
      "[CV]  clf__n_estimators=1200, clf__min_samples_split=5, clf__min_samples_leaf=1, clf__max_features=auto, clf__max_depth=80, clf__bootstrap=True, score=0.8425925925925926, total=   6.9s\n",
      "[Parallel(n_jobs=1)]: Done  32 out of  32 | elapsed:  5.0min remaining:    0.0s\n",
      "[CV] clf__n_estimators=1200, clf__min_samples_split=5, clf__min_samples_leaf=1, clf__max_features=auto, clf__max_depth=80, clf__bootstrap=True \n",
      "[CV]  clf__n_estimators=1200, clf__min_samples_split=5, clf__min_samples_leaf=1, clf__max_features=auto, clf__max_depth=80, clf__bootstrap=True, score=0.8544418544418544, total=   6.9s\n",
      "[Parallel(n_jobs=1)]: Done  33 out of  33 | elapsed:  5.1min remaining:    0.0s\n",
      "[CV] clf__n_estimators=200, clf__min_samples_split=2, clf__min_samples_leaf=2, clf__max_features=sqrt, clf__max_depth=90, clf__bootstrap=True \n",
      "[CV]  clf__n_estimators=200, clf__min_samples_split=2, clf__min_samples_leaf=2, clf__max_features=sqrt, clf__max_depth=90, clf__bootstrap=True, score=0.8046709129511678, total=   1.2s\n",
      "[Parallel(n_jobs=1)]: Done  34 out of  34 | elapsed:  5.1min remaining:    0.0s\n",
      "[CV] clf__n_estimators=200, clf__min_samples_split=2, clf__min_samples_leaf=2, clf__max_features=sqrt, clf__max_depth=90, clf__bootstrap=True \n",
      "[CV]  clf__n_estimators=200, clf__min_samples_split=2, clf__min_samples_leaf=2, clf__max_features=sqrt, clf__max_depth=90, clf__bootstrap=True, score=0.8385780885780886, total=   1.2s\n",
      "[Parallel(n_jobs=1)]: Done  35 out of  35 | elapsed:  5.2min remaining:    0.0s\n",
      "[CV] clf__n_estimators=200, clf__min_samples_split=2, clf__min_samples_leaf=2, clf__max_features=sqrt, clf__max_depth=90, clf__bootstrap=True \n",
      "[CV]  clf__n_estimators=200, clf__min_samples_split=2, clf__min_samples_leaf=2, clf__max_features=sqrt, clf__max_depth=90, clf__bootstrap=True, score=0.8511396011396011, total=   1.1s\n",
      "[Parallel(n_jobs=1)]: Done  36 out of  36 | elapsed:  5.2min remaining:    0.0s\n",
      "[CV] clf__n_estimators=1200, clf__min_samples_split=5, clf__min_samples_leaf=1, clf__max_features=auto, clf__max_depth=70, clf__bootstrap=True \n",
      "[CV]  clf__n_estimators=1200, clf__min_samples_split=5, clf__min_samples_leaf=1, clf__max_features=auto, clf__max_depth=70, clf__bootstrap=True, score=0.8094318986038731, total=   6.8s\n",
      "[Parallel(n_jobs=1)]: Done  37 out of  37 | elapsed:  5.3min remaining:    0.0s\n",
      "[CV] clf__n_estimators=1200, clf__min_samples_split=5, clf__min_samples_leaf=1, clf__max_features=auto, clf__max_depth=70, clf__bootstrap=True \n",
      "[CV]  clf__n_estimators=1200, clf__min_samples_split=5, clf__min_samples_leaf=1, clf__max_features=auto, clf__max_depth=70, clf__bootstrap=True, score=0.8413623413623413, total=   7.0s\n",
      "[Parallel(n_jobs=1)]: Done  38 out of  38 | elapsed:  5.4min remaining:    0.0s\n",
      "[CV] clf__n_estimators=1200, clf__min_samples_split=5, clf__min_samples_leaf=1, clf__max_features=auto, clf__max_depth=70, clf__bootstrap=True \n",
      "[CV]  clf__n_estimators=1200, clf__min_samples_split=5, clf__min_samples_leaf=1, clf__max_features=auto, clf__max_depth=70, clf__bootstrap=True, score=0.853017353017353, total=   6.9s\n",
      "[Parallel(n_jobs=1)]: Done  39 out of  39 | elapsed:  5.5min remaining:    0.0s\n",
      "[CV] clf__n_estimators=1200, clf__min_samples_split=2, clf__min_samples_leaf=1, clf__max_features=sqrt, clf__max_depth=40, clf__bootstrap=False \n",
      "[CV]  clf__n_estimators=1200, clf__min_samples_split=2, clf__min_samples_leaf=1, clf__max_features=sqrt, clf__max_depth=40, clf__bootstrap=False, score=0.813517338995046, total=  10.9s\n",
      "[Parallel(n_jobs=1)]: Done  40 out of  40 | elapsed:  5.7min remaining:    0.0s\n",
      "[CV] clf__n_estimators=1200, clf__min_samples_split=2, clf__min_samples_leaf=1, clf__max_features=sqrt, clf__max_depth=40, clf__bootstrap=False \n",
      "[CV]  clf__n_estimators=1200, clf__min_samples_split=2, clf__min_samples_leaf=1, clf__max_features=sqrt, clf__max_depth=40, clf__bootstrap=False, score=0.846056721056721, total=  11.2s\n",
      "[Parallel(n_jobs=1)]: Done  41 out of  41 | elapsed:  5.9min remaining:    0.0s\n",
      "[CV] clf__n_estimators=1200, clf__min_samples_split=2, clf__min_samples_leaf=1, clf__max_features=sqrt, clf__max_depth=40, clf__bootstrap=False \n"
     ]
    },
    {
     "name": "stdout",
     "output_type": "stream",
     "text": [
      "[CV]  clf__n_estimators=1200, clf__min_samples_split=2, clf__min_samples_leaf=1, clf__max_features=sqrt, clf__max_depth=40, clf__bootstrap=False, score=0.8528878528878528, total=  10.9s\n",
      "[Parallel(n_jobs=1)]: Done  42 out of  42 | elapsed:  6.1min remaining:    0.0s\n",
      "[CV] clf__n_estimators=1200, clf__min_samples_split=5, clf__min_samples_leaf=2, clf__max_features=sqrt, clf__max_depth=80, clf__bootstrap=False \n",
      "[CV]  clf__n_estimators=1200, clf__min_samples_split=5, clf__min_samples_leaf=2, clf__max_features=sqrt, clf__max_depth=80, clf__bootstrap=False, score=0.814385897188445, total=  10.3s\n",
      "[Parallel(n_jobs=1)]: Done  43 out of  43 | elapsed:  6.3min remaining:    0.0s\n",
      "[CV] clf__n_estimators=1200, clf__min_samples_split=5, clf__min_samples_leaf=2, clf__max_features=sqrt, clf__max_depth=80, clf__bootstrap=False \n",
      "[CV]  clf__n_estimators=1200, clf__min_samples_split=5, clf__min_samples_leaf=2, clf__max_features=sqrt, clf__max_depth=80, clf__bootstrap=False, score=0.847060347060347, total=  10.5s\n",
      "[Parallel(n_jobs=1)]: Done  44 out of  44 | elapsed:  6.4min remaining:    0.0s\n",
      "[CV] clf__n_estimators=1200, clf__min_samples_split=5, clf__min_samples_leaf=2, clf__max_features=sqrt, clf__max_depth=80, clf__bootstrap=False \n",
      "[CV]  clf__n_estimators=1200, clf__min_samples_split=5, clf__min_samples_leaf=2, clf__max_features=sqrt, clf__max_depth=80, clf__bootstrap=False, score=0.8534058534058534, total=  10.3s\n",
      "[Parallel(n_jobs=1)]: Done  45 out of  45 | elapsed:  6.6min remaining:    0.0s\n",
      "[CV] clf__n_estimators=800, clf__min_samples_split=10, clf__min_samples_leaf=2, clf__max_features=sqrt, clf__max_depth=50, clf__bootstrap=True \n",
      "[CV]  clf__n_estimators=800, clf__min_samples_split=10, clf__min_samples_leaf=2, clf__max_features=sqrt, clf__max_depth=50, clf__bootstrap=True, score=0.8027407836325032, total=   4.2s\n",
      "[Parallel(n_jobs=1)]: Done  46 out of  46 | elapsed:  6.7min remaining:    0.0s\n",
      "[CV] clf__n_estimators=800, clf__min_samples_split=10, clf__min_samples_leaf=2, clf__max_features=sqrt, clf__max_depth=50, clf__bootstrap=True \n",
      "[CV]  clf__n_estimators=800, clf__min_samples_split=10, clf__min_samples_leaf=2, clf__max_features=sqrt, clf__max_depth=50, clf__bootstrap=True, score=0.8386428386428386, total=   4.3s\n",
      "[Parallel(n_jobs=1)]: Done  47 out of  47 | elapsed:  6.8min remaining:    0.0s\n",
      "[CV] clf__n_estimators=800, clf__min_samples_split=10, clf__min_samples_leaf=2, clf__max_features=sqrt, clf__max_depth=50, clf__bootstrap=True \n",
      "[CV]  clf__n_estimators=800, clf__min_samples_split=10, clf__min_samples_leaf=2, clf__max_features=sqrt, clf__max_depth=50, clf__bootstrap=True, score=0.8535353535353535, total=   4.3s\n",
      "[Parallel(n_jobs=1)]: Done  48 out of  48 | elapsed:  6.8min remaining:    0.0s\n",
      "[CV] clf__n_estimators=600, clf__min_samples_split=10, clf__min_samples_leaf=4, clf__max_features=auto, clf__max_depth=None, clf__bootstrap=True \n",
      "[CV]  clf__n_estimators=600, clf__min_samples_split=10, clf__min_samples_leaf=4, clf__max_features=auto, clf__max_depth=None, clf__bootstrap=True, score=0.8073730939972977, total=   3.0s\n",
      "[Parallel(n_jobs=1)]: Done  49 out of  49 | elapsed:  6.9min remaining:    0.0s\n",
      "[CV] clf__n_estimators=600, clf__min_samples_split=10, clf__min_samples_leaf=4, clf__max_features=auto, clf__max_depth=None, clf__bootstrap=True \n",
      "[CV]  clf__n_estimators=600, clf__min_samples_split=10, clf__min_samples_leaf=4, clf__max_features=auto, clf__max_depth=None, clf__bootstrap=True, score=0.8383190883190883, total=   3.0s\n",
      "[Parallel(n_jobs=1)]: Done  50 out of  50 | elapsed:  6.9min remaining:    0.0s\n",
      "[CV] clf__n_estimators=600, clf__min_samples_split=10, clf__min_samples_leaf=4, clf__max_features=auto, clf__max_depth=None, clf__bootstrap=True \n",
      "[CV]  clf__n_estimators=600, clf__min_samples_split=10, clf__min_samples_leaf=4, clf__max_features=auto, clf__max_depth=None, clf__bootstrap=True, score=0.8527583527583528, total=   3.0s\n",
      "[Parallel(n_jobs=1)]: Done  51 out of  51 | elapsed:  7.0min remaining:    0.0s\n",
      "[CV] clf__n_estimators=1800, clf__min_samples_split=5, clf__min_samples_leaf=1, clf__max_features=sqrt, clf__max_depth=80, clf__bootstrap=False \n",
      "[CV]  clf__n_estimators=1800, clf__min_samples_split=5, clf__min_samples_leaf=1, clf__max_features=sqrt, clf__max_depth=80, clf__bootstrap=False, score=0.8153509618477771, total=  16.3s\n",
      "[Parallel(n_jobs=1)]: Done  52 out of  52 | elapsed:  7.3min remaining:    0.0s\n",
      "[CV] clf__n_estimators=1800, clf__min_samples_split=5, clf__min_samples_leaf=1, clf__max_features=sqrt, clf__max_depth=80, clf__bootstrap=False \n",
      "[CV]  clf__n_estimators=1800, clf__min_samples_split=5, clf__min_samples_leaf=1, clf__max_features=sqrt, clf__max_depth=80, clf__bootstrap=False, score=0.8458300958300959, total=  16.5s\n",
      "[Parallel(n_jobs=1)]: Done  53 out of  53 | elapsed:  7.5min remaining:    0.0s\n",
      "[CV] clf__n_estimators=1800, clf__min_samples_split=5, clf__min_samples_leaf=1, clf__max_features=sqrt, clf__max_depth=80, clf__bootstrap=False \n",
      "[CV]  clf__n_estimators=1800, clf__min_samples_split=5, clf__min_samples_leaf=1, clf__max_features=sqrt, clf__max_depth=80, clf__bootstrap=False, score=0.853017353017353, total=  16.0s\n",
      "[Parallel(n_jobs=1)]: Done  54 out of  54 | elapsed:  7.8min remaining:    0.0s\n",
      "[CV] clf__n_estimators=600, clf__min_samples_split=2, clf__min_samples_leaf=1, clf__max_features=sqrt, clf__max_depth=30, clf__bootstrap=False \n",
      "[CV]  clf__n_estimators=600, clf__min_samples_split=2, clf__min_samples_leaf=1, clf__max_features=sqrt, clf__max_depth=30, clf__bootstrap=False, score=0.816219520041176, total=   5.5s\n",
      "[Parallel(n_jobs=1)]: Done  55 out of  55 | elapsed:  7.9min remaining:    0.0s\n",
      "[CV] clf__n_estimators=600, clf__min_samples_split=2, clf__min_samples_leaf=1, clf__max_features=sqrt, clf__max_depth=30, clf__bootstrap=False \n",
      "[CV]  clf__n_estimators=600, clf__min_samples_split=2, clf__min_samples_leaf=1, clf__max_features=sqrt, clf__max_depth=30, clf__bootstrap=False, score=0.8461538461538461, total=   5.6s\n",
      "[Parallel(n_jobs=1)]: Done  56 out of  56 | elapsed:  8.0min remaining:    0.0s\n",
      "[CV] clf__n_estimators=600, clf__min_samples_split=2, clf__min_samples_leaf=1, clf__max_features=sqrt, clf__max_depth=30, clf__bootstrap=False \n",
      "[CV]  clf__n_estimators=600, clf__min_samples_split=2, clf__min_samples_leaf=1, clf__max_features=sqrt, clf__max_depth=30, clf__bootstrap=False, score=0.8531144781144782, total=   5.4s\n",
      "[Parallel(n_jobs=1)]: Done  57 out of  57 | elapsed:  8.1min remaining:    0.0s\n",
      "[CV] clf__n_estimators=1000, clf__min_samples_split=5, clf__min_samples_leaf=4, clf__max_features=sqrt, clf__max_depth=60, clf__bootstrap=False \n",
      "[CV]  clf__n_estimators=1000, clf__min_samples_split=5, clf__min_samples_leaf=4, clf__max_features=sqrt, clf__max_depth=60, clf__bootstrap=False, score=0.8134851701730683, total=   7.9s\n",
      "[Parallel(n_jobs=1)]: Done  58 out of  58 | elapsed:  8.2min remaining:    0.0s\n",
      "[CV] clf__n_estimators=1000, clf__min_samples_split=5, clf__min_samples_leaf=4, clf__max_features=sqrt, clf__max_depth=60, clf__bootstrap=False \n",
      "[CV]  clf__n_estimators=1000, clf__min_samples_split=5, clf__min_samples_leaf=4, clf__max_features=sqrt, clf__max_depth=60, clf__bootstrap=False, score=0.8445998445998446, total=   8.0s\n",
      "[Parallel(n_jobs=1)]: Done  59 out of  59 | elapsed:  8.4min remaining:    0.0s\n",
      "[CV] clf__n_estimators=1000, clf__min_samples_split=5, clf__min_samples_leaf=4, clf__max_features=sqrt, clf__max_depth=60, clf__bootstrap=False \n",
      "[CV]  clf__n_estimators=1000, clf__min_samples_split=5, clf__min_samples_leaf=4, clf__max_features=sqrt, clf__max_depth=60, clf__bootstrap=False, score=0.8558016058016059, total=   7.9s\n",
      "[Parallel(n_jobs=1)]: Done  60 out of  60 | elapsed:  8.5min remaining:    0.0s\n",
      "[CV] clf__n_estimators=800, clf__min_samples_split=10, clf__min_samples_leaf=2, clf__max_features=auto, clf__max_depth=30, clf__bootstrap=True \n",
      "[CV]  clf__n_estimators=800, clf__min_samples_split=10, clf__min_samples_leaf=2, clf__max_features=auto, clf__max_depth=30, clf__bootstrap=True, score=0.8049926011709452, total=   4.3s\n",
      "[Parallel(n_jobs=1)]: Done  61 out of  61 | elapsed:  8.6min remaining:    0.0s\n",
      "[CV] clf__n_estimators=800, clf__min_samples_split=10, clf__min_samples_leaf=2, clf__max_features=auto, clf__max_depth=30, clf__bootstrap=True \n"
     ]
    },
    {
     "name": "stdout",
     "output_type": "stream",
     "text": [
      "[CV]  clf__n_estimators=800, clf__min_samples_split=10, clf__min_samples_leaf=2, clf__max_features=auto, clf__max_depth=30, clf__bootstrap=True, score=0.8384485884485884, total=   4.3s\n",
      "[Parallel(n_jobs=1)]: Done  62 out of  62 | elapsed:  8.6min remaining:    0.0s\n",
      "[CV] clf__n_estimators=800, clf__min_samples_split=10, clf__min_samples_leaf=2, clf__max_features=auto, clf__max_depth=30, clf__bootstrap=True \n",
      "[CV]  clf__n_estimators=800, clf__min_samples_split=10, clf__min_samples_leaf=2, clf__max_features=auto, clf__max_depth=30, clf__bootstrap=True, score=0.8505568505568506, total=   4.3s\n",
      "[Parallel(n_jobs=1)]: Done  63 out of  63 | elapsed:  8.7min remaining:    0.0s\n",
      "[CV] clf__n_estimators=1800, clf__min_samples_split=2, clf__min_samples_leaf=2, clf__max_features=sqrt, clf__max_depth=50, clf__bootstrap=True \n",
      "[CV]  clf__n_estimators=1800, clf__min_samples_split=2, clf__min_samples_leaf=2, clf__max_features=sqrt, clf__max_depth=50, clf__bootstrap=True, score=0.8069227304896094, total=   9.7s\n",
      "[Parallel(n_jobs=1)]: Done  64 out of  64 | elapsed:  8.9min remaining:    0.0s\n",
      "[CV] clf__n_estimators=1800, clf__min_samples_split=2, clf__min_samples_leaf=2, clf__max_features=sqrt, clf__max_depth=50, clf__bootstrap=True \n",
      "[CV]  clf__n_estimators=1800, clf__min_samples_split=2, clf__min_samples_leaf=2, clf__max_features=sqrt, clf__max_depth=50, clf__bootstrap=True, score=0.8445998445998446, total=   9.8s\n",
      "[Parallel(n_jobs=1)]: Done  65 out of  65 | elapsed:  9.0min remaining:    0.0s\n",
      "[CV] clf__n_estimators=1800, clf__min_samples_split=2, clf__min_samples_leaf=2, clf__max_features=sqrt, clf__max_depth=50, clf__bootstrap=True \n",
      "[CV]  clf__n_estimators=1800, clf__min_samples_split=2, clf__min_samples_leaf=2, clf__max_features=sqrt, clf__max_depth=50, clf__bootstrap=True, score=0.8565786065786066, total=   9.7s\n",
      "[Parallel(n_jobs=1)]: Done  66 out of  66 | elapsed:  9.2min remaining:    0.0s\n",
      "[CV] clf__n_estimators=1800, clf__min_samples_split=10, clf__min_samples_leaf=2, clf__max_features=sqrt, clf__max_depth=90, clf__bootstrap=False \n",
      "[CV]  clf__n_estimators=1800, clf__min_samples_split=10, clf__min_samples_leaf=2, clf__max_features=sqrt, clf__max_depth=90, clf__bootstrap=False, score=0.812777456089558, total=  15.1s\n",
      "[Parallel(n_jobs=1)]: Done  67 out of  67 | elapsed:  9.5min remaining:    0.0s\n",
      "[CV] clf__n_estimators=1800, clf__min_samples_split=10, clf__min_samples_leaf=2, clf__max_features=sqrt, clf__max_depth=90, clf__bootstrap=False \n",
      "[CV]  clf__n_estimators=1800, clf__min_samples_split=10, clf__min_samples_leaf=2, clf__max_features=sqrt, clf__max_depth=90, clf__bootstrap=False, score=0.8479020979020979, total=  15.4s\n",
      "[Parallel(n_jobs=1)]: Done  68 out of  68 | elapsed:  9.7min remaining:    0.0s\n",
      "[CV] clf__n_estimators=1800, clf__min_samples_split=10, clf__min_samples_leaf=2, clf__max_features=sqrt, clf__max_depth=90, clf__bootstrap=False \n",
      "[CV]  clf__n_estimators=1800, clf__min_samples_split=10, clf__min_samples_leaf=2, clf__max_features=sqrt, clf__max_depth=90, clf__bootstrap=False, score=0.8547008547008547, total=  15.1s\n",
      "[Parallel(n_jobs=1)]: Done  69 out of  69 | elapsed: 10.0min remaining:    0.0s\n",
      "[CV] clf__n_estimators=400, clf__min_samples_split=2, clf__min_samples_leaf=2, clf__max_features=auto, clf__max_depth=80, clf__bootstrap=False \n",
      "[CV]  clf__n_estimators=400, clf__min_samples_split=2, clf__min_samples_leaf=2, clf__max_features=auto, clf__max_depth=80, clf__bootstrap=False, score=0.8160586759312873, total=   3.5s\n",
      "[Parallel(n_jobs=1)]: Done  70 out of  70 | elapsed: 10.0min remaining:    0.0s\n",
      "[CV] clf__n_estimators=400, clf__min_samples_split=2, clf__min_samples_leaf=2, clf__max_features=auto, clf__max_depth=80, clf__bootstrap=False \n",
      "[CV]  clf__n_estimators=400, clf__min_samples_split=2, clf__min_samples_leaf=2, clf__max_features=auto, clf__max_depth=80, clf__bootstrap=False, score=0.843045843045843, total=   3.5s\n",
      "[Parallel(n_jobs=1)]: Done  71 out of  71 | elapsed: 10.1min remaining:    0.0s\n",
      "[CV] clf__n_estimators=400, clf__min_samples_split=2, clf__min_samples_leaf=2, clf__max_features=auto, clf__max_depth=80, clf__bootstrap=False \n",
      "[CV]  clf__n_estimators=400, clf__min_samples_split=2, clf__min_samples_leaf=2, clf__max_features=auto, clf__max_depth=80, clf__bootstrap=False, score=0.8469955969955971, total=   3.5s\n",
      "[Parallel(n_jobs=1)]: Done  72 out of  72 | elapsed: 10.2min remaining:    0.0s\n",
      "[CV] clf__n_estimators=400, clf__min_samples_split=5, clf__min_samples_leaf=4, clf__max_features=auto, clf__max_depth=40, clf__bootstrap=False \n",
      "[CV]  clf__n_estimators=400, clf__min_samples_split=5, clf__min_samples_leaf=4, clf__max_features=auto, clf__max_depth=40, clf__bootstrap=False, score=0.8174097664543525, total=   3.2s\n",
      "[Parallel(n_jobs=1)]: Done  73 out of  73 | elapsed: 10.2min remaining:    0.0s\n",
      "[CV] clf__n_estimators=400, clf__min_samples_split=5, clf__min_samples_leaf=4, clf__max_features=auto, clf__max_depth=40, clf__bootstrap=False \n",
      "[CV]  clf__n_estimators=400, clf__min_samples_split=5, clf__min_samples_leaf=4, clf__max_features=auto, clf__max_depth=40, clf__bootstrap=False, score=0.8423335923335924, total=   3.2s\n",
      "[Parallel(n_jobs=1)]: Done  74 out of  74 | elapsed: 10.3min remaining:    0.0s\n",
      "[CV] clf__n_estimators=400, clf__min_samples_split=5, clf__min_samples_leaf=4, clf__max_features=auto, clf__max_depth=40, clf__bootstrap=False \n",
      "[CV]  clf__n_estimators=400, clf__min_samples_split=5, clf__min_samples_leaf=4, clf__max_features=auto, clf__max_depth=40, clf__bootstrap=False, score=0.8536001036001035, total=   3.2s\n",
      "[Parallel(n_jobs=1)]: Done  75 out of  75 | elapsed: 10.3min remaining:    0.0s\n",
      "[CV] clf__n_estimators=1000, clf__min_samples_split=5, clf__min_samples_leaf=4, clf__max_features=sqrt, clf__max_depth=None, clf__bootstrap=True \n",
      "[CV]  clf__n_estimators=1000, clf__min_samples_split=5, clf__min_samples_leaf=4, clf__max_features=sqrt, clf__max_depth=None, clf__bootstrap=True, score=0.8113620279225374, total=   4.9s\n",
      "[Parallel(n_jobs=1)]: Done  76 out of  76 | elapsed: 10.4min remaining:    0.0s\n",
      "[CV] clf__n_estimators=1000, clf__min_samples_split=5, clf__min_samples_leaf=4, clf__max_features=sqrt, clf__max_depth=None, clf__bootstrap=True \n",
      "[CV]  clf__n_estimators=1000, clf__min_samples_split=5, clf__min_samples_leaf=4, clf__max_features=sqrt, clf__max_depth=None, clf__bootstrap=True, score=0.8387075887075887, total=   5.0s\n",
      "[Parallel(n_jobs=1)]: Done  77 out of  77 | elapsed: 10.5min remaining:    0.0s\n",
      "[CV] clf__n_estimators=1000, clf__min_samples_split=5, clf__min_samples_leaf=4, clf__max_features=sqrt, clf__max_depth=None, clf__bootstrap=True \n",
      "[CV]  clf__n_estimators=1000, clf__min_samples_split=5, clf__min_samples_leaf=4, clf__max_features=sqrt, clf__max_depth=None, clf__bootstrap=True, score=0.85003885003885, total=   4.9s\n",
      "[Parallel(n_jobs=1)]: Done  78 out of  78 | elapsed: 10.6min remaining:    0.0s\n",
      "[CV] clf__n_estimators=400, clf__min_samples_split=10, clf__min_samples_leaf=2, clf__max_features=auto, clf__max_depth=80, clf__bootstrap=True \n",
      "[CV]  clf__n_estimators=400, clf__min_samples_split=10, clf__min_samples_leaf=2, clf__max_features=auto, clf__max_depth=80, clf__bootstrap=True, score=0.8098822621115614, total=   2.2s\n",
      "[Parallel(n_jobs=1)]: Done  79 out of  79 | elapsed: 10.6min remaining:    0.0s\n",
      "[CV] clf__n_estimators=400, clf__min_samples_split=10, clf__min_samples_leaf=2, clf__max_features=auto, clf__max_depth=80, clf__bootstrap=True \n",
      "[CV]  clf__n_estimators=400, clf__min_samples_split=10, clf__min_samples_leaf=2, clf__max_features=auto, clf__max_depth=80, clf__bootstrap=True, score=0.8389665889665889, total=   2.2s\n",
      "[Parallel(n_jobs=1)]: Done  80 out of  80 | elapsed: 10.7min remaining:    0.0s\n",
      "[CV] clf__n_estimators=400, clf__min_samples_split=10, clf__min_samples_leaf=2, clf__max_features=auto, clf__max_depth=80, clf__bootstrap=True \n",
      "[CV]  clf__n_estimators=400, clf__min_samples_split=10, clf__min_samples_leaf=2, clf__max_features=auto, clf__max_depth=80, clf__bootstrap=True, score=0.8564491064491064, total=   2.2s\n",
      "[Parallel(n_jobs=1)]: Done  81 out of  81 | elapsed: 10.7min remaining:    0.0s\n",
      "[CV] clf__n_estimators=1800, clf__min_samples_split=2, clf__min_samples_leaf=1, clf__max_features=auto, clf__max_depth=70, clf__bootstrap=True \n"
     ]
    },
    {
     "name": "stdout",
     "output_type": "stream",
     "text": [
      "[CV]  clf__n_estimators=1800, clf__min_samples_split=2, clf__min_samples_leaf=1, clf__max_features=auto, clf__max_depth=70, clf__bootstrap=True, score=0.8127452872675802, total=  10.4s\n",
      "[Parallel(n_jobs=1)]: Done  82 out of  82 | elapsed: 10.9min remaining:    0.0s\n",
      "[CV] clf__n_estimators=1800, clf__min_samples_split=2, clf__min_samples_leaf=1, clf__max_features=auto, clf__max_depth=70, clf__bootstrap=True \n",
      "[CV]  clf__n_estimators=1800, clf__min_samples_split=2, clf__min_samples_leaf=1, clf__max_features=auto, clf__max_depth=70, clf__bootstrap=True, score=0.8452149702149703, total=  10.7s\n",
      "[Parallel(n_jobs=1)]: Done  83 out of  83 | elapsed: 11.0min remaining:    0.0s\n",
      "[CV] clf__n_estimators=1800, clf__min_samples_split=2, clf__min_samples_leaf=1, clf__max_features=auto, clf__max_depth=70, clf__bootstrap=True \n",
      "[CV]  clf__n_estimators=1800, clf__min_samples_split=2, clf__min_samples_leaf=1, clf__max_features=auto, clf__max_depth=70, clf__bootstrap=True, score=0.8544742294742295, total=  10.5s\n",
      "[Parallel(n_jobs=1)]: Done  84 out of  84 | elapsed: 11.2min remaining:    0.0s\n",
      "[CV] clf__n_estimators=200, clf__min_samples_split=5, clf__min_samples_leaf=1, clf__max_features=sqrt, clf__max_depth=100, clf__bootstrap=True \n",
      "[CV]  clf__n_estimators=200, clf__min_samples_split=5, clf__min_samples_leaf=1, clf__max_features=sqrt, clf__max_depth=100, clf__bootstrap=True, score=0.808466833944541, total=   1.2s\n",
      "[Parallel(n_jobs=1)]: Done  85 out of  85 | elapsed: 11.2min remaining:    0.0s\n",
      "[CV] clf__n_estimators=200, clf__min_samples_split=5, clf__min_samples_leaf=1, clf__max_features=sqrt, clf__max_depth=100, clf__bootstrap=True \n",
      "[CV]  clf__n_estimators=200, clf__min_samples_split=5, clf__min_samples_leaf=1, clf__max_features=sqrt, clf__max_depth=100, clf__bootstrap=True, score=0.8404558404558404, total=   1.2s\n",
      "[Parallel(n_jobs=1)]: Done  86 out of  86 | elapsed: 11.3min remaining:    0.0s\n",
      "[CV] clf__n_estimators=200, clf__min_samples_split=5, clf__min_samples_leaf=1, clf__max_features=sqrt, clf__max_depth=100, clf__bootstrap=True \n",
      "[CV]  clf__n_estimators=200, clf__min_samples_split=5, clf__min_samples_leaf=1, clf__max_features=sqrt, clf__max_depth=100, clf__bootstrap=True, score=0.8550893550893551, total=   1.2s\n",
      "[Parallel(n_jobs=1)]: Done  87 out of  87 | elapsed: 11.3min remaining:    0.0s\n",
      "[CV] clf__n_estimators=1600, clf__min_samples_split=10, clf__min_samples_leaf=1, clf__max_features=auto, clf__max_depth=80, clf__bootstrap=False \n",
      "[CV]  clf__n_estimators=1600, clf__min_samples_split=10, clf__min_samples_leaf=1, clf__max_features=auto, clf__max_depth=80, clf__bootstrap=False, score=0.8127131184456026, total=  14.1s\n",
      "[Parallel(n_jobs=1)]: Done  88 out of  88 | elapsed: 11.5min remaining:    0.0s\n",
      "[CV] clf__n_estimators=1600, clf__min_samples_split=10, clf__min_samples_leaf=1, clf__max_features=auto, clf__max_depth=80, clf__bootstrap=False \n",
      "[CV]  clf__n_estimators=1600, clf__min_samples_split=10, clf__min_samples_leaf=1, clf__max_features=auto, clf__max_depth=80, clf__bootstrap=False, score=0.843952343952344, total=  14.4s\n",
      "[Parallel(n_jobs=1)]: Done  89 out of  89 | elapsed: 11.8min remaining:    0.0s\n",
      "[CV] clf__n_estimators=1600, clf__min_samples_split=10, clf__min_samples_leaf=1, clf__max_features=auto, clf__max_depth=80, clf__bootstrap=False \n",
      "[CV]  clf__n_estimators=1600, clf__min_samples_split=10, clf__min_samples_leaf=1, clf__max_features=auto, clf__max_depth=80, clf__bootstrap=False, score=0.8551541051541052, total=  14.0s\n",
      "[Parallel(n_jobs=1)]: Done  90 out of  90 | elapsed: 12.0min remaining:    0.0s\n",
      "[CV] clf__n_estimators=400, clf__min_samples_split=5, clf__min_samples_leaf=4, clf__max_features=sqrt, clf__max_depth=70, clf__bootstrap=True \n",
      "[CV]  clf__n_estimators=400, clf__min_samples_split=5, clf__min_samples_leaf=4, clf__max_features=sqrt, clf__max_depth=70, clf__bootstrap=True, score=0.8058933281863219, total=   2.1s\n",
      "[Parallel(n_jobs=1)]: Done  91 out of  91 | elapsed: 12.0min remaining:    0.0s\n",
      "[CV] clf__n_estimators=400, clf__min_samples_split=5, clf__min_samples_leaf=4, clf__max_features=sqrt, clf__max_depth=70, clf__bootstrap=True \n",
      "[CV]  clf__n_estimators=400, clf__min_samples_split=5, clf__min_samples_leaf=4, clf__max_features=sqrt, clf__max_depth=70, clf__bootstrap=True, score=0.8401320901320901, total=   2.0s\n",
      "[Parallel(n_jobs=1)]: Done  92 out of  92 | elapsed: 12.1min remaining:    0.0s\n",
      "[CV] clf__n_estimators=400, clf__min_samples_split=5, clf__min_samples_leaf=4, clf__max_features=sqrt, clf__max_depth=70, clf__bootstrap=True \n",
      "[CV]  clf__n_estimators=400, clf__min_samples_split=5, clf__min_samples_leaf=4, clf__max_features=sqrt, clf__max_depth=70, clf__bootstrap=True, score=0.8552836052836054, total=   2.0s\n",
      "[Parallel(n_jobs=1)]: Done  93 out of  93 | elapsed: 12.1min remaining:    0.0s\n",
      "[CV] clf__n_estimators=800, clf__min_samples_split=5, clf__min_samples_leaf=4, clf__max_features=auto, clf__max_depth=60, clf__bootstrap=False \n",
      "[CV]  clf__n_estimators=800, clf__min_samples_split=5, clf__min_samples_leaf=4, clf__max_features=auto, clf__max_depth=60, clf__bootstrap=False, score=0.8158013253554655, total=   6.3s\n",
      "[Parallel(n_jobs=1)]: Done  94 out of  94 | elapsed: 12.2min remaining:    0.0s\n",
      "[CV] clf__n_estimators=800, clf__min_samples_split=5, clf__min_samples_leaf=4, clf__max_features=auto, clf__max_depth=60, clf__bootstrap=False \n",
      "[CV]  clf__n_estimators=800, clf__min_samples_split=5, clf__min_samples_leaf=4, clf__max_features=auto, clf__max_depth=60, clf__bootstrap=False, score=0.8428515928515928, total=   6.4s\n",
      "[Parallel(n_jobs=1)]: Done  95 out of  95 | elapsed: 12.3min remaining:    0.0s\n",
      "[CV] clf__n_estimators=800, clf__min_samples_split=5, clf__min_samples_leaf=4, clf__max_features=auto, clf__max_depth=60, clf__bootstrap=False \n",
      "[CV]  clf__n_estimators=800, clf__min_samples_split=5, clf__min_samples_leaf=4, clf__max_features=auto, clf__max_depth=60, clf__bootstrap=False, score=0.8549598549598549, total=   6.4s\n",
      "[Parallel(n_jobs=1)]: Done  96 out of  96 | elapsed: 12.4min remaining:    0.0s\n",
      "[CV] clf__n_estimators=1200, clf__min_samples_split=10, clf__min_samples_leaf=2, clf__max_features=sqrt, clf__max_depth=30, clf__bootstrap=True \n",
      "[CV]  clf__n_estimators=1200, clf__min_samples_split=10, clf__min_samples_leaf=2, clf__max_features=sqrt, clf__max_depth=30, clf__bootstrap=True, score=0.8072444187093869, total=   6.4s\n",
      "[Parallel(n_jobs=1)]: Done  97 out of  97 | elapsed: 12.5min remaining:    0.0s\n",
      "[CV] clf__n_estimators=1200, clf__min_samples_split=10, clf__min_samples_leaf=2, clf__max_features=sqrt, clf__max_depth=30, clf__bootstrap=True \n",
      "[CV]  clf__n_estimators=1200, clf__min_samples_split=10, clf__min_samples_leaf=2, clf__max_features=sqrt, clf__max_depth=30, clf__bootstrap=True, score=0.8392255892255892, total=   6.4s\n",
      "[Parallel(n_jobs=1)]: Done  98 out of  98 | elapsed: 12.7min remaining:    0.0s\n",
      "[CV] clf__n_estimators=1200, clf__min_samples_split=10, clf__min_samples_leaf=2, clf__max_features=sqrt, clf__max_depth=30, clf__bootstrap=True \n",
      "[CV]  clf__n_estimators=1200, clf__min_samples_split=10, clf__min_samples_leaf=2, clf__max_features=sqrt, clf__max_depth=30, clf__bootstrap=True, score=0.853923853923854, total=   6.3s\n",
      "[Parallel(n_jobs=1)]: Done  99 out of  99 | elapsed: 12.8min remaining:    0.0s\n",
      "[CV] clf__n_estimators=1400, clf__min_samples_split=5, clf__min_samples_leaf=4, clf__max_features=auto, clf__max_depth=40, clf__bootstrap=False \n",
      "[CV]  clf__n_estimators=1400, clf__min_samples_split=5, clf__min_samples_leaf=4, clf__max_features=auto, clf__max_depth=40, clf__bootstrap=False, score=0.8152222865598663, total=  11.0s\n",
      "[Parallel(n_jobs=1)]: Done 100 out of 100 | elapsed: 12.9min remaining:    0.0s\n",
      "[CV] clf__n_estimators=1400, clf__min_samples_split=5, clf__min_samples_leaf=4, clf__max_features=auto, clf__max_depth=40, clf__bootstrap=False \n",
      "[CV]  clf__n_estimators=1400, clf__min_samples_split=5, clf__min_samples_leaf=4, clf__max_features=auto, clf__max_depth=40, clf__bootstrap=False, score=0.8452473452473452, total=  11.2s\n",
      "[Parallel(n_jobs=1)]: Done 101 out of 101 | elapsed: 13.1min remaining:    0.0s\n",
      "[CV] clf__n_estimators=1400, clf__min_samples_split=5, clf__min_samples_leaf=4, clf__max_features=auto, clf__max_depth=40, clf__bootstrap=False \n"
     ]
    },
    {
     "name": "stdout",
     "output_type": "stream",
     "text": [
      "[CV]  clf__n_estimators=1400, clf__min_samples_split=5, clf__min_samples_leaf=4, clf__max_features=auto, clf__max_depth=40, clf__bootstrap=False, score=0.8552188552188553, total=  11.1s\n",
      "[Parallel(n_jobs=1)]: Done 102 out of 102 | elapsed: 13.3min remaining:    0.0s\n",
      "[CV] clf__n_estimators=1200, clf__min_samples_split=5, clf__min_samples_leaf=1, clf__max_features=sqrt, clf__max_depth=20, clf__bootstrap=True \n",
      "[CV]  clf__n_estimators=1200, clf__min_samples_split=5, clf__min_samples_leaf=1, clf__max_features=sqrt, clf__max_depth=20, clf__bootstrap=True, score=0.809560573891784, total=   6.9s\n",
      "[Parallel(n_jobs=1)]: Done 103 out of 103 | elapsed: 13.4min remaining:    0.0s\n",
      "[CV] clf__n_estimators=1200, clf__min_samples_split=5, clf__min_samples_leaf=1, clf__max_features=sqrt, clf__max_depth=20, clf__bootstrap=True \n",
      "[CV]  clf__n_estimators=1200, clf__min_samples_split=5, clf__min_samples_leaf=1, clf__max_features=sqrt, clf__max_depth=20, clf__bootstrap=True, score=0.8434990934990936, total=   6.9s\n",
      "[Parallel(n_jobs=1)]: Done 104 out of 104 | elapsed: 13.6min remaining:    0.0s\n",
      "[CV] clf__n_estimators=1200, clf__min_samples_split=5, clf__min_samples_leaf=1, clf__max_features=sqrt, clf__max_depth=20, clf__bootstrap=True \n",
      "[CV]  clf__n_estimators=1200, clf__min_samples_split=5, clf__min_samples_leaf=1, clf__max_features=sqrt, clf__max_depth=20, clf__bootstrap=True, score=0.8520461020461021, total=   6.9s\n",
      "[Parallel(n_jobs=1)]: Done 105 out of 105 | elapsed: 13.7min remaining:    0.0s\n",
      "[CV] clf__n_estimators=600, clf__min_samples_split=2, clf__min_samples_leaf=2, clf__max_features=auto, clf__max_depth=10, clf__bootstrap=True \n",
      "[CV]  clf__n_estimators=600, clf__min_samples_split=2, clf__min_samples_leaf=2, clf__max_features=auto, clf__max_depth=10, clf__bootstrap=True, score=0.8061506787621437, total=   3.3s\n",
      "[Parallel(n_jobs=1)]: Done 106 out of 106 | elapsed: 13.7min remaining:    0.0s\n",
      "[CV] clf__n_estimators=600, clf__min_samples_split=2, clf__min_samples_leaf=2, clf__max_features=auto, clf__max_depth=10, clf__bootstrap=True \n",
      "[CV]  clf__n_estimators=600, clf__min_samples_split=2, clf__min_samples_leaf=2, clf__max_features=auto, clf__max_depth=10, clf__bootstrap=True, score=0.844017094017094, total=   3.3s\n",
      "[Parallel(n_jobs=1)]: Done 107 out of 107 | elapsed: 13.8min remaining:    0.0s\n",
      "[CV] clf__n_estimators=600, clf__min_samples_split=2, clf__min_samples_leaf=2, clf__max_features=auto, clf__max_depth=10, clf__bootstrap=True \n",
      "[CV]  clf__n_estimators=600, clf__min_samples_split=2, clf__min_samples_leaf=2, clf__max_features=auto, clf__max_depth=10, clf__bootstrap=True, score=0.8535353535353536, total=   3.2s\n",
      "[Parallel(n_jobs=1)]: Done 108 out of 108 | elapsed: 13.8min remaining:    0.0s\n",
      "[CV] clf__n_estimators=800, clf__min_samples_split=10, clf__min_samples_leaf=2, clf__max_features=sqrt, clf__max_depth=10, clf__bootstrap=False \n",
      "[CV]  clf__n_estimators=800, clf__min_samples_split=10, clf__min_samples_leaf=2, clf__max_features=sqrt, clf__max_depth=10, clf__bootstrap=False, score=0.8131634819532909, total=   6.7s\n",
      "[Parallel(n_jobs=1)]: Done 109 out of 109 | elapsed: 14.0min remaining:    0.0s\n",
      "[CV] clf__n_estimators=800, clf__min_samples_split=10, clf__min_samples_leaf=2, clf__max_features=sqrt, clf__max_depth=10, clf__bootstrap=False \n",
      "[CV]  clf__n_estimators=800, clf__min_samples_split=10, clf__min_samples_leaf=2, clf__max_features=sqrt, clf__max_depth=10, clf__bootstrap=False, score=0.8463480963480964, total=   6.8s\n",
      "[Parallel(n_jobs=1)]: Done 110 out of 110 | elapsed: 14.1min remaining:    0.0s\n",
      "[CV] clf__n_estimators=800, clf__min_samples_split=10, clf__min_samples_leaf=2, clf__max_features=sqrt, clf__max_depth=10, clf__bootstrap=False \n",
      "[CV]  clf__n_estimators=800, clf__min_samples_split=10, clf__min_samples_leaf=2, clf__max_features=sqrt, clf__max_depth=10, clf__bootstrap=False, score=0.8499093499093499, total=   6.6s\n",
      "[Parallel(n_jobs=1)]: Done 111 out of 111 | elapsed: 14.2min remaining:    0.0s\n",
      "[CV] clf__n_estimators=800, clf__min_samples_split=5, clf__min_samples_leaf=2, clf__max_features=auto, clf__max_depth=50, clf__bootstrap=True \n",
      "[CV]  clf__n_estimators=800, clf__min_samples_split=5, clf__min_samples_leaf=2, clf__max_features=auto, clf__max_depth=50, clf__bootstrap=True, score=0.809817924467606, total=   4.3s\n",
      "[Parallel(n_jobs=1)]: Done 112 out of 112 | elapsed: 14.3min remaining:    0.0s\n",
      "[CV] clf__n_estimators=800, clf__min_samples_split=5, clf__min_samples_leaf=2, clf__max_features=auto, clf__max_depth=50, clf__bootstrap=True \n",
      "[CV]  clf__n_estimators=800, clf__min_samples_split=5, clf__min_samples_leaf=2, clf__max_features=auto, clf__max_depth=50, clf__bootstrap=True, score=0.8451178451178452, total=   4.4s\n",
      "[Parallel(n_jobs=1)]: Done 113 out of 113 | elapsed: 14.3min remaining:    0.0s\n",
      "[CV] clf__n_estimators=800, clf__min_samples_split=5, clf__min_samples_leaf=2, clf__max_features=auto, clf__max_depth=50, clf__bootstrap=True \n",
      "[CV]  clf__n_estimators=800, clf__min_samples_split=5, clf__min_samples_leaf=2, clf__max_features=auto, clf__max_depth=50, clf__bootstrap=True, score=0.8563843563843564, total=   4.4s\n",
      "[Parallel(n_jobs=1)]: Done 114 out of 114 | elapsed: 14.4min remaining:    0.0s\n",
      "[CV] clf__n_estimators=200, clf__min_samples_split=2, clf__min_samples_leaf=1, clf__max_features=sqrt, clf__max_depth=80, clf__bootstrap=True \n",
      "[CV]  clf__n_estimators=200, clf__min_samples_split=2, clf__min_samples_leaf=1, clf__max_features=sqrt, clf__max_depth=80, clf__bootstrap=True, score=0.8107186514829827, total=   1.2s\n",
      "[Parallel(n_jobs=1)]: Done 115 out of 115 | elapsed: 14.4min remaining:    0.0s\n",
      "[CV] clf__n_estimators=200, clf__min_samples_split=2, clf__min_samples_leaf=1, clf__max_features=sqrt, clf__max_depth=80, clf__bootstrap=True \n",
      "[CV]  clf__n_estimators=200, clf__min_samples_split=2, clf__min_samples_leaf=1, clf__max_features=sqrt, clf__max_depth=80, clf__bootstrap=True, score=0.8330743330743331, total=   1.2s\n",
      "[Parallel(n_jobs=1)]: Done 116 out of 116 | elapsed: 14.4min remaining:    0.0s\n",
      "[CV] clf__n_estimators=200, clf__min_samples_split=2, clf__min_samples_leaf=1, clf__max_features=sqrt, clf__max_depth=80, clf__bootstrap=True \n",
      "[CV]  clf__n_estimators=200, clf__min_samples_split=2, clf__min_samples_leaf=1, clf__max_features=sqrt, clf__max_depth=80, clf__bootstrap=True, score=0.8487114737114737, total=   1.2s\n",
      "[Parallel(n_jobs=1)]: Done 117 out of 117 | elapsed: 14.5min remaining:    0.0s\n",
      "[CV] clf__n_estimators=1600, clf__min_samples_split=5, clf__min_samples_leaf=2, clf__max_features=sqrt, clf__max_depth=10, clf__bootstrap=True \n",
      "[CV]  clf__n_estimators=1600, clf__min_samples_split=5, clf__min_samples_leaf=2, clf__max_features=sqrt, clf__max_depth=10, clf__bootstrap=True, score=0.811555040854404, total=   8.5s\n",
      "[Parallel(n_jobs=1)]: Done 118 out of 118 | elapsed: 14.6min remaining:    0.0s\n",
      "[CV] clf__n_estimators=1600, clf__min_samples_split=5, clf__min_samples_leaf=2, clf__max_features=sqrt, clf__max_depth=10, clf__bootstrap=True \n",
      "[CV]  clf__n_estimators=1600, clf__min_samples_split=5, clf__min_samples_leaf=2, clf__max_features=sqrt, clf__max_depth=10, clf__bootstrap=True, score=0.8434343434343434, total=   8.6s\n",
      "[Parallel(n_jobs=1)]: Done 119 out of 119 | elapsed: 14.8min remaining:    0.0s\n",
      "[CV] clf__n_estimators=1600, clf__min_samples_split=5, clf__min_samples_leaf=2, clf__max_features=sqrt, clf__max_depth=10, clf__bootstrap=True \n",
      "[CV]  clf__n_estimators=1600, clf__min_samples_split=5, clf__min_samples_leaf=2, clf__max_features=sqrt, clf__max_depth=10, clf__bootstrap=True, score=0.8526288526288526, total=   8.5s\n",
      "[Parallel(n_jobs=1)]: Done 120 out of 120 | elapsed: 14.9min remaining:    0.0s\n",
      "[CV] clf__n_estimators=1000, clf__min_samples_split=5, clf__min_samples_leaf=1, clf__max_features=auto, clf__max_depth=80, clf__bootstrap=True \n",
      "[CV]  clf__n_estimators=1000, clf__min_samples_split=5, clf__min_samples_leaf=1, clf__max_features=auto, clf__max_depth=80, clf__bootstrap=True, score=0.8102682879752943, total=   5.8s\n",
      "[Parallel(n_jobs=1)]: Done 121 out of 121 | elapsed: 15.0min remaining:    0.0s\n",
      "[CV] clf__n_estimators=1000, clf__min_samples_split=5, clf__min_samples_leaf=1, clf__max_features=auto, clf__max_depth=80, clf__bootstrap=True \n",
      "[CV]  clf__n_estimators=1000, clf__min_samples_split=5, clf__min_samples_leaf=1, clf__max_features=auto, clf__max_depth=80, clf__bootstrap=True, score=0.83993783993784, total=   5.9s\n",
      "[Parallel(n_jobs=1)]: Done 122 out of 122 | elapsed: 15.1min remaining:    0.0s\n",
      "[CV] clf__n_estimators=1000, clf__min_samples_split=5, clf__min_samples_leaf=1, clf__max_features=auto, clf__max_depth=80, clf__bootstrap=True \n"
     ]
    },
    {
     "name": "stdout",
     "output_type": "stream",
     "text": [
      "[CV]  clf__n_estimators=1000, clf__min_samples_split=5, clf__min_samples_leaf=1, clf__max_features=auto, clf__max_depth=80, clf__bootstrap=True, score=0.8552188552188553, total=   5.8s\n",
      "[Parallel(n_jobs=1)]: Done 123 out of 123 | elapsed: 15.2min remaining:    0.0s\n",
      "[CV] clf__n_estimators=1200, clf__min_samples_split=2, clf__min_samples_leaf=2, clf__max_features=auto, clf__max_depth=100, clf__bootstrap=True \n",
      "[CV]  clf__n_estimators=1200, clf__min_samples_split=2, clf__min_samples_leaf=2, clf__max_features=auto, clf__max_depth=100, clf__bootstrap=True, score=0.8107829891269381, total=   6.6s\n",
      "[Parallel(n_jobs=1)]: Done 124 out of 124 | elapsed: 15.3min remaining:    0.0s\n",
      "[CV] clf__n_estimators=1200, clf__min_samples_split=2, clf__min_samples_leaf=2, clf__max_features=auto, clf__max_depth=100, clf__bootstrap=True \n",
      "[CV]  clf__n_estimators=1200, clf__min_samples_split=2, clf__min_samples_leaf=2, clf__max_features=auto, clf__max_depth=100, clf__bootstrap=True, score=0.841038591038591, total=   6.6s\n",
      "[Parallel(n_jobs=1)]: Done 125 out of 125 | elapsed: 15.4min remaining:    0.0s\n",
      "[CV] clf__n_estimators=1200, clf__min_samples_split=2, clf__min_samples_leaf=2, clf__max_features=auto, clf__max_depth=100, clf__bootstrap=True \n",
      "[CV]  clf__n_estimators=1200, clf__min_samples_split=2, clf__min_samples_leaf=2, clf__max_features=auto, clf__max_depth=100, clf__bootstrap=True, score=0.8524346024346025, total=   6.6s\n",
      "[Parallel(n_jobs=1)]: Done 126 out of 126 | elapsed: 15.5min remaining:    0.0s\n",
      "[CV] clf__n_estimators=200, clf__min_samples_split=2, clf__min_samples_leaf=4, clf__max_features=sqrt, clf__max_depth=30, clf__bootstrap=True \n",
      "[CV]  clf__n_estimators=200, clf__min_samples_split=2, clf__min_samples_leaf=4, clf__max_features=sqrt, clf__max_depth=30, clf__bootstrap=True, score=0.8066653799137875, total=   1.0s\n",
      "[Parallel(n_jobs=1)]: Done 127 out of 127 | elapsed: 15.6min remaining:    0.0s\n",
      "[CV] clf__n_estimators=200, clf__min_samples_split=2, clf__min_samples_leaf=4, clf__max_features=sqrt, clf__max_depth=30, clf__bootstrap=True \n",
      "[CV]  clf__n_estimators=200, clf__min_samples_split=2, clf__min_samples_leaf=4, clf__max_features=sqrt, clf__max_depth=30, clf__bootstrap=True, score=0.836894586894587, total=   1.1s\n",
      "[Parallel(n_jobs=1)]: Done 128 out of 128 | elapsed: 15.6min remaining:    0.0s\n",
      "[CV] clf__n_estimators=200, clf__min_samples_split=2, clf__min_samples_leaf=4, clf__max_features=sqrt, clf__max_depth=30, clf__bootstrap=True \n",
      "[CV]  clf__n_estimators=200, clf__min_samples_split=2, clf__min_samples_leaf=4, clf__max_features=sqrt, clf__max_depth=30, clf__bootstrap=True, score=0.8521108521108521, total=   1.0s\n",
      "[Parallel(n_jobs=1)]: Done 129 out of 129 | elapsed: 15.6min remaining:    0.0s\n",
      "[CV] clf__n_estimators=1400, clf__min_samples_split=5, clf__min_samples_leaf=2, clf__max_features=auto, clf__max_depth=100, clf__bootstrap=True \n",
      "[CV]  clf__n_estimators=1400, clf__min_samples_split=5, clf__min_samples_leaf=2, clf__max_features=auto, clf__max_depth=100, clf__bootstrap=True, score=0.8072444187093869, total=   7.6s\n",
      "[Parallel(n_jobs=1)]: Done 130 out of 130 | elapsed: 15.7min remaining:    0.0s\n",
      "[CV] clf__n_estimators=1400, clf__min_samples_split=5, clf__min_samples_leaf=2, clf__max_features=auto, clf__max_depth=100, clf__bootstrap=True \n",
      "[CV]  clf__n_estimators=1400, clf__min_samples_split=5, clf__min_samples_leaf=2, clf__max_features=auto, clf__max_depth=100, clf__bootstrap=True, score=0.840973840973841, total=   7.7s\n",
      "[Parallel(n_jobs=1)]: Done 131 out of 131 | elapsed: 15.8min remaining:    0.0s\n",
      "[CV] clf__n_estimators=1400, clf__min_samples_split=5, clf__min_samples_leaf=2, clf__max_features=auto, clf__max_depth=100, clf__bootstrap=True \n",
      "[CV]  clf__n_estimators=1400, clf__min_samples_split=5, clf__min_samples_leaf=2, clf__max_features=auto, clf__max_depth=100, clf__bootstrap=True, score=0.8513338513338513, total=   7.6s\n",
      "[Parallel(n_jobs=1)]: Done 132 out of 132 | elapsed: 16.0min remaining:    0.0s\n",
      "[CV] clf__n_estimators=400, clf__min_samples_split=5, clf__min_samples_leaf=1, clf__max_features=sqrt, clf__max_depth=None, clf__bootstrap=True \n",
      "[CV]  clf__n_estimators=400, clf__min_samples_split=5, clf__min_samples_leaf=1, clf__max_features=sqrt, clf__max_depth=None, clf__bootstrap=True, score=0.8146432477642669, total=   2.3s\n",
      "[Parallel(n_jobs=1)]: Done 133 out of 133 | elapsed: 16.0min remaining:    0.0s\n",
      "[CV] clf__n_estimators=400, clf__min_samples_split=5, clf__min_samples_leaf=1, clf__max_features=sqrt, clf__max_depth=None, clf__bootstrap=True \n",
      "[CV]  clf__n_estimators=400, clf__min_samples_split=5, clf__min_samples_leaf=1, clf__max_features=sqrt, clf__max_depth=None, clf__bootstrap=True, score=0.844988344988345, total=   2.4s\n",
      "[Parallel(n_jobs=1)]: Done 134 out of 134 | elapsed: 16.1min remaining:    0.0s\n",
      "[CV] clf__n_estimators=400, clf__min_samples_split=5, clf__min_samples_leaf=1, clf__max_features=sqrt, clf__max_depth=None, clf__bootstrap=True \n",
      "[CV]  clf__n_estimators=400, clf__min_samples_split=5, clf__min_samples_leaf=1, clf__max_features=sqrt, clf__max_depth=None, clf__bootstrap=True, score=0.8481610981610982, total=   2.3s\n",
      "[Parallel(n_jobs=1)]: Done 135 out of 135 | elapsed: 16.1min remaining:    0.0s\n",
      "[CV] clf__n_estimators=1400, clf__min_samples_split=2, clf__min_samples_leaf=2, clf__max_features=auto, clf__max_depth=60, clf__bootstrap=True \n",
      "[CV]  clf__n_estimators=1400, clf__min_samples_split=2, clf__min_samples_leaf=2, clf__max_features=auto, clf__max_depth=60, clf__bootstrap=True, score=0.8109760020588046, total=   7.6s\n",
      "[Parallel(n_jobs=1)]: Done 136 out of 136 | elapsed: 16.2min remaining:    0.0s\n",
      "[CV] clf__n_estimators=1400, clf__min_samples_split=2, clf__min_samples_leaf=2, clf__max_features=auto, clf__max_depth=60, clf__bootstrap=True \n",
      "[CV]  clf__n_estimators=1400, clf__min_samples_split=2, clf__min_samples_leaf=2, clf__max_features=auto, clf__max_depth=60, clf__bootstrap=True, score=0.8422688422688424, total=   7.7s\n",
      "[Parallel(n_jobs=1)]: Done 137 out of 137 | elapsed: 16.4min remaining:    0.0s\n",
      "[CV] clf__n_estimators=1400, clf__min_samples_split=2, clf__min_samples_leaf=2, clf__max_features=auto, clf__max_depth=60, clf__bootstrap=True \n",
      "[CV]  clf__n_estimators=1400, clf__min_samples_split=2, clf__min_samples_leaf=2, clf__max_features=auto, clf__max_depth=60, clf__bootstrap=True, score=0.8519813519813519, total=   7.6s\n",
      "[Parallel(n_jobs=1)]: Done 138 out of 138 | elapsed: 16.5min remaining:    0.0s\n",
      "[CV] clf__n_estimators=600, clf__min_samples_split=10, clf__min_samples_leaf=2, clf__max_features=sqrt, clf__max_depth=20, clf__bootstrap=True \n",
      "[CV]  clf__n_estimators=600, clf__min_samples_split=10, clf__min_samples_leaf=2, clf__max_features=sqrt, clf__max_depth=20, clf__bootstrap=True, score=0.8071800810654315, total=   3.2s\n",
      "[Parallel(n_jobs=1)]: Done 139 out of 139 | elapsed: 16.5min remaining:    0.0s\n",
      "[CV] clf__n_estimators=600, clf__min_samples_split=10, clf__min_samples_leaf=2, clf__max_features=sqrt, clf__max_depth=20, clf__bootstrap=True \n",
      "[CV]  clf__n_estimators=600, clf__min_samples_split=10, clf__min_samples_leaf=2, clf__max_features=sqrt, clf__max_depth=20, clf__bootstrap=True, score=0.8395493395493395, total=   3.3s\n",
      "[Parallel(n_jobs=1)]: Done 140 out of 140 | elapsed: 16.6min remaining:    0.0s\n",
      "[CV] clf__n_estimators=600, clf__min_samples_split=10, clf__min_samples_leaf=2, clf__max_features=sqrt, clf__max_depth=20, clf__bootstrap=True \n",
      "[CV]  clf__n_estimators=600, clf__min_samples_split=10, clf__min_samples_leaf=2, clf__max_features=sqrt, clf__max_depth=20, clf__bootstrap=True, score=0.8523051023051024, total=   3.2s\n",
      "[Parallel(n_jobs=1)]: Done 141 out of 141 | elapsed: 16.7min remaining:    0.0s\n",
      "[CV] clf__n_estimators=1200, clf__min_samples_split=10, clf__min_samples_leaf=1, clf__max_features=auto, clf__max_depth=50, clf__bootstrap=False \n",
      "[CV]  clf__n_estimators=1200, clf__min_samples_split=10, clf__min_samples_leaf=1, clf__max_features=auto, clf__max_depth=50, clf__bootstrap=False, score=0.8135495078170238, total=  10.8s\n",
      "[Parallel(n_jobs=1)]: Done 142 out of 142 | elapsed: 16.8min remaining:    0.0s\n",
      "[CV] clf__n_estimators=1200, clf__min_samples_split=10, clf__min_samples_leaf=1, clf__max_features=auto, clf__max_depth=50, clf__bootstrap=False \n"
     ]
    },
    {
     "name": "stdout",
     "output_type": "stream",
     "text": [
      "[CV]  clf__n_estimators=1200, clf__min_samples_split=10, clf__min_samples_leaf=1, clf__max_features=auto, clf__max_depth=50, clf__bootstrap=False, score=0.8455063455063454, total=  10.8s\n",
      "[Parallel(n_jobs=1)]: Done 143 out of 143 | elapsed: 17.0min remaining:    0.0s\n",
      "[CV] clf__n_estimators=1200, clf__min_samples_split=10, clf__min_samples_leaf=1, clf__max_features=auto, clf__max_depth=50, clf__bootstrap=False \n",
      "[CV]  clf__n_estimators=1200, clf__min_samples_split=10, clf__min_samples_leaf=1, clf__max_features=auto, clf__max_depth=50, clf__bootstrap=False, score=0.855995855995856, total=  10.6s\n",
      "[Parallel(n_jobs=1)]: Done 144 out of 144 | elapsed: 17.2min remaining:    0.0s\n",
      "[CV] clf__n_estimators=400, clf__min_samples_split=2, clf__min_samples_leaf=4, clf__max_features=sqrt, clf__max_depth=10, clf__bootstrap=False \n",
      "[CV]  clf__n_estimators=400, clf__min_samples_split=2, clf__min_samples_leaf=4, clf__max_features=sqrt, clf__max_depth=10, clf__bootstrap=False, score=0.8168307276587532, total=   3.2s\n",
      "[Parallel(n_jobs=1)]: Done 145 out of 145 | elapsed: 17.3min remaining:    0.0s\n",
      "[CV] clf__n_estimators=400, clf__min_samples_split=2, clf__min_samples_leaf=4, clf__max_features=sqrt, clf__max_depth=10, clf__bootstrap=False \n",
      "[CV]  clf__n_estimators=400, clf__min_samples_split=2, clf__min_samples_leaf=4, clf__max_features=sqrt, clf__max_depth=10, clf__bootstrap=False, score=0.8446645946645946, total=   3.2s\n",
      "[Parallel(n_jobs=1)]: Done 146 out of 146 | elapsed: 17.3min remaining:    0.0s\n",
      "[CV] clf__n_estimators=400, clf__min_samples_split=2, clf__min_samples_leaf=4, clf__max_features=sqrt, clf__max_depth=10, clf__bootstrap=False \n",
      "[CV]  clf__n_estimators=400, clf__min_samples_split=2, clf__min_samples_leaf=4, clf__max_features=sqrt, clf__max_depth=10, clf__bootstrap=False, score=0.8539886039886041, total=   3.2s\n",
      "[Parallel(n_jobs=1)]: Done 147 out of 147 | elapsed: 17.4min remaining:    0.0s\n",
      "[CV] clf__n_estimators=1200, clf__min_samples_split=2, clf__min_samples_leaf=2, clf__max_features=auto, clf__max_depth=60, clf__bootstrap=True \n",
      "[CV]  clf__n_estimators=1200, clf__min_samples_split=2, clf__min_samples_leaf=2, clf__max_features=auto, clf__max_depth=60, clf__bootstrap=True, score=0.8100752750434279, total=   6.5s\n",
      "[Parallel(n_jobs=1)]: Done 148 out of 148 | elapsed: 17.5min remaining:    0.0s\n",
      "[CV] clf__n_estimators=1200, clf__min_samples_split=2, clf__min_samples_leaf=2, clf__max_features=auto, clf__max_depth=60, clf__bootstrap=True \n",
      "[CV]  clf__n_estimators=1200, clf__min_samples_split=2, clf__min_samples_leaf=2, clf__max_features=auto, clf__max_depth=60, clf__bootstrap=True, score=0.8415565915565916, total=   6.6s\n",
      "[Parallel(n_jobs=1)]: Done 149 out of 149 | elapsed: 17.6min remaining:    0.0s\n",
      "[CV] clf__n_estimators=1200, clf__min_samples_split=2, clf__min_samples_leaf=2, clf__max_features=auto, clf__max_depth=60, clf__bootstrap=True \n",
      "[CV]  clf__n_estimators=1200, clf__min_samples_split=2, clf__min_samples_leaf=2, clf__max_features=auto, clf__max_depth=60, clf__bootstrap=True, score=0.8516576016576016, total=   6.6s\n",
      "[Parallel(n_jobs=1)]: Done 150 out of 150 | elapsed: 17.7min remaining:    0.0s\n",
      "[CV] clf__n_estimators=400, clf__min_samples_split=5, clf__min_samples_leaf=4, clf__max_features=sqrt, clf__max_depth=80, clf__bootstrap=False \n",
      "[CV]  clf__n_estimators=400, clf__min_samples_split=5, clf__min_samples_leaf=4, clf__max_features=sqrt, clf__max_depth=80, clf__bootstrap=False, score=0.8120054043620922, total=   3.2s\n",
      "[Parallel(n_jobs=1)]: Done 151 out of 151 | elapsed: 17.7min remaining:    0.0s\n",
      "[CV] clf__n_estimators=400, clf__min_samples_split=5, clf__min_samples_leaf=4, clf__max_features=sqrt, clf__max_depth=80, clf__bootstrap=False \n",
      "[CV]  clf__n_estimators=400, clf__min_samples_split=5, clf__min_samples_leaf=4, clf__max_features=sqrt, clf__max_depth=80, clf__bootstrap=False, score=0.8436285936285937, total=   3.3s\n",
      "[Parallel(n_jobs=1)]: Done 152 out of 152 | elapsed: 17.8min remaining:    0.0s\n",
      "[CV] clf__n_estimators=400, clf__min_samples_split=5, clf__min_samples_leaf=4, clf__max_features=sqrt, clf__max_depth=80, clf__bootstrap=False \n",
      "[CV]  clf__n_estimators=400, clf__min_samples_split=5, clf__min_samples_leaf=4, clf__max_features=sqrt, clf__max_depth=80, clf__bootstrap=False, score=0.8569023569023568, total=   3.2s\n",
      "[Parallel(n_jobs=1)]: Done 153 out of 153 | elapsed: 17.9min remaining:    0.0s\n",
      "[CV] clf__n_estimators=2000, clf__min_samples_split=10, clf__min_samples_leaf=1, clf__max_features=sqrt, clf__max_depth=10, clf__bootstrap=False \n",
      "[CV]  clf__n_estimators=2000, clf__min_samples_split=10, clf__min_samples_leaf=1, clf__max_features=sqrt, clf__max_depth=10, clf__bootstrap=False, score=0.814257221900534, total=  17.3s\n",
      "[Parallel(n_jobs=1)]: Done 154 out of 154 | elapsed: 18.2min remaining:    0.0s\n",
      "[CV] clf__n_estimators=2000, clf__min_samples_split=10, clf__min_samples_leaf=1, clf__max_features=sqrt, clf__max_depth=10, clf__bootstrap=False \n",
      "[CV]  clf__n_estimators=2000, clf__min_samples_split=10, clf__min_samples_leaf=1, clf__max_features=sqrt, clf__max_depth=10, clf__bootstrap=False, score=0.8455710955710956, total=  17.3s\n",
      "[Parallel(n_jobs=1)]: Done 155 out of 155 | elapsed: 18.4min remaining:    0.0s\n",
      "[CV] clf__n_estimators=2000, clf__min_samples_split=10, clf__min_samples_leaf=1, clf__max_features=sqrt, clf__max_depth=10, clf__bootstrap=False \n",
      "[CV]  clf__n_estimators=2000, clf__min_samples_split=10, clf__min_samples_leaf=1, clf__max_features=sqrt, clf__max_depth=10, clf__bootstrap=False, score=0.8524346024346025, total=  17.0s\n",
      "[Parallel(n_jobs=1)]: Done 156 out of 156 | elapsed: 18.7min remaining:    0.0s\n",
      "[CV] clf__n_estimators=2000, clf__min_samples_split=2, clf__min_samples_leaf=4, clf__max_features=auto, clf__max_depth=70, clf__bootstrap=True \n",
      "[CV]  clf__n_estimators=2000, clf__min_samples_split=2, clf__min_samples_leaf=4, clf__max_features=auto, clf__max_depth=70, clf__bootstrap=True, score=0.8089171974522293, total=   9.7s\n",
      "[Parallel(n_jobs=1)]: Done 157 out of 157 | elapsed: 18.9min remaining:    0.0s\n",
      "[CV] clf__n_estimators=2000, clf__min_samples_split=2, clf__min_samples_leaf=4, clf__max_features=auto, clf__max_depth=70, clf__bootstrap=True \n",
      "[CV]  clf__n_estimators=2000, clf__min_samples_split=2, clf__min_samples_leaf=4, clf__max_features=auto, clf__max_depth=70, clf__bootstrap=True, score=0.8422040922040921, total=   9.9s\n",
      "[Parallel(n_jobs=1)]: Done 158 out of 158 | elapsed: 19.1min remaining:    0.0s\n",
      "[CV] clf__n_estimators=2000, clf__min_samples_split=2, clf__min_samples_leaf=4, clf__max_features=auto, clf__max_depth=70, clf__bootstrap=True \n",
      "[CV]  clf__n_estimators=2000, clf__min_samples_split=2, clf__min_samples_leaf=4, clf__max_features=auto, clf__max_depth=70, clf__bootstrap=True, score=0.8538591038591038, total=   9.8s\n",
      "[Parallel(n_jobs=1)]: Done 159 out of 159 | elapsed: 19.2min remaining:    0.0s\n",
      "[CV] clf__n_estimators=400, clf__min_samples_split=2, clf__min_samples_leaf=1, clf__max_features=sqrt, clf__max_depth=90, clf__bootstrap=True \n",
      "[CV]  clf__n_estimators=400, clf__min_samples_split=2, clf__min_samples_leaf=1, clf__max_features=sqrt, clf__max_depth=90, clf__bootstrap=True, score=0.8159943382873319, total=   2.4s\n",
      "[Parallel(n_jobs=1)]: Done 160 out of 160 | elapsed: 19.3min remaining:    0.0s\n",
      "[CV] clf__n_estimators=400, clf__min_samples_split=2, clf__min_samples_leaf=1, clf__max_features=sqrt, clf__max_depth=90, clf__bootstrap=True \n",
      "[CV]  clf__n_estimators=400, clf__min_samples_split=2, clf__min_samples_leaf=1, clf__max_features=sqrt, clf__max_depth=90, clf__bootstrap=True, score=0.8475459725459726, total=   2.4s\n",
      "[Parallel(n_jobs=1)]: Done 161 out of 161 | elapsed: 19.3min remaining:    0.0s\n",
      "[CV] clf__n_estimators=400, clf__min_samples_split=2, clf__min_samples_leaf=1, clf__max_features=sqrt, clf__max_depth=90, clf__bootstrap=True \n",
      "[CV]  clf__n_estimators=400, clf__min_samples_split=2, clf__min_samples_leaf=1, clf__max_features=sqrt, clf__max_depth=90, clf__bootstrap=True, score=0.853049728049728, total=   2.4s\n",
      "[Parallel(n_jobs=1)]: Done 162 out of 162 | elapsed: 19.4min remaining:    0.0s\n",
      "[CV] clf__n_estimators=1800, clf__min_samples_split=5, clf__min_samples_leaf=4, clf__max_features=sqrt, clf__max_depth=None, clf__bootstrap=False \n",
      "[CV]  clf__n_estimators=1800, clf__min_samples_split=5, clf__min_samples_leaf=4, clf__max_features=sqrt, clf__max_depth=None, clf__bootstrap=False, score=0.8158013253554655, total=  14.2s\n",
      "[Parallel(n_jobs=1)]: Done 163 out of 163 | elapsed: 19.6min remaining:    0.0s\n",
      "[CV] clf__n_estimators=1800, clf__min_samples_split=5, clf__min_samples_leaf=4, clf__max_features=sqrt, clf__max_depth=None, clf__bootstrap=False \n"
     ]
    },
    {
     "name": "stdout",
     "output_type": "stream",
     "text": [
      "[CV]  clf__n_estimators=1800, clf__min_samples_split=5, clf__min_samples_leaf=4, clf__max_features=sqrt, clf__max_depth=None, clf__bootstrap=False, score=0.8431753431753432, total=  14.5s\n",
      "[Parallel(n_jobs=1)]: Done 164 out of 164 | elapsed: 19.8min remaining:    0.0s\n",
      "[CV] clf__n_estimators=1800, clf__min_samples_split=5, clf__min_samples_leaf=4, clf__max_features=sqrt, clf__max_depth=None, clf__bootstrap=False \n",
      "[CV]  clf__n_estimators=1800, clf__min_samples_split=5, clf__min_samples_leaf=4, clf__max_features=sqrt, clf__max_depth=None, clf__bootstrap=False, score=0.8574851074851075, total=  14.2s\n",
      "[Parallel(n_jobs=1)]: Done 165 out of 165 | elapsed: 20.1min remaining:    0.0s\n",
      "[CV] clf__n_estimators=600, clf__min_samples_split=5, clf__min_samples_leaf=2, clf__max_features=sqrt, clf__max_depth=80, clf__bootstrap=True \n",
      "[CV]  clf__n_estimators=600, clf__min_samples_split=5, clf__min_samples_leaf=2, clf__max_features=sqrt, clf__max_depth=80, clf__bootstrap=True, score=0.8101396126873834, total=   3.3s\n",
      "[Parallel(n_jobs=1)]: Done 166 out of 166 | elapsed: 20.1min remaining:    0.0s\n",
      "[CV] clf__n_estimators=600, clf__min_samples_split=5, clf__min_samples_leaf=2, clf__max_features=sqrt, clf__max_depth=80, clf__bootstrap=True \n",
      "[CV]  clf__n_estimators=600, clf__min_samples_split=5, clf__min_samples_leaf=2, clf__max_features=sqrt, clf__max_depth=80, clf__bootstrap=True, score=0.8447940947940948, total=   3.3s\n",
      "[Parallel(n_jobs=1)]: Done 167 out of 167 | elapsed: 20.2min remaining:    0.0s\n",
      "[CV] clf__n_estimators=600, clf__min_samples_split=5, clf__min_samples_leaf=2, clf__max_features=sqrt, clf__max_depth=80, clf__bootstrap=True \n",
      "[CV]  clf__n_estimators=600, clf__min_samples_split=5, clf__min_samples_leaf=2, clf__max_features=sqrt, clf__max_depth=80, clf__bootstrap=True, score=0.8536648536648537, total=   3.3s\n",
      "[Parallel(n_jobs=1)]: Done 168 out of 168 | elapsed: 20.2min remaining:    0.0s\n",
      "[CV] clf__n_estimators=2000, clf__min_samples_split=10, clf__min_samples_leaf=2, clf__max_features=auto, clf__max_depth=80, clf__bootstrap=True \n",
      "[CV]  clf__n_estimators=2000, clf__min_samples_split=10, clf__min_samples_leaf=2, clf__max_features=auto, clf__max_depth=80, clf__bootstrap=True, score=0.8087241845203629, total=  10.5s\n",
      "[Parallel(n_jobs=1)]: Done 169 out of 169 | elapsed: 20.4min remaining:    0.0s\n",
      "[CV] clf__n_estimators=2000, clf__min_samples_split=10, clf__min_samples_leaf=2, clf__max_features=auto, clf__max_depth=80, clf__bootstrap=True \n",
      "[CV]  clf__n_estimators=2000, clf__min_samples_split=10, clf__min_samples_leaf=2, clf__max_features=auto, clf__max_depth=80, clf__bootstrap=True, score=0.8416213416213416, total=  10.7s\n",
      "[Parallel(n_jobs=1)]: Done 170 out of 170 | elapsed: 20.6min remaining:    0.0s\n",
      "[CV] clf__n_estimators=2000, clf__min_samples_split=10, clf__min_samples_leaf=2, clf__max_features=auto, clf__max_depth=80, clf__bootstrap=True \n",
      "[CV]  clf__n_estimators=2000, clf__min_samples_split=10, clf__min_samples_leaf=2, clf__max_features=auto, clf__max_depth=80, clf__bootstrap=True, score=0.8547008547008547, total=  10.5s\n",
      "[Parallel(n_jobs=1)]: Done 171 out of 171 | elapsed: 20.8min remaining:    0.0s\n",
      "[CV] clf__n_estimators=1400, clf__min_samples_split=2, clf__min_samples_leaf=2, clf__max_features=auto, clf__max_depth=90, clf__bootstrap=False \n",
      "[CV]  clf__n_estimators=1400, clf__min_samples_split=2, clf__min_samples_leaf=2, clf__max_features=auto, clf__max_depth=90, clf__bootstrap=False, score=0.8169594029466641, total=  12.1s\n",
      "[Parallel(n_jobs=1)]: Done 172 out of 172 | elapsed: 21.0min remaining:    0.0s\n",
      "[CV] clf__n_estimators=1400, clf__min_samples_split=2, clf__min_samples_leaf=2, clf__max_features=auto, clf__max_depth=90, clf__bootstrap=False \n",
      "[CV]  clf__n_estimators=1400, clf__min_samples_split=2, clf__min_samples_leaf=2, clf__max_features=auto, clf__max_depth=90, clf__bootstrap=False, score=0.8466070966070965, total=  12.3s\n",
      "[Parallel(n_jobs=1)]: Done 173 out of 173 | elapsed: 21.2min remaining:    0.0s\n",
      "[CV] clf__n_estimators=1400, clf__min_samples_split=2, clf__min_samples_leaf=2, clf__max_features=auto, clf__max_depth=90, clf__bootstrap=False \n",
      "[CV]  clf__n_estimators=1400, clf__min_samples_split=2, clf__min_samples_leaf=2, clf__max_features=auto, clf__max_depth=90, clf__bootstrap=False, score=0.8561901061901062, total=  12.0s\n",
      "[Parallel(n_jobs=1)]: Done 174 out of 174 | elapsed: 21.4min remaining:    0.0s\n",
      "[CV] clf__n_estimators=800, clf__min_samples_split=5, clf__min_samples_leaf=2, clf__max_features=auto, clf__max_depth=50, clf__bootstrap=False \n",
      "[CV]  clf__n_estimators=800, clf__min_samples_split=5, clf__min_samples_leaf=2, clf__max_features=auto, clf__max_depth=50, clf__bootstrap=False, score=0.8117480537862704, total=   6.9s\n",
      "[Parallel(n_jobs=1)]: Done 175 out of 175 | elapsed: 21.5min remaining:    0.0s\n",
      "[CV] clf__n_estimators=800, clf__min_samples_split=5, clf__min_samples_leaf=2, clf__max_features=auto, clf__max_depth=50, clf__bootstrap=False \n",
      "[CV]  clf__n_estimators=800, clf__min_samples_split=5, clf__min_samples_leaf=2, clf__max_features=auto, clf__max_depth=50, clf__bootstrap=False, score=0.8454415954415954, total=   7.1s\n",
      "[Parallel(n_jobs=1)]: Done 176 out of 176 | elapsed: 21.6min remaining:    0.0s\n",
      "[CV] clf__n_estimators=800, clf__min_samples_split=5, clf__min_samples_leaf=2, clf__max_features=auto, clf__max_depth=50, clf__bootstrap=False \n",
      "[CV]  clf__n_estimators=800, clf__min_samples_split=5, clf__min_samples_leaf=2, clf__max_features=auto, clf__max_depth=50, clf__bootstrap=False, score=0.8491323491323491, total=   6.9s\n",
      "[Parallel(n_jobs=1)]: Done 177 out of 177 | elapsed: 21.8min remaining:    0.0s\n",
      "[CV] clf__n_estimators=1800, clf__min_samples_split=10, clf__min_samples_leaf=4, clf__max_features=sqrt, clf__max_depth=90, clf__bootstrap=True \n",
      "[CV]  clf__n_estimators=1800, clf__min_samples_split=10, clf__min_samples_leaf=4, clf__max_features=sqrt, clf__max_depth=90, clf__bootstrap=True, score=0.8063436916940102, total=   8.7s\n",
      "[Parallel(n_jobs=1)]: Done 178 out of 178 | elapsed: 21.9min remaining:    0.0s\n",
      "[CV] clf__n_estimators=1800, clf__min_samples_split=10, clf__min_samples_leaf=4, clf__max_features=sqrt, clf__max_depth=90, clf__bootstrap=True \n",
      "[CV]  clf__n_estimators=1800, clf__min_samples_split=10, clf__min_samples_leaf=4, clf__max_features=sqrt, clf__max_depth=90, clf__bootstrap=True, score=0.8372183372183373, total=   8.8s\n",
      "[Parallel(n_jobs=1)]: Done 179 out of 179 | elapsed: 22.1min remaining:    0.0s\n",
      "[CV] clf__n_estimators=1800, clf__min_samples_split=10, clf__min_samples_leaf=4, clf__max_features=sqrt, clf__max_depth=90, clf__bootstrap=True \n",
      "[CV]  clf__n_estimators=1800, clf__min_samples_split=10, clf__min_samples_leaf=4, clf__max_features=sqrt, clf__max_depth=90, clf__bootstrap=True, score=0.8493265993265993, total=   8.8s\n",
      "[Parallel(n_jobs=1)]: Done 180 out of 180 | elapsed: 22.2min remaining:    0.0s\n",
      "[CV] clf__n_estimators=800, clf__min_samples_split=5, clf__min_samples_leaf=4, clf__max_features=sqrt, clf__max_depth=40, clf__bootstrap=True \n",
      "[CV]  clf__n_estimators=800, clf__min_samples_split=5, clf__min_samples_leaf=4, clf__max_features=sqrt, clf__max_depth=40, clf__bootstrap=True, score=0.8045422376632567, total=   3.9s\n",
      "[Parallel(n_jobs=1)]: Done 181 out of 181 | elapsed: 22.3min remaining:    0.0s\n",
      "[CV] clf__n_estimators=800, clf__min_samples_split=5, clf__min_samples_leaf=4, clf__max_features=sqrt, clf__max_depth=40, clf__bootstrap=True \n",
      "[CV]  clf__n_estimators=800, clf__min_samples_split=5, clf__min_samples_leaf=4, clf__max_features=sqrt, clf__max_depth=40, clf__bootstrap=True, score=0.8423335923335923, total=   4.0s\n",
      "[Parallel(n_jobs=1)]: Done 182 out of 182 | elapsed: 22.3min remaining:    0.0s\n",
      "[CV] clf__n_estimators=800, clf__min_samples_split=5, clf__min_samples_leaf=4, clf__max_features=sqrt, clf__max_depth=40, clf__bootstrap=True \n",
      "[CV]  clf__n_estimators=800, clf__min_samples_split=5, clf__min_samples_leaf=4, clf__max_features=sqrt, clf__max_depth=40, clf__bootstrap=True, score=0.8502978502978503, total=   4.0s\n",
      "[Parallel(n_jobs=1)]: Done 183 out of 183 | elapsed: 22.4min remaining:    0.0s\n",
      "[CV] clf__n_estimators=1200, clf__min_samples_split=5, clf__min_samples_leaf=1, clf__max_features=sqrt, clf__max_depth=80, clf__bootstrap=True \n"
     ]
    },
    {
     "name": "stdout",
     "output_type": "stream",
     "text": [
      "[CV]  clf__n_estimators=1200, clf__min_samples_split=5, clf__min_samples_leaf=1, clf__max_features=sqrt, clf__max_depth=80, clf__bootstrap=True, score=0.8102039503313389, total=   6.9s\n",
      "[Parallel(n_jobs=1)]: Done 184 out of 184 | elapsed: 22.5min remaining:    0.0s\n",
      "[CV] clf__n_estimators=1200, clf__min_samples_split=5, clf__min_samples_leaf=1, clf__max_features=sqrt, clf__max_depth=80, clf__bootstrap=True \n",
      "[CV]  clf__n_estimators=1200, clf__min_samples_split=5, clf__min_samples_leaf=1, clf__max_features=sqrt, clf__max_depth=80, clf__bootstrap=True, score=0.8412328412328411, total=   7.0s\n",
      "[Parallel(n_jobs=1)]: Done 185 out of 185 | elapsed: 22.6min remaining:    0.0s\n",
      "[CV] clf__n_estimators=1200, clf__min_samples_split=5, clf__min_samples_leaf=1, clf__max_features=sqrt, clf__max_depth=80, clf__bootstrap=True \n",
      "[CV]  clf__n_estimators=1200, clf__min_samples_split=5, clf__min_samples_leaf=1, clf__max_features=sqrt, clf__max_depth=80, clf__bootstrap=True, score=0.8501683501683501, total=   6.9s\n",
      "[Parallel(n_jobs=1)]: Done 186 out of 186 | elapsed: 22.8min remaining:    0.0s\n",
      "[CV] clf__n_estimators=1400, clf__min_samples_split=10, clf__min_samples_leaf=1, clf__max_features=auto, clf__max_depth=30, clf__bootstrap=True \n",
      "[CV]  clf__n_estimators=1400, clf__min_samples_split=10, clf__min_samples_leaf=1, clf__max_features=auto, clf__max_depth=30, clf__bootstrap=True, score=0.8082738210126744, total=   7.9s\n",
      "[Parallel(n_jobs=1)]: Done 187 out of 187 | elapsed: 22.9min remaining:    0.0s\n",
      "[CV] clf__n_estimators=1400, clf__min_samples_split=10, clf__min_samples_leaf=1, clf__max_features=auto, clf__max_depth=30, clf__bootstrap=True \n",
      "[CV]  clf__n_estimators=1400, clf__min_samples_split=10, clf__min_samples_leaf=1, clf__max_features=auto, clf__max_depth=30, clf__bootstrap=True, score=0.8400025900025899, total=   8.0s\n",
      "[Parallel(n_jobs=1)]: Done 188 out of 188 | elapsed: 23.0min remaining:    0.0s\n",
      "[CV] clf__n_estimators=1400, clf__min_samples_split=10, clf__min_samples_leaf=1, clf__max_features=auto, clf__max_depth=30, clf__bootstrap=True \n",
      "[CV]  clf__n_estimators=1400, clf__min_samples_split=10, clf__min_samples_leaf=1, clf__max_features=auto, clf__max_depth=30, clf__bootstrap=True, score=0.8505568505568505, total=   7.9s\n",
      "[Parallel(n_jobs=1)]: Done 189 out of 189 | elapsed: 23.2min remaining:    0.0s\n",
      "[CV] clf__n_estimators=600, clf__min_samples_split=5, clf__min_samples_leaf=2, clf__max_features=auto, clf__max_depth=40, clf__bootstrap=True \n",
      "[CV]  clf__n_estimators=600, clf__min_samples_split=5, clf__min_samples_leaf=2, clf__max_features=auto, clf__max_depth=40, clf__bootstrap=True, score=0.8139998713247121, total=   3.3s\n",
      "[Parallel(n_jobs=1)]: Done 190 out of 190 | elapsed: 23.2min remaining:    0.0s\n",
      "[CV] clf__n_estimators=600, clf__min_samples_split=5, clf__min_samples_leaf=2, clf__max_features=auto, clf__max_depth=40, clf__bootstrap=True \n",
      "[CV]  clf__n_estimators=600, clf__min_samples_split=5, clf__min_samples_leaf=2, clf__max_features=auto, clf__max_depth=40, clf__bootstrap=True, score=0.8419450919450919, total=   3.3s\n",
      "[Parallel(n_jobs=1)]: Done 191 out of 191 | elapsed: 23.3min remaining:    0.0s\n",
      "[CV] clf__n_estimators=600, clf__min_samples_split=5, clf__min_samples_leaf=2, clf__max_features=auto, clf__max_depth=40, clf__bootstrap=True \n",
      "[CV]  clf__n_estimators=600, clf__min_samples_split=5, clf__min_samples_leaf=2, clf__max_features=auto, clf__max_depth=40, clf__bootstrap=True, score=0.8547008547008547, total=   3.3s\n",
      "[Parallel(n_jobs=1)]: Done 192 out of 192 | elapsed: 23.3min remaining:    0.0s\n",
      "[CV] clf__n_estimators=1600, clf__min_samples_split=10, clf__min_samples_leaf=1, clf__max_features=auto, clf__max_depth=30, clf__bootstrap=True \n",
      "[CV]  clf__n_estimators=1600, clf__min_samples_split=10, clf__min_samples_leaf=1, clf__max_features=auto, clf__max_depth=30, clf__bootstrap=True, score=0.8093675609599177, total=   9.0s\n",
      "[Parallel(n_jobs=1)]: Done 193 out of 193 | elapsed: 23.5min remaining:    0.0s\n",
      "[CV] clf__n_estimators=1600, clf__min_samples_split=10, clf__min_samples_leaf=1, clf__max_features=auto, clf__max_depth=30, clf__bootstrap=True \n",
      "[CV]  clf__n_estimators=1600, clf__min_samples_split=10, clf__min_samples_leaf=1, clf__max_features=auto, clf__max_depth=30, clf__bootstrap=True, score=0.8407148407148407, total=   9.1s\n",
      "[Parallel(n_jobs=1)]: Done 194 out of 194 | elapsed: 23.6min remaining:    0.0s\n",
      "[CV] clf__n_estimators=1600, clf__min_samples_split=10, clf__min_samples_leaf=1, clf__max_features=auto, clf__max_depth=30, clf__bootstrap=True \n",
      "[CV]  clf__n_estimators=1600, clf__min_samples_split=10, clf__min_samples_leaf=1, clf__max_features=auto, clf__max_depth=30, clf__bootstrap=True, score=0.8523051023051023, total=   9.1s\n",
      "[Parallel(n_jobs=1)]: Done 195 out of 195 | elapsed: 23.8min remaining:    0.0s\n",
      "[CV] clf__n_estimators=2000, clf__min_samples_split=2, clf__min_samples_leaf=1, clf__max_features=sqrt, clf__max_depth=40, clf__bootstrap=False \n",
      "[CV]  clf__n_estimators=2000, clf__min_samples_split=2, clf__min_samples_leaf=1, clf__max_features=sqrt, clf__max_depth=40, clf__bootstrap=False, score=0.8140963777906453, total=  18.2s\n",
      "[Parallel(n_jobs=1)]: Done 196 out of 196 | elapsed: 24.1min remaining:    0.0s\n",
      "[CV] clf__n_estimators=2000, clf__min_samples_split=2, clf__min_samples_leaf=1, clf__max_features=sqrt, clf__max_depth=40, clf__bootstrap=False \n",
      "[CV]  clf__n_estimators=2000, clf__min_samples_split=2, clf__min_samples_leaf=1, clf__max_features=sqrt, clf__max_depth=40, clf__bootstrap=False, score=0.8446969696969697, total=  18.4s\n",
      "[Parallel(n_jobs=1)]: Done 197 out of 197 | elapsed: 24.4min remaining:    0.0s\n",
      "[CV] clf__n_estimators=2000, clf__min_samples_split=2, clf__min_samples_leaf=1, clf__max_features=sqrt, clf__max_depth=40, clf__bootstrap=False \n",
      "[CV]  clf__n_estimators=2000, clf__min_samples_split=2, clf__min_samples_leaf=1, clf__max_features=sqrt, clf__max_depth=40, clf__bootstrap=False, score=0.8529202279202279, total=  17.9s\n",
      "[Parallel(n_jobs=1)]: Done 198 out of 198 | elapsed: 24.7min remaining:    0.0s\n",
      "[CV] clf__n_estimators=600, clf__min_samples_split=5, clf__min_samples_leaf=1, clf__max_features=sqrt, clf__max_depth=30, clf__bootstrap=True \n",
      "[CV]  clf__n_estimators=600, clf__min_samples_split=5, clf__min_samples_leaf=1, clf__max_features=sqrt, clf__max_depth=30, clf__bootstrap=True, score=0.8087241845203629, total=   3.5s\n",
      "[Parallel(n_jobs=1)]: Done 199 out of 199 | elapsed: 24.8min remaining:    0.0s\n",
      "[CV] clf__n_estimators=600, clf__min_samples_split=5, clf__min_samples_leaf=1, clf__max_features=sqrt, clf__max_depth=30, clf__bootstrap=True \n",
      "[CV]  clf__n_estimators=600, clf__min_samples_split=5, clf__min_samples_leaf=1, clf__max_features=sqrt, clf__max_depth=30, clf__bootstrap=True, score=0.8429163429163429, total=   3.5s\n",
      "[Parallel(n_jobs=1)]: Done 200 out of 200 | elapsed: 24.8min remaining:    0.0s\n",
      "[CV] clf__n_estimators=600, clf__min_samples_split=5, clf__min_samples_leaf=1, clf__max_features=sqrt, clf__max_depth=30, clf__bootstrap=True \n",
      "[CV]  clf__n_estimators=600, clf__min_samples_split=5, clf__min_samples_leaf=1, clf__max_features=sqrt, clf__max_depth=30, clf__bootstrap=True, score=0.8542476042476043, total=   3.6s\n",
      "[Parallel(n_jobs=1)]: Done 201 out of 201 | elapsed: 24.9min remaining:    0.0s\n",
      "[CV] clf__n_estimators=1600, clf__min_samples_split=5, clf__min_samples_leaf=4, clf__max_features=auto, clf__max_depth=30, clf__bootstrap=False \n",
      "[CV]  clf__n_estimators=1600, clf__min_samples_split=5, clf__min_samples_leaf=4, clf__max_features=auto, clf__max_depth=30, clf__bootstrap=False, score=0.8149649359840443, total=  12.7s\n",
      "[Parallel(n_jobs=1)]: Done 202 out of 202 | elapsed: 25.1min remaining:    0.0s\n",
      "[CV] clf__n_estimators=1600, clf__min_samples_split=5, clf__min_samples_leaf=4, clf__max_features=auto, clf__max_depth=30, clf__bootstrap=False \n",
      "[CV]  clf__n_estimators=1600, clf__min_samples_split=5, clf__min_samples_leaf=4, clf__max_features=auto, clf__max_depth=30, clf__bootstrap=False, score=0.8412328412328413, total=  12.8s\n",
      "[Parallel(n_jobs=1)]: Done 203 out of 203 | elapsed: 25.3min remaining:    0.0s\n",
      "[CV] clf__n_estimators=1600, clf__min_samples_split=5, clf__min_samples_leaf=4, clf__max_features=auto, clf__max_depth=30, clf__bootstrap=False \n",
      "[CV]  clf__n_estimators=1600, clf__min_samples_split=5, clf__min_samples_leaf=4, clf__max_features=auto, clf__max_depth=30, clf__bootstrap=False, score=0.8545066045066045, total=  12.7s\n",
      "[Parallel(n_jobs=1)]: Done 204 out of 204 | elapsed: 25.5min remaining:    0.0s\n",
      "[CV] clf__n_estimators=1200, clf__min_samples_split=2, clf__min_samples_leaf=1, clf__max_features=sqrt, clf__max_depth=50, clf__bootstrap=False \n"
     ]
    },
    {
     "name": "stdout",
     "output_type": "stream",
     "text": [
      "[CV]  clf__n_estimators=1200, clf__min_samples_split=2, clf__min_samples_leaf=1, clf__max_features=sqrt, clf__max_depth=50, clf__bootstrap=False, score=0.8134208325291128, total=  10.9s\n",
      "[Parallel(n_jobs=1)]: Done 205 out of 205 | elapsed: 25.7min remaining:    0.0s\n",
      "[CV] clf__n_estimators=1200, clf__min_samples_split=2, clf__min_samples_leaf=1, clf__max_features=sqrt, clf__max_depth=50, clf__bootstrap=False \n",
      "[CV]  clf__n_estimators=1200, clf__min_samples_split=2, clf__min_samples_leaf=1, clf__max_features=sqrt, clf__max_depth=50, clf__bootstrap=False, score=0.8452797202797202, total=  11.1s\n",
      "[Parallel(n_jobs=1)]: Done 206 out of 206 | elapsed: 25.9min remaining:    0.0s\n",
      "[CV] clf__n_estimators=1200, clf__min_samples_split=2, clf__min_samples_leaf=1, clf__max_features=sqrt, clf__max_depth=50, clf__bootstrap=False \n",
      "[CV]  clf__n_estimators=1200, clf__min_samples_split=2, clf__min_samples_leaf=1, clf__max_features=sqrt, clf__max_depth=50, clf__bootstrap=False, score=0.8536324786324785, total=  10.8s\n",
      "[Parallel(n_jobs=1)]: Done 207 out of 207 | elapsed: 26.1min remaining:    0.0s\n",
      "[CV] clf__n_estimators=400, clf__min_samples_split=2, clf__min_samples_leaf=2, clf__max_features=auto, clf__max_depth=None, clf__bootstrap=True \n",
      "[CV]  clf__n_estimators=400, clf__min_samples_split=2, clf__min_samples_leaf=2, clf__max_features=auto, clf__max_depth=None, clf__bootstrap=True, score=0.81104033970276, total=   2.2s\n",
      "[Parallel(n_jobs=1)]: Done 208 out of 208 | elapsed: 26.1min remaining:    0.0s\n",
      "[CV] clf__n_estimators=400, clf__min_samples_split=2, clf__min_samples_leaf=2, clf__max_features=auto, clf__max_depth=None, clf__bootstrap=True \n",
      "[CV]  clf__n_estimators=400, clf__min_samples_split=2, clf__min_samples_leaf=2, clf__max_features=auto, clf__max_depth=None, clf__bootstrap=True, score=0.8429163429163429, total=   2.3s\n",
      "[Parallel(n_jobs=1)]: Done 209 out of 209 | elapsed: 26.2min remaining:    0.0s\n",
      "[CV] clf__n_estimators=400, clf__min_samples_split=2, clf__min_samples_leaf=2, clf__max_features=auto, clf__max_depth=None, clf__bootstrap=True \n",
      "[CV]  clf__n_estimators=400, clf__min_samples_split=2, clf__min_samples_leaf=2, clf__max_features=auto, clf__max_depth=None, clf__bootstrap=True, score=0.8590391090391091, total=   2.2s\n",
      "[Parallel(n_jobs=1)]: Done 210 out of 210 | elapsed: 26.2min remaining:    0.0s\n",
      "[CV] clf__n_estimators=1800, clf__min_samples_split=10, clf__min_samples_leaf=4, clf__max_features=sqrt, clf__max_depth=40, clf__bootstrap=False \n",
      "[CV]  clf__n_estimators=1800, clf__min_samples_split=10, clf__min_samples_leaf=4, clf__max_features=sqrt, clf__max_depth=40, clf__bootstrap=False, score=0.8147719230521777, total=  14.1s\n",
      "[Parallel(n_jobs=1)]: Done 211 out of 211 | elapsed: 26.4min remaining:    0.0s\n",
      "[CV] clf__n_estimators=1800, clf__min_samples_split=10, clf__min_samples_leaf=4, clf__max_features=sqrt, clf__max_depth=40, clf__bootstrap=False \n",
      "[CV]  clf__n_estimators=1800, clf__min_samples_split=10, clf__min_samples_leaf=4, clf__max_features=sqrt, clf__max_depth=40, clf__bootstrap=False, score=0.8419450919450919, total=  14.3s\n",
      "[Parallel(n_jobs=1)]: Done 212 out of 212 | elapsed: 26.7min remaining:    0.0s\n",
      "[CV] clf__n_estimators=1800, clf__min_samples_split=10, clf__min_samples_leaf=4, clf__max_features=sqrt, clf__max_depth=40, clf__bootstrap=False \n",
      "[CV]  clf__n_estimators=1800, clf__min_samples_split=10, clf__min_samples_leaf=4, clf__max_features=sqrt, clf__max_depth=40, clf__bootstrap=False, score=0.8556073556073556, total=  14.1s\n",
      "[Parallel(n_jobs=1)]: Done 213 out of 213 | elapsed: 26.9min remaining:    0.0s\n",
      "[CV] clf__n_estimators=600, clf__min_samples_split=10, clf__min_samples_leaf=2, clf__max_features=sqrt, clf__max_depth=50, clf__bootstrap=True \n",
      "[CV]  clf__n_estimators=600, clf__min_samples_split=10, clf__min_samples_leaf=2, clf__max_features=sqrt, clf__max_depth=50, clf__bootstrap=True, score=0.8069227304896095, total=   3.2s\n",
      "[Parallel(n_jobs=1)]: Done 214 out of 214 | elapsed: 27.0min remaining:    0.0s\n",
      "[CV] clf__n_estimators=600, clf__min_samples_split=10, clf__min_samples_leaf=2, clf__max_features=sqrt, clf__max_depth=50, clf__bootstrap=True \n",
      "[CV]  clf__n_estimators=600, clf__min_samples_split=10, clf__min_samples_leaf=2, clf__max_features=sqrt, clf__max_depth=50, clf__bootstrap=True, score=0.8396788396788396, total=   3.3s\n",
      "[Parallel(n_jobs=1)]: Done 215 out of 215 | elapsed: 27.0min remaining:    0.0s\n",
      "[CV] clf__n_estimators=600, clf__min_samples_split=10, clf__min_samples_leaf=2, clf__max_features=sqrt, clf__max_depth=50, clf__bootstrap=True \n",
      "[CV]  clf__n_estimators=600, clf__min_samples_split=10, clf__min_samples_leaf=2, clf__max_features=sqrt, clf__max_depth=50, clf__bootstrap=True, score=0.8506216006216005, total=   3.2s\n",
      "[Parallel(n_jobs=1)]: Done 216 out of 216 | elapsed: 27.1min remaining:    0.0s\n",
      "[CV] clf__n_estimators=200, clf__min_samples_split=2, clf__min_samples_leaf=2, clf__max_features=auto, clf__max_depth=90, clf__bootstrap=False \n",
      "[CV]  clf__n_estimators=200, clf__min_samples_split=2, clf__min_samples_leaf=2, clf__max_features=auto, clf__max_depth=90, clf__bootstrap=False, score=0.820176285144438, total=   1.8s\n",
      "[Parallel(n_jobs=1)]: Done 217 out of 217 | elapsed: 27.1min remaining:    0.0s\n",
      "[CV] clf__n_estimators=200, clf__min_samples_split=2, clf__min_samples_leaf=2, clf__max_features=auto, clf__max_depth=90, clf__bootstrap=False \n",
      "[CV]  clf__n_estimators=200, clf__min_samples_split=2, clf__min_samples_leaf=2, clf__max_features=auto, clf__max_depth=90, clf__bootstrap=False, score=0.8449235949235949, total=   1.8s\n",
      "[Parallel(n_jobs=1)]: Done 218 out of 218 | elapsed: 27.2min remaining:    0.0s\n",
      "[CV] clf__n_estimators=200, clf__min_samples_split=2, clf__min_samples_leaf=2, clf__max_features=auto, clf__max_depth=90, clf__bootstrap=False \n",
      "[CV]  clf__n_estimators=200, clf__min_samples_split=2, clf__min_samples_leaf=2, clf__max_features=auto, clf__max_depth=90, clf__bootstrap=False, score=0.8523051023051023, total=   1.8s\n",
      "[Parallel(n_jobs=1)]: Done 219 out of 219 | elapsed: 27.2min remaining:    0.0s\n",
      "[CV] clf__n_estimators=200, clf__min_samples_split=10, clf__min_samples_leaf=4, clf__max_features=auto, clf__max_depth=20, clf__bootstrap=False \n",
      "[CV]  clf__n_estimators=200, clf__min_samples_split=10, clf__min_samples_leaf=4, clf__max_features=auto, clf__max_depth=20, clf__bootstrap=False, score=0.8103969632632054, total=   1.6s\n",
      "[Parallel(n_jobs=1)]: Done 220 out of 220 | elapsed: 27.2min remaining:    0.0s\n",
      "[CV] clf__n_estimators=200, clf__min_samples_split=10, clf__min_samples_leaf=4, clf__max_features=auto, clf__max_depth=20, clf__bootstrap=False \n",
      "[CV]  clf__n_estimators=200, clf__min_samples_split=10, clf__min_samples_leaf=4, clf__max_features=auto, clf__max_depth=20, clf__bootstrap=False, score=0.8403263403263403, total=   1.7s\n",
      "[Parallel(n_jobs=1)]: Done 221 out of 221 | elapsed: 27.2min remaining:    0.0s\n",
      "[CV] clf__n_estimators=200, clf__min_samples_split=10, clf__min_samples_leaf=4, clf__max_features=auto, clf__max_depth=20, clf__bootstrap=False \n",
      "[CV]  clf__n_estimators=200, clf__min_samples_split=10, clf__min_samples_leaf=4, clf__max_features=auto, clf__max_depth=20, clf__bootstrap=False, score=0.8530173530173529, total=   1.6s\n",
      "[Parallel(n_jobs=1)]: Done 222 out of 222 | elapsed: 27.3min remaining:    0.0s\n",
      "[CV] clf__n_estimators=400, clf__min_samples_split=5, clf__min_samples_leaf=4, clf__max_features=sqrt, clf__max_depth=None, clf__bootstrap=True \n",
      "[CV]  clf__n_estimators=400, clf__min_samples_split=5, clf__min_samples_leaf=4, clf__max_features=sqrt, clf__max_depth=None, clf__bootstrap=True, score=0.8061506787621437, total=   2.0s\n",
      "[Parallel(n_jobs=1)]: Done 223 out of 223 | elapsed: 27.3min remaining:    0.0s\n",
      "[CV] clf__n_estimators=400, clf__min_samples_split=5, clf__min_samples_leaf=4, clf__max_features=sqrt, clf__max_depth=None, clf__bootstrap=True \n",
      "[CV]  clf__n_estimators=400, clf__min_samples_split=5, clf__min_samples_leaf=4, clf__max_features=sqrt, clf__max_depth=None, clf__bootstrap=True, score=0.8422688422688422, total=   2.0s\n",
      "[Parallel(n_jobs=1)]: Done 224 out of 224 | elapsed: 27.3min remaining:    0.0s\n",
      "[CV] clf__n_estimators=400, clf__min_samples_split=5, clf__min_samples_leaf=4, clf__max_features=sqrt, clf__max_depth=None, clf__bootstrap=True \n"
     ]
    },
    {
     "name": "stdout",
     "output_type": "stream",
     "text": [
      "[CV]  clf__n_estimators=400, clf__min_samples_split=5, clf__min_samples_leaf=4, clf__max_features=sqrt, clf__max_depth=None, clf__bootstrap=True, score=0.8451825951825953, total=   2.0s\n",
      "[Parallel(n_jobs=1)]: Done 225 out of 225 | elapsed: 27.4min remaining:    0.0s\n",
      "[CV] clf__n_estimators=1200, clf__min_samples_split=10, clf__min_samples_leaf=1, clf__max_features=auto, clf__max_depth=30, clf__bootstrap=True \n",
      "[CV]  clf__n_estimators=1200, clf__min_samples_split=10, clf__min_samples_leaf=1, clf__max_features=auto, clf__max_depth=30, clf__bootstrap=True, score=0.8102682879752944, total=   6.7s\n",
      "[Parallel(n_jobs=1)]: Done 226 out of 226 | elapsed: 27.5min remaining:    0.0s\n",
      "[CV] clf__n_estimators=1200, clf__min_samples_split=10, clf__min_samples_leaf=1, clf__max_features=auto, clf__max_depth=30, clf__bootstrap=True \n",
      "[CV]  clf__n_estimators=1200, clf__min_samples_split=10, clf__min_samples_leaf=1, clf__max_features=auto, clf__max_depth=30, clf__bootstrap=True, score=0.8386428386428387, total=   6.9s\n",
      "[Parallel(n_jobs=1)]: Done 227 out of 227 | elapsed: 27.6min remaining:    0.0s\n",
      "[CV] clf__n_estimators=1200, clf__min_samples_split=10, clf__min_samples_leaf=1, clf__max_features=auto, clf__max_depth=30, clf__bootstrap=True \n",
      "[CV]  clf__n_estimators=1200, clf__min_samples_split=10, clf__min_samples_leaf=1, clf__max_features=auto, clf__max_depth=30, clf__bootstrap=True, score=0.8535353535353536, total=   6.8s\n",
      "[Parallel(n_jobs=1)]: Done 228 out of 228 | elapsed: 27.7min remaining:    0.0s\n",
      "[CV] clf__n_estimators=1800, clf__min_samples_split=2, clf__min_samples_leaf=1, clf__max_features=auto, clf__max_depth=30, clf__bootstrap=True \n",
      "[CV]  clf__n_estimators=1800, clf__min_samples_split=2, clf__min_samples_leaf=1, clf__max_features=auto, clf__max_depth=30, clf__bootstrap=True, score=0.8125201055137359, total=  10.5s\n",
      "[Parallel(n_jobs=1)]: Done 229 out of 229 | elapsed: 27.9min remaining:    0.0s\n",
      "[CV] clf__n_estimators=1800, clf__min_samples_split=2, clf__min_samples_leaf=1, clf__max_features=auto, clf__max_depth=30, clf__bootstrap=True \n",
      "[CV]  clf__n_estimators=1800, clf__min_samples_split=2, clf__min_samples_leaf=1, clf__max_features=auto, clf__max_depth=30, clf__bootstrap=True, score=0.8435314685314685, total=  10.5s\n",
      "[Parallel(n_jobs=1)]: Done 230 out of 230 | elapsed: 28.1min remaining:    0.0s\n",
      "[CV] clf__n_estimators=1800, clf__min_samples_split=2, clf__min_samples_leaf=1, clf__max_features=auto, clf__max_depth=30, clf__bootstrap=True \n",
      "[CV]  clf__n_estimators=1800, clf__min_samples_split=2, clf__min_samples_leaf=1, clf__max_features=auto, clf__max_depth=30, clf__bootstrap=True, score=0.8565462315462317, total=  10.4s\n",
      "[Parallel(n_jobs=1)]: Done 231 out of 231 | elapsed: 28.2min remaining:    0.0s\n",
      "[CV] clf__n_estimators=1400, clf__min_samples_split=5, clf__min_samples_leaf=2, clf__max_features=auto, clf__max_depth=10, clf__bootstrap=True \n",
      "[CV]  clf__n_estimators=1400, clf__min_samples_split=5, clf__min_samples_leaf=2, clf__max_features=auto, clf__max_depth=10, clf__bootstrap=True, score=0.8081451457247636, total=   7.4s\n",
      "[Parallel(n_jobs=1)]: Done 232 out of 232 | elapsed: 28.4min remaining:    0.0s\n",
      "[CV] clf__n_estimators=1400, clf__min_samples_split=5, clf__min_samples_leaf=2, clf__max_features=auto, clf__max_depth=10, clf__bootstrap=True \n",
      "[CV]  clf__n_estimators=1400, clf__min_samples_split=5, clf__min_samples_leaf=2, clf__max_features=auto, clf__max_depth=10, clf__bootstrap=True, score=0.8443408443408443, total=   7.5s\n",
      "[Parallel(n_jobs=1)]: Done 233 out of 233 | elapsed: 28.5min remaining:    0.0s\n",
      "[CV] clf__n_estimators=1400, clf__min_samples_split=5, clf__min_samples_leaf=2, clf__max_features=auto, clf__max_depth=10, clf__bootstrap=True \n",
      "[CV]  clf__n_estimators=1400, clf__min_samples_split=5, clf__min_samples_leaf=2, clf__max_features=auto, clf__max_depth=10, clf__bootstrap=True, score=0.853082103082103, total=   7.4s\n",
      "[Parallel(n_jobs=1)]: Done 234 out of 234 | elapsed: 28.6min remaining:    0.0s\n",
      "[CV] clf__n_estimators=2000, clf__min_samples_split=2, clf__min_samples_leaf=1, clf__max_features=auto, clf__max_depth=70, clf__bootstrap=False \n",
      "[CV]  clf__n_estimators=2000, clf__min_samples_split=2, clf__min_samples_leaf=1, clf__max_features=auto, clf__max_depth=70, clf__bootstrap=False, score=0.8142893907225118, total=  18.1s\n",
      "[Parallel(n_jobs=1)]: Done 235 out of 235 | elapsed: 28.9min remaining:    0.0s\n",
      "[CV] clf__n_estimators=2000, clf__min_samples_split=2, clf__min_samples_leaf=1, clf__max_features=auto, clf__max_depth=70, clf__bootstrap=False \n",
      "[CV]  clf__n_estimators=2000, clf__min_samples_split=2, clf__min_samples_leaf=1, clf__max_features=auto, clf__max_depth=70, clf__bootstrap=False, score=0.8449235949235949, total=  18.5s\n",
      "[Parallel(n_jobs=1)]: Done 236 out of 236 | elapsed: 29.2min remaining:    0.0s\n",
      "[CV] clf__n_estimators=2000, clf__min_samples_split=2, clf__min_samples_leaf=1, clf__max_features=auto, clf__max_depth=70, clf__bootstrap=False \n",
      "[CV]  clf__n_estimators=2000, clf__min_samples_split=2, clf__min_samples_leaf=1, clf__max_features=auto, clf__max_depth=70, clf__bootstrap=False, score=0.8532116032116033, total=  17.9s\n",
      "[Parallel(n_jobs=1)]: Done 237 out of 237 | elapsed: 29.6min remaining:    0.0s\n",
      "[CV] clf__n_estimators=600, clf__min_samples_split=2, clf__min_samples_leaf=2, clf__max_features=sqrt, clf__max_depth=70, clf__bootstrap=False \n",
      "[CV]  clf__n_estimators=600, clf__min_samples_split=2, clf__min_samples_leaf=2, clf__max_features=sqrt, clf__max_depth=70, clf__bootstrap=False, score=0.8136781831049347, total=   5.2s\n",
      "[Parallel(n_jobs=1)]: Done 238 out of 238 | elapsed: 29.6min remaining:    0.0s\n",
      "[CV] clf__n_estimators=600, clf__min_samples_split=2, clf__min_samples_leaf=2, clf__max_features=sqrt, clf__max_depth=70, clf__bootstrap=False \n",
      "[CV]  clf__n_estimators=600, clf__min_samples_split=2, clf__min_samples_leaf=2, clf__max_features=sqrt, clf__max_depth=70, clf__bootstrap=False, score=0.8416213416213416, total=   5.3s\n",
      "[Parallel(n_jobs=1)]: Done 239 out of 239 | elapsed: 29.7min remaining:    0.0s\n",
      "[CV] clf__n_estimators=600, clf__min_samples_split=2, clf__min_samples_leaf=2, clf__max_features=sqrt, clf__max_depth=70, clf__bootstrap=False \n",
      "[CV]  clf__n_estimators=600, clf__min_samples_split=2, clf__min_samples_leaf=2, clf__max_features=sqrt, clf__max_depth=70, clf__bootstrap=False, score=0.8520461020461021, total=   5.2s\n",
      "[Parallel(n_jobs=1)]: Done 240 out of 240 | elapsed: 29.8min remaining:    0.0s\n",
      "[CV] clf__n_estimators=600, clf__min_samples_split=5, clf__min_samples_leaf=4, clf__max_features=sqrt, clf__max_depth=70, clf__bootstrap=True \n",
      "[CV]  clf__n_estimators=600, clf__min_samples_split=5, clf__min_samples_leaf=4, clf__max_features=sqrt, clf__max_depth=70, clf__bootstrap=True, score=0.8058933281863218, total=   3.0s\n",
      "[Parallel(n_jobs=1)]: Done 241 out of 241 | elapsed: 29.9min remaining:    0.0s\n",
      "[CV] clf__n_estimators=600, clf__min_samples_split=5, clf__min_samples_leaf=4, clf__max_features=sqrt, clf__max_depth=70, clf__bootstrap=True \n",
      "[CV]  clf__n_estimators=600, clf__min_samples_split=5, clf__min_samples_leaf=4, clf__max_features=sqrt, clf__max_depth=70, clf__bootstrap=True, score=0.8401320901320901, total=   3.0s\n",
      "[Parallel(n_jobs=1)]: Done 242 out of 242 | elapsed: 29.9min remaining:    0.0s\n",
      "[CV] clf__n_estimators=600, clf__min_samples_split=5, clf__min_samples_leaf=4, clf__max_features=sqrt, clf__max_depth=70, clf__bootstrap=True \n",
      "[CV]  clf__n_estimators=600, clf__min_samples_split=5, clf__min_samples_leaf=4, clf__max_features=sqrt, clf__max_depth=70, clf__bootstrap=True, score=0.8556721056721056, total=   3.0s\n",
      "[Parallel(n_jobs=1)]: Done 243 out of 243 | elapsed: 30.0min remaining:    0.0s\n",
      "[CV] clf__n_estimators=200, clf__min_samples_split=2, clf__min_samples_leaf=1, clf__max_features=sqrt, clf__max_depth=100, clf__bootstrap=False \n",
      "[CV]  clf__n_estimators=200, clf__min_samples_split=2, clf__min_samples_leaf=1, clf__max_features=sqrt, clf__max_depth=100, clf__bootstrap=False, score=0.8125844431576916, total=   1.9s\n",
      "[Parallel(n_jobs=1)]: Done 244 out of 244 | elapsed: 30.0min remaining:    0.0s\n",
      "[CV] clf__n_estimators=200, clf__min_samples_split=2, clf__min_samples_leaf=1, clf__max_features=sqrt, clf__max_depth=100, clf__bootstrap=False \n",
      "[CV]  clf__n_estimators=200, clf__min_samples_split=2, clf__min_samples_leaf=1, clf__max_features=sqrt, clf__max_depth=100, clf__bootstrap=False, score=0.8448588448588449, total=   1.9s\n",
      "[Parallel(n_jobs=1)]: Done 245 out of 245 | elapsed: 30.0min remaining:    0.0s\n",
      "[CV] clf__n_estimators=200, clf__min_samples_split=2, clf__min_samples_leaf=1, clf__max_features=sqrt, clf__max_depth=100, clf__bootstrap=False \n"
     ]
    },
    {
     "name": "stdout",
     "output_type": "stream",
     "text": [
      "[CV]  clf__n_estimators=200, clf__min_samples_split=2, clf__min_samples_leaf=1, clf__max_features=sqrt, clf__max_depth=100, clf__bootstrap=False, score=0.8535353535353536, total=   1.9s\n",
      "[Parallel(n_jobs=1)]: Done 246 out of 246 | elapsed: 30.1min remaining:    0.0s\n",
      "[CV] clf__n_estimators=1600, clf__min_samples_split=5, clf__min_samples_leaf=2, clf__max_features=sqrt, clf__max_depth=40, clf__bootstrap=True \n",
      "[CV]  clf__n_estimators=1600, clf__min_samples_split=5, clf__min_samples_leaf=2, clf__max_features=sqrt, clf__max_depth=40, clf__bootstrap=True, score=0.8111046773467155, total=   8.6s\n",
      "[Parallel(n_jobs=1)]: Done 247 out of 247 | elapsed: 30.2min remaining:    0.0s\n",
      "[CV] clf__n_estimators=1600, clf__min_samples_split=5, clf__min_samples_leaf=2, clf__max_features=sqrt, clf__max_depth=40, clf__bootstrap=True \n",
      "[CV]  clf__n_estimators=1600, clf__min_samples_split=5, clf__min_samples_leaf=2, clf__max_features=sqrt, clf__max_depth=40, clf__bootstrap=True, score=0.842074592074592, total=   8.7s\n",
      "[Parallel(n_jobs=1)]: Done 248 out of 248 | elapsed: 30.4min remaining:    0.0s\n",
      "[CV] clf__n_estimators=1600, clf__min_samples_split=5, clf__min_samples_leaf=2, clf__max_features=sqrt, clf__max_depth=40, clf__bootstrap=True \n",
      "[CV]  clf__n_estimators=1600, clf__min_samples_split=5, clf__min_samples_leaf=2, clf__max_features=sqrt, clf__max_depth=40, clf__bootstrap=True, score=0.8542476042476043, total=   8.6s\n",
      "[Parallel(n_jobs=1)]: Done 249 out of 249 | elapsed: 30.5min remaining:    0.0s\n",
      "[CV] clf__n_estimators=600, clf__min_samples_split=10, clf__min_samples_leaf=2, clf__max_features=sqrt, clf__max_depth=90, clf__bootstrap=True \n",
      "[CV]  clf__n_estimators=600, clf__min_samples_split=10, clf__min_samples_leaf=2, clf__max_features=sqrt, clf__max_depth=90, clf__bootstrap=True, score=0.8048639258830341, total=   3.2s\n",
      "[Parallel(n_jobs=1)]: Done 250 out of 250 | elapsed: 30.6min remaining:    0.0s\n",
      "[CV] clf__n_estimators=600, clf__min_samples_split=10, clf__min_samples_leaf=2, clf__max_features=sqrt, clf__max_depth=90, clf__bootstrap=True \n",
      "[CV]  clf__n_estimators=600, clf__min_samples_split=10, clf__min_samples_leaf=2, clf__max_features=sqrt, clf__max_depth=90, clf__bootstrap=True, score=0.8412975912975913, total=   3.3s\n",
      "[Parallel(n_jobs=1)]: Done 251 out of 251 | elapsed: 30.6min remaining:    0.0s\n",
      "[CV] clf__n_estimators=600, clf__min_samples_split=10, clf__min_samples_leaf=2, clf__max_features=sqrt, clf__max_depth=90, clf__bootstrap=True \n",
      "[CV]  clf__n_estimators=600, clf__min_samples_split=10, clf__min_samples_leaf=2, clf__max_features=sqrt, clf__max_depth=90, clf__bootstrap=True, score=0.8519813519813519, total=   3.2s\n",
      "[Parallel(n_jobs=1)]: Done 252 out of 252 | elapsed: 30.7min remaining:    0.0s\n",
      "[CV] clf__n_estimators=600, clf__min_samples_split=5, clf__min_samples_leaf=2, clf__max_features=auto, clf__max_depth=80, clf__bootstrap=False \n",
      "[CV]  clf__n_estimators=600, clf__min_samples_split=5, clf__min_samples_leaf=2, clf__max_features=auto, clf__max_depth=80, clf__bootstrap=False, score=0.8133564948851573, total=   5.2s\n",
      "[Parallel(n_jobs=1)]: Done 253 out of 253 | elapsed: 30.8min remaining:    0.0s\n",
      "[CV] clf__n_estimators=600, clf__min_samples_split=5, clf__min_samples_leaf=2, clf__max_features=auto, clf__max_depth=80, clf__bootstrap=False \n",
      "[CV]  clf__n_estimators=600, clf__min_samples_split=5, clf__min_samples_leaf=2, clf__max_features=auto, clf__max_depth=80, clf__bootstrap=False, score=0.8467365967365967, total=   5.3s\n",
      "[Parallel(n_jobs=1)]: Done 254 out of 254 | elapsed: 30.9min remaining:    0.0s\n",
      "[CV] clf__n_estimators=600, clf__min_samples_split=5, clf__min_samples_leaf=2, clf__max_features=auto, clf__max_depth=80, clf__bootstrap=False \n",
      "[CV]  clf__n_estimators=600, clf__min_samples_split=5, clf__min_samples_leaf=2, clf__max_features=auto, clf__max_depth=80, clf__bootstrap=False, score=0.8538591038591038, total=   5.2s\n",
      "[Parallel(n_jobs=1)]: Done 255 out of 255 | elapsed: 30.9min remaining:    0.0s\n",
      "[CV] clf__n_estimators=1200, clf__min_samples_split=5, clf__min_samples_leaf=2, clf__max_features=sqrt, clf__max_depth=80, clf__bootstrap=True \n",
      "[CV]  clf__n_estimators=1200, clf__min_samples_split=5, clf__min_samples_leaf=2, clf__max_features=sqrt, clf__max_depth=80, clf__bootstrap=True, score=0.8098179244676059, total=   6.5s\n",
      "[Parallel(n_jobs=1)]: Done 256 out of 256 | elapsed: 31.0min remaining:    0.0s\n",
      "[CV] clf__n_estimators=1200, clf__min_samples_split=5, clf__min_samples_leaf=2, clf__max_features=sqrt, clf__max_depth=80, clf__bootstrap=True \n",
      "[CV]  clf__n_estimators=1200, clf__min_samples_split=5, clf__min_samples_leaf=2, clf__max_features=sqrt, clf__max_depth=80, clf__bootstrap=True, score=0.8431753431753432, total=   6.6s\n",
      "[Parallel(n_jobs=1)]: Done 257 out of 257 | elapsed: 31.2min remaining:    0.0s\n",
      "[CV] clf__n_estimators=1200, clf__min_samples_split=5, clf__min_samples_leaf=2, clf__max_features=sqrt, clf__max_depth=80, clf__bootstrap=True \n",
      "[CV]  clf__n_estimators=1200, clf__min_samples_split=5, clf__min_samples_leaf=2, clf__max_features=sqrt, clf__max_depth=80, clf__bootstrap=True, score=0.8537296037296037, total=   6.5s\n",
      "[Parallel(n_jobs=1)]: Done 258 out of 258 | elapsed: 31.3min remaining:    0.0s\n",
      "[CV] clf__n_estimators=600, clf__min_samples_split=10, clf__min_samples_leaf=2, clf__max_features=sqrt, clf__max_depth=40, clf__bootstrap=False \n",
      "[CV]  clf__n_estimators=600, clf__min_samples_split=10, clf__min_samples_leaf=2, clf__max_features=sqrt, clf__max_depth=40, clf__bootstrap=False, score=0.8131634819532909, total=   5.1s\n",
      "[Parallel(n_jobs=1)]: Done 259 out of 259 | elapsed: 31.4min remaining:    0.0s\n",
      "[CV] clf__n_estimators=600, clf__min_samples_split=10, clf__min_samples_leaf=2, clf__max_features=sqrt, clf__max_depth=40, clf__bootstrap=False \n",
      "[CV]  clf__n_estimators=600, clf__min_samples_split=10, clf__min_samples_leaf=2, clf__max_features=sqrt, clf__max_depth=40, clf__bootstrap=False, score=0.8425925925925926, total=   5.2s\n",
      "[Parallel(n_jobs=1)]: Done 260 out of 260 | elapsed: 31.4min remaining:    0.0s\n",
      "[CV] clf__n_estimators=600, clf__min_samples_split=10, clf__min_samples_leaf=2, clf__max_features=sqrt, clf__max_depth=40, clf__bootstrap=False \n",
      "[CV]  clf__n_estimators=600, clf__min_samples_split=10, clf__min_samples_leaf=2, clf__max_features=sqrt, clf__max_depth=40, clf__bootstrap=False, score=0.8533411033411034, total=   5.1s\n",
      "[Parallel(n_jobs=1)]: Done 261 out of 261 | elapsed: 31.5min remaining:    0.0s\n",
      "[CV] clf__n_estimators=1200, clf__min_samples_split=2, clf__min_samples_leaf=2, clf__max_features=auto, clf__max_depth=40, clf__bootstrap=True \n",
      "[CV]  clf__n_estimators=1200, clf__min_samples_split=2, clf__min_samples_leaf=2, clf__max_features=auto, clf__max_depth=40, clf__bootstrap=True, score=0.8090458727401403, total=   6.5s\n",
      "[Parallel(n_jobs=1)]: Done 262 out of 262 | elapsed: 31.6min remaining:    0.0s\n",
      "[CV] clf__n_estimators=1200, clf__min_samples_split=2, clf__min_samples_leaf=2, clf__max_features=auto, clf__max_depth=40, clf__bootstrap=True \n",
      "[CV]  clf__n_estimators=1200, clf__min_samples_split=2, clf__min_samples_leaf=2, clf__max_features=auto, clf__max_depth=40, clf__bootstrap=True, score=0.8425278425278425, total=   6.7s\n",
      "[Parallel(n_jobs=1)]: Done 263 out of 263 | elapsed: 31.8min remaining:    0.0s\n",
      "[CV] clf__n_estimators=1200, clf__min_samples_split=2, clf__min_samples_leaf=2, clf__max_features=auto, clf__max_depth=40, clf__bootstrap=True \n",
      "[CV]  clf__n_estimators=1200, clf__min_samples_split=2, clf__min_samples_leaf=2, clf__max_features=auto, clf__max_depth=40, clf__bootstrap=True, score=0.8524346024346025, total=   6.6s\n",
      "[Parallel(n_jobs=1)]: Done 264 out of 264 | elapsed: 31.9min remaining:    0.0s\n",
      "[CV] clf__n_estimators=1600, clf__min_samples_split=5, clf__min_samples_leaf=4, clf__max_features=sqrt, clf__max_depth=50, clf__bootstrap=False \n",
      "[CV]  clf__n_estimators=1600, clf__min_samples_split=5, clf__min_samples_leaf=4, clf__max_features=sqrt, clf__max_depth=50, clf__bootstrap=False, score=0.8141928842565784, total=  12.6s\n",
      "[Parallel(n_jobs=1)]: Done 265 out of 265 | elapsed: 32.1min remaining:    0.0s\n",
      "[CV] clf__n_estimators=1600, clf__min_samples_split=5, clf__min_samples_leaf=4, clf__max_features=sqrt, clf__max_depth=50, clf__bootstrap=False \n",
      "[CV]  clf__n_estimators=1600, clf__min_samples_split=5, clf__min_samples_leaf=4, clf__max_features=sqrt, clf__max_depth=50, clf__bootstrap=False, score=0.8451825951825952, total=  12.9s\n",
      "[Parallel(n_jobs=1)]: Done 266 out of 266 | elapsed: 32.3min remaining:    0.0s\n",
      "[CV] clf__n_estimators=1600, clf__min_samples_split=5, clf__min_samples_leaf=4, clf__max_features=sqrt, clf__max_depth=50, clf__bootstrap=False \n"
     ]
    },
    {
     "name": "stdout",
     "output_type": "stream",
     "text": [
      "[CV]  clf__n_estimators=1600, clf__min_samples_split=5, clf__min_samples_leaf=4, clf__max_features=sqrt, clf__max_depth=50, clf__bootstrap=False, score=0.8563843563843563, total=  12.6s\n",
      "[Parallel(n_jobs=1)]: Done 267 out of 267 | elapsed: 32.5min remaining:    0.0s\n",
      "[CV] clf__n_estimators=1800, clf__min_samples_split=2, clf__min_samples_leaf=1, clf__max_features=sqrt, clf__max_depth=30, clf__bootstrap=False \n",
      "[CV]  clf__n_estimators=1800, clf__min_samples_split=2, clf__min_samples_leaf=1, clf__max_features=sqrt, clf__max_depth=30, clf__bootstrap=False, score=0.8145467412983337, total=  16.3s\n",
      "[Parallel(n_jobs=1)]: Done 268 out of 268 | elapsed: 32.8min remaining:    0.0s\n",
      "[CV] clf__n_estimators=1800, clf__min_samples_split=2, clf__min_samples_leaf=1, clf__max_features=sqrt, clf__max_depth=30, clf__bootstrap=False \n",
      "[CV]  clf__n_estimators=1800, clf__min_samples_split=2, clf__min_samples_leaf=1, clf__max_features=sqrt, clf__max_depth=30, clf__bootstrap=False, score=0.8490999740999741, total=  16.6s\n",
      "[Parallel(n_jobs=1)]: Done 269 out of 269 | elapsed: 33.1min remaining:    0.0s\n",
      "[CV] clf__n_estimators=1800, clf__min_samples_split=2, clf__min_samples_leaf=1, clf__max_features=sqrt, clf__max_depth=30, clf__bootstrap=False \n",
      "[CV]  clf__n_estimators=1800, clf__min_samples_split=2, clf__min_samples_leaf=1, clf__max_features=sqrt, clf__max_depth=30, clf__bootstrap=False, score=0.8522079772079774, total=  16.1s\n",
      "[Parallel(n_jobs=1)]: Done 270 out of 270 | elapsed: 33.3min remaining:    0.0s\n",
      "[CV] clf__n_estimators=1800, clf__min_samples_split=2, clf__min_samples_leaf=2, clf__max_features=sqrt, clf__max_depth=None, clf__bootstrap=True \n",
      "[CV]  clf__n_estimators=1800, clf__min_samples_split=2, clf__min_samples_leaf=2, clf__max_features=sqrt, clf__max_depth=None, clf__bootstrap=True, score=0.8129061313774689, total=   9.8s\n",
      "[Parallel(n_jobs=1)]: Done 271 out of 271 | elapsed: 33.5min remaining:    0.0s\n",
      "[CV] clf__n_estimators=1800, clf__min_samples_split=2, clf__min_samples_leaf=2, clf__max_features=sqrt, clf__max_depth=None, clf__bootstrap=True \n",
      "[CV]  clf__n_estimators=1800, clf__min_samples_split=2, clf__min_samples_leaf=2, clf__max_features=sqrt, clf__max_depth=None, clf__bootstrap=True, score=0.8407148407148408, total=   9.8s\n",
      "[Parallel(n_jobs=1)]: Done 272 out of 272 | elapsed: 33.7min remaining:    0.0s\n",
      "[CV] clf__n_estimators=1800, clf__min_samples_split=2, clf__min_samples_leaf=2, clf__max_features=sqrt, clf__max_depth=None, clf__bootstrap=True \n",
      "[CV]  clf__n_estimators=1800, clf__min_samples_split=2, clf__min_samples_leaf=2, clf__max_features=sqrt, clf__max_depth=None, clf__bootstrap=True, score=0.8532763532763532, total=   9.8s\n",
      "[Parallel(n_jobs=1)]: Done 273 out of 273 | elapsed: 33.8min remaining:    0.0s\n",
      "[CV] clf__n_estimators=800, clf__min_samples_split=10, clf__min_samples_leaf=1, clf__max_features=auto, clf__max_depth=80, clf__bootstrap=True \n",
      "[CV]  clf__n_estimators=800, clf__min_samples_split=10, clf__min_samples_leaf=1, clf__max_features=auto, clf__max_depth=80, clf__bootstrap=True, score=0.8089815350961848, total=   4.5s\n",
      "[Parallel(n_jobs=1)]: Done 274 out of 274 | elapsed: 33.9min remaining:    0.0s\n",
      "[CV] clf__n_estimators=800, clf__min_samples_split=10, clf__min_samples_leaf=1, clf__max_features=auto, clf__max_depth=80, clf__bootstrap=True \n",
      "[CV]  clf__n_estimators=800, clf__min_samples_split=10, clf__min_samples_leaf=1, clf__max_features=auto, clf__max_depth=80, clf__bootstrap=True, score=0.8407148407148407, total=   4.6s\n",
      "[Parallel(n_jobs=1)]: Done 275 out of 275 | elapsed: 34.0min remaining:    0.0s\n",
      "[CV] clf__n_estimators=800, clf__min_samples_split=10, clf__min_samples_leaf=1, clf__max_features=auto, clf__max_depth=80, clf__bootstrap=True \n",
      "[CV]  clf__n_estimators=800, clf__min_samples_split=10, clf__min_samples_leaf=1, clf__max_features=auto, clf__max_depth=80, clf__bootstrap=True, score=0.8541181041181041, total=   4.5s\n",
      "[Parallel(n_jobs=1)]: Done 276 out of 276 | elapsed: 34.1min remaining:    0.0s\n",
      "[CV] clf__n_estimators=1400, clf__min_samples_split=5, clf__min_samples_leaf=1, clf__max_features=sqrt, clf__max_depth=100, clf__bootstrap=True \n",
      "[CV]  clf__n_estimators=1400, clf__min_samples_split=5, clf__min_samples_leaf=1, clf__max_features=sqrt, clf__max_depth=100, clf__bootstrap=True, score=0.8154152994917325, total=   8.0s\n",
      "[Parallel(n_jobs=1)]: Done 277 out of 277 | elapsed: 34.2min remaining:    0.0s\n",
      "[CV] clf__n_estimators=1400, clf__min_samples_split=5, clf__min_samples_leaf=1, clf__max_features=sqrt, clf__max_depth=100, clf__bootstrap=True \n",
      "[CV]  clf__n_estimators=1400, clf__min_samples_split=5, clf__min_samples_leaf=1, clf__max_features=sqrt, clf__max_depth=100, clf__bootstrap=True, score=0.8420745920745921, total=   8.1s\n",
      "[Parallel(n_jobs=1)]: Done 278 out of 278 | elapsed: 34.3min remaining:    0.0s\n",
      "[CV] clf__n_estimators=1400, clf__min_samples_split=5, clf__min_samples_leaf=1, clf__max_features=sqrt, clf__max_depth=100, clf__bootstrap=True \n",
      "[CV]  clf__n_estimators=1400, clf__min_samples_split=5, clf__min_samples_leaf=1, clf__max_features=sqrt, clf__max_depth=100, clf__bootstrap=True, score=0.8570966070966072, total=   8.1s\n",
      "[Parallel(n_jobs=1)]: Done 279 out of 279 | elapsed: 34.5min remaining:    0.0s\n",
      "[CV] clf__n_estimators=1000, clf__min_samples_split=5, clf__min_samples_leaf=1, clf__max_features=auto, clf__max_depth=70, clf__bootstrap=True \n",
      "[CV]  clf__n_estimators=1000, clf__min_samples_split=5, clf__min_samples_leaf=1, clf__max_features=auto, clf__max_depth=70, clf__bootstrap=True, score=0.8087241845203628, total=   5.7s\n",
      "[Parallel(n_jobs=1)]: Done 280 out of 280 | elapsed: 34.6min remaining:    0.0s\n",
      "[CV] clf__n_estimators=1000, clf__min_samples_split=5, clf__min_samples_leaf=1, clf__max_features=auto, clf__max_depth=70, clf__bootstrap=True \n",
      "[CV]  clf__n_estimators=1000, clf__min_samples_split=5, clf__min_samples_leaf=1, clf__max_features=auto, clf__max_depth=70, clf__bootstrap=True, score=0.8401968401968402, total=   5.9s\n",
      "[Parallel(n_jobs=1)]: Done 281 out of 281 | elapsed: 34.7min remaining:    0.0s\n",
      "[CV] clf__n_estimators=1000, clf__min_samples_split=5, clf__min_samples_leaf=1, clf__max_features=auto, clf__max_depth=70, clf__bootstrap=True \n",
      "[CV]  clf__n_estimators=1000, clf__min_samples_split=5, clf__min_samples_leaf=1, clf__max_features=auto, clf__max_depth=70, clf__bootstrap=True, score=0.8554131054131053, total=   5.8s\n",
      "[Parallel(n_jobs=1)]: Done 282 out of 282 | elapsed: 34.8min remaining:    0.0s\n",
      "[CV] clf__n_estimators=1600, clf__min_samples_split=10, clf__min_samples_leaf=4, clf__max_features=sqrt, clf__max_depth=30, clf__bootstrap=True \n",
      "[CV]  clf__n_estimators=1600, clf__min_samples_split=10, clf__min_samples_leaf=4, clf__max_features=sqrt, clf__max_depth=30, clf__bootstrap=True, score=0.8050569388149006, total=   7.8s\n",
      "[Parallel(n_jobs=1)]: Done 283 out of 283 | elapsed: 34.9min remaining:    0.0s\n",
      "[CV] clf__n_estimators=1600, clf__min_samples_split=10, clf__min_samples_leaf=4, clf__max_features=sqrt, clf__max_depth=30, clf__bootstrap=True \n",
      "[CV]  clf__n_estimators=1600, clf__min_samples_split=10, clf__min_samples_leaf=4, clf__max_features=sqrt, clf__max_depth=30, clf__bootstrap=True, score=0.8407795907795907, total=   7.8s\n",
      "[Parallel(n_jobs=1)]: Done 284 out of 284 | elapsed: 35.0min remaining:    0.0s\n",
      "[CV] clf__n_estimators=1600, clf__min_samples_split=10, clf__min_samples_leaf=4, clf__max_features=sqrt, clf__max_depth=30, clf__bootstrap=True \n",
      "[CV]  clf__n_estimators=1600, clf__min_samples_split=10, clf__min_samples_leaf=4, clf__max_features=sqrt, clf__max_depth=30, clf__bootstrap=True, score=0.8494560994560995, total=   7.8s\n",
      "[Parallel(n_jobs=1)]: Done 285 out of 285 | elapsed: 35.2min remaining:    0.0s\n",
      "[CV] clf__n_estimators=1000, clf__min_samples_split=2, clf__min_samples_leaf=4, clf__max_features=auto, clf__max_depth=80, clf__bootstrap=True \n",
      "[CV]  clf__n_estimators=1000, clf__min_samples_split=2, clf__min_samples_leaf=4, clf__max_features=auto, clf__max_depth=80, clf__bootstrap=True, score=0.8086598468764075, total=   4.9s\n",
      "[Parallel(n_jobs=1)]: Done 286 out of 286 | elapsed: 35.3min remaining:    0.0s\n",
      "[CV] clf__n_estimators=1000, clf__min_samples_split=2, clf__min_samples_leaf=4, clf__max_features=auto, clf__max_depth=80, clf__bootstrap=True \n"
     ]
    },
    {
     "name": "stdout",
     "output_type": "stream",
     "text": [
      "[CV]  clf__n_estimators=1000, clf__min_samples_split=2, clf__min_samples_leaf=4, clf__max_features=auto, clf__max_depth=80, clf__bootstrap=True, score=0.8381248381248381, total=   4.9s\n",
      "[Parallel(n_jobs=1)]: Done 287 out of 287 | elapsed: 35.3min remaining:    0.0s\n",
      "[CV] clf__n_estimators=1000, clf__min_samples_split=2, clf__min_samples_leaf=4, clf__max_features=auto, clf__max_depth=80, clf__bootstrap=True \n",
      "[CV]  clf__n_estimators=1000, clf__min_samples_split=2, clf__min_samples_leaf=4, clf__max_features=auto, clf__max_depth=80, clf__bootstrap=True, score=0.8513986013986014, total=   5.0s\n",
      "[Parallel(n_jobs=1)]: Done 288 out of 288 | elapsed: 35.4min remaining:    0.0s\n",
      "[CV] clf__n_estimators=400, clf__min_samples_split=5, clf__min_samples_leaf=4, clf__max_features=sqrt, clf__max_depth=90, clf__bootstrap=False \n",
      "[CV]  clf__n_estimators=400, clf__min_samples_split=5, clf__min_samples_leaf=4, clf__max_features=sqrt, clf__max_depth=90, clf__bootstrap=False, score=0.8133564948851574, total=   3.2s\n",
      "[Parallel(n_jobs=1)]: Done 289 out of 289 | elapsed: 35.5min remaining:    0.0s\n",
      "[CV] clf__n_estimators=400, clf__min_samples_split=5, clf__min_samples_leaf=4, clf__max_features=sqrt, clf__max_depth=90, clf__bootstrap=False \n",
      "[CV]  clf__n_estimators=400, clf__min_samples_split=5, clf__min_samples_leaf=4, clf__max_features=sqrt, clf__max_depth=90, clf__bootstrap=False, score=0.8453768453768453, total=   3.2s\n",
      "[Parallel(n_jobs=1)]: Done 290 out of 290 | elapsed: 35.5min remaining:    0.0s\n",
      "[CV] clf__n_estimators=400, clf__min_samples_split=5, clf__min_samples_leaf=4, clf__max_features=sqrt, clf__max_depth=90, clf__bootstrap=False \n",
      "[CV]  clf__n_estimators=400, clf__min_samples_split=5, clf__min_samples_leaf=4, clf__max_features=sqrt, clf__max_depth=90, clf__bootstrap=False, score=0.8584563584563585, total=   3.2s\n",
      "[Parallel(n_jobs=1)]: Done 291 out of 291 | elapsed: 35.6min remaining:    0.0s\n",
      "[CV] clf__n_estimators=400, clf__min_samples_split=2, clf__min_samples_leaf=4, clf__max_features=sqrt, clf__max_depth=None, clf__bootstrap=True \n",
      "[CV]  clf__n_estimators=400, clf__min_samples_split=2, clf__min_samples_leaf=4, clf__max_features=sqrt, clf__max_depth=None, clf__bootstrap=True, score=0.8029981342083254, total=   2.0s\n",
      "[Parallel(n_jobs=1)]: Done 292 out of 292 | elapsed: 35.6min remaining:    0.0s\n",
      "[CV] clf__n_estimators=400, clf__min_samples_split=2, clf__min_samples_leaf=4, clf__max_features=sqrt, clf__max_depth=None, clf__bootstrap=True \n",
      "[CV]  clf__n_estimators=400, clf__min_samples_split=2, clf__min_samples_leaf=4, clf__max_features=sqrt, clf__max_depth=None, clf__bootstrap=True, score=0.8387075887075887, total=   2.0s\n",
      "[Parallel(n_jobs=1)]: Done 293 out of 293 | elapsed: 35.7min remaining:    0.0s\n",
      "[CV] clf__n_estimators=400, clf__min_samples_split=2, clf__min_samples_leaf=4, clf__max_features=sqrt, clf__max_depth=None, clf__bootstrap=True \n",
      "[CV]  clf__n_estimators=400, clf__min_samples_split=2, clf__min_samples_leaf=4, clf__max_features=sqrt, clf__max_depth=None, clf__bootstrap=True, score=0.8492618492618493, total=   2.0s\n",
      "[Parallel(n_jobs=1)]: Done 294 out of 294 | elapsed: 35.7min remaining:    0.0s\n",
      "[CV] clf__n_estimators=600, clf__min_samples_split=2, clf__min_samples_leaf=2, clf__max_features=sqrt, clf__max_depth=80, clf__bootstrap=True \n",
      "[CV]  clf__n_estimators=600, clf__min_samples_split=2, clf__min_samples_leaf=2, clf__max_features=sqrt, clf__max_depth=80, clf__bootstrap=True, score=0.8089815350961849, total=   3.3s\n",
      "[Parallel(n_jobs=1)]: Done 295 out of 295 | elapsed: 35.8min remaining:    0.0s\n",
      "[CV] clf__n_estimators=600, clf__min_samples_split=2, clf__min_samples_leaf=2, clf__max_features=sqrt, clf__max_depth=80, clf__bootstrap=True \n",
      "[CV]  clf__n_estimators=600, clf__min_samples_split=2, clf__min_samples_leaf=2, clf__max_features=sqrt, clf__max_depth=80, clf__bootstrap=True, score=0.8409090909090909, total=   3.3s\n",
      "[Parallel(n_jobs=1)]: Done 296 out of 296 | elapsed: 35.8min remaining:    0.0s\n",
      "[CV] clf__n_estimators=600, clf__min_samples_split=2, clf__min_samples_leaf=2, clf__max_features=sqrt, clf__max_depth=80, clf__bootstrap=True \n",
      "[CV]  clf__n_estimators=600, clf__min_samples_split=2, clf__min_samples_leaf=2, clf__max_features=sqrt, clf__max_depth=80, clf__bootstrap=True, score=0.8531468531468532, total=   3.3s\n",
      "[Parallel(n_jobs=1)]: Done 297 out of 297 | elapsed: 35.9min remaining:    0.0s\n",
      "[CV] clf__n_estimators=600, clf__min_samples_split=10, clf__min_samples_leaf=2, clf__max_features=auto, clf__max_depth=100, clf__bootstrap=True \n",
      "[CV]  clf__n_estimators=600, clf__min_samples_split=10, clf__min_samples_leaf=2, clf__max_features=auto, clf__max_depth=100, clf__bootstrap=True, score=0.8100752750434279, total=   3.2s\n",
      "[Parallel(n_jobs=1)]: Done 298 out of 298 | elapsed: 35.9min remaining:    0.0s\n",
      "[CV] clf__n_estimators=600, clf__min_samples_split=10, clf__min_samples_leaf=2, clf__max_features=auto, clf__max_depth=100, clf__bootstrap=True \n",
      "[CV]  clf__n_estimators=600, clf__min_samples_split=10, clf__min_samples_leaf=2, clf__max_features=auto, clf__max_depth=100, clf__bootstrap=True, score=0.8397435897435898, total=   3.3s\n",
      "[Parallel(n_jobs=1)]: Done 299 out of 299 | elapsed: 36.0min remaining:    0.0s\n",
      "[CV] clf__n_estimators=600, clf__min_samples_split=10, clf__min_samples_leaf=2, clf__max_features=auto, clf__max_depth=100, clf__bootstrap=True \n",
      "[CV]  clf__n_estimators=600, clf__min_samples_split=10, clf__min_samples_leaf=2, clf__max_features=auto, clf__max_depth=100, clf__bootstrap=True, score=0.8570966070966071, total=   3.2s\n",
      "[Parallel(n_jobs=1)]: Done 300 out of 300 | elapsed: 36.0min remaining:    0.0s\n",
      "[Parallel(n_jobs=1)]: Done 300 out of 300 | elapsed: 36.0min finished\n"
     ]
    },
    {
     "data": {
      "text/plain": [
       "RandomizedSearchCV(cv='warn', error_score='raise-deprecating',\n",
       "          estimator=Pipeline(memory=None,\n",
       "     steps=[('imputer', SimpleImputer(copy=True, fill_value=None, missing_values=nan,\n",
       "       strategy='median', verbose=0)), ('clf', RandomForestClassifier(bootstrap=True, class_weight='balanced',\n",
       "            criterion='gini', max_depth=None, max_features='auto',\n",
       "            max_leaf_nodes=None, min_impu...rs=1000, n_jobs=None, oob_score=False,\n",
       "            random_state=None, verbose=0, warm_start=False))]),\n",
       "          fit_params=None, iid='warn', n_iter=100, n_jobs=None,\n",
       "          param_distributions={'clf__bootstrap': [True, False], 'clf__max_depth': [10, 20, 30, 40, 50, 60, 70, 80, 90, 100, None], 'clf__max_features': ['auto', 'sqrt'], 'clf__min_samples_leaf': [1, 2, 4], 'clf__min_samples_split': [2, 5, 10], 'clf__n_estimators': [200, 400, 600, 800, 1000, 1200, 1400, 1600, 1800, 2000]},\n",
       "          pre_dispatch='2*n_jobs', random_state=None, refit=True,\n",
       "          return_train_score='warn', scoring='roc_auc', verbose=1000000000)"
      ]
     },
     "execution_count": 29,
     "metadata": {},
     "output_type": "execute_result"
    }
   ],
   "source": [
    "rf_grid = {\n",
    "    'clf__bootstrap': [True, False],\n",
    "    'clf__max_depth': [10, 20, 30, 40, 50, 60, 70, 80, 90, 100, None],\n",
    "    'clf__max_features': ['auto', 'sqrt'],\n",
    "    'clf__min_samples_leaf': [1, 2, 4],\n",
    "    'clf__min_samples_split': [2, 5, 10],\n",
    "    'clf__n_estimators': [200, 400, 600, 800, 1000, 1200, 1400, 1600, 1800, 2000]\n",
    "}\n",
    "\n",
    "rsearch_rf = RandomizedSearchCV(rf_clf,\n",
    "                                rf_grid,\n",
    "                                n_iter=100,\n",
    "                                scoring='roc_auc',\n",
    "                                verbose=10**9)\n",
    "\n",
    "rsearch_rf.fit(X_train, y_train)"
   ]
  },
  {
   "cell_type": "markdown",
   "metadata": {},
   "source": [
    "Лучшие параметры:"
   ]
  },
  {
   "cell_type": "code",
   "execution_count": 30,
   "metadata": {},
   "outputs": [
    {
     "data": {
      "text/plain": [
       "{'clf__n_estimators': 1400,\n",
       " 'clf__min_samples_split': 2,\n",
       " 'clf__min_samples_leaf': 2,\n",
       " 'clf__max_features': 'auto',\n",
       " 'clf__max_depth': 90,\n",
       " 'clf__bootstrap': False}"
      ]
     },
     "execution_count": 30,
     "metadata": {},
     "output_type": "execute_result"
    }
   ],
   "source": [
    "rsearch_rf.best_params_"
   ]
  },
  {
   "cell_type": "code",
   "execution_count": 31,
   "metadata": {},
   "outputs": [
    {
     "name": "stdout",
     "output_type": "stream",
     "text": [
      "ROC-AUC score for this model: 0.8600608092305294\n"
     ]
    }
   ],
   "source": [
    "rf_clf = clone(rsearch_rf.best_estimator_)\n",
    "rf_clf.fit(X_train, y_train)\n",
    "\n",
    "score(rf_clf, X_test, y_test)"
   ]
  },
  {
   "cell_type": "code",
   "execution_count": 32,
   "metadata": {},
   "outputs": [
    {
     "name": "stdout",
     "output_type": "stream",
     "text": [
      "Submission written to output/random_forest_1.csv\n"
     ]
    }
   ],
   "source": [
    "rf_clf.fit(X, y)\n",
    "\n",
    "submit(rf_clf, df_test, 'random_forest_1')"
   ]
  },
  {
   "cell_type": "markdown",
   "metadata": {},
   "source": [
    "**Kaggle test score**: 0.88470"
   ]
  },
  {
   "cell_type": "markdown",
   "metadata": {},
   "source": [
    "### Градиентный бустинг"
   ]
  },
  {
   "cell_type": "markdown",
   "metadata": {},
   "source": [
    "Попробуем более сложную и продвинутую модель - градиентный бустинг над деревьями решений. Воспользуемся CatBoost. На этот раз будем интерпретировать выявленные ранее признаки с 2-5 уровнями как категориальные, передав информацию об этом CatBoost. Соответственно, пропуски в этих признаках заполнять мы теперь будем не медианой, а модой."
   ]
  },
  {
   "cell_type": "code",
   "execution_count": 66,
   "metadata": {},
   "outputs": [],
   "source": [
    "imputer = ColumnTransformer([\n",
    "    ('cat_imputer', SimpleImputer(strategy='most_frequent'), cat_feature_names),\n",
    "    ('num_imputer', SimpleImputer(strategy='median'), num_feature_names)\n",
    "], remainder='passthrough')\n",
    "\n",
    "CAT_FEATURES = list(range(len(cat_feature_names)))\n",
    "clf = CatBoostClassifierWrapper(logging_level='Silent',\n",
    "                                cat_features=CAT_FEATURES)\n",
    "\n",
    "gb_clf = Pipeline([\n",
    "    ('imputer', imputer),\n",
    "    ('clf', clf)\n",
    "])"
   ]
  },
  {
   "cell_type": "code",
   "execution_count": 60,
   "metadata": {},
   "outputs": [
    {
     "data": {
      "text/plain": [
       "Pipeline(memory=None,\n",
       "     steps=[('imputer', ColumnTransformer(n_jobs=None, remainder='passthrough', sparse_threshold=0.3,\n",
       "         transformer_weights=None,\n",
       "         transformers=[('cat_imputer', SimpleImputer(copy=True, fill_value=None, missing_values=nan,\n",
       "       strategy='most_frequent', verbose=0), Index(['f485', 'f488',...', 'f661'])])), ('clf', CatBoostClassifierWrapper(logging_level='Silent', loss_function='Logloss'))])"
      ]
     },
     "execution_count": 60,
     "metadata": {},
     "output_type": "execute_result"
    }
   ],
   "source": [
    "gb_clf.fit(X_train, y_train)"
   ]
  },
  {
   "cell_type": "code",
   "execution_count": 61,
   "metadata": {},
   "outputs": [
    {
     "name": "stdout",
     "output_type": "stream",
     "text": [
      "ROC-AUC score for this model: 0.8820846651594294\n"
     ]
    }
   ],
   "source": [
    "score(gb_clf, X_test, y_test)"
   ]
  },
  {
   "cell_type": "code",
   "execution_count": 62,
   "metadata": {},
   "outputs": [
    {
     "name": "stdout",
     "output_type": "stream",
     "text": [
      "Submission written to output/grad_boosting_1.csv\n"
     ]
    }
   ],
   "source": [
    "gb_clf.fit(X, y)\n",
    "\n",
    "submit(gb_clf, df_test, 'grad_boosting_1')"
   ]
  },
  {
   "cell_type": "markdown",
   "metadata": {},
   "source": [
    "**Kaggle test score**: 0.89725"
   ]
  },
  {
   "cell_type": "markdown",
   "metadata": {},
   "source": [
    "Попробуем настроить гиперпараметры алгоритма. Начнём, с числа итераций."
   ]
  },
  {
   "cell_type": "code",
   "execution_count": 37,
   "metadata": {},
   "outputs": [
    {
     "name": "stdout",
     "output_type": "stream",
     "text": [
      "Fitting 3 folds for each of 13 candidates, totalling 39 fits\n",
      "[Parallel(n_jobs=1)]: Using backend SequentialBackend with 1 concurrent workers.\n",
      "[CV] clf__iterations=1 ...............................................\n",
      "[CV] ...... clf__iterations=1, score=0.7038216560509554, total=   0.6s\n",
      "[Parallel(n_jobs=1)]: Done   1 out of   1 | elapsed:    0.7s remaining:    0.0s\n",
      "[CV] clf__iterations=1 ...............................................\n",
      "[CV] ...... clf__iterations=1, score=0.7620758870758871, total=   0.6s\n",
      "[Parallel(n_jobs=1)]: Done   2 out of   2 | elapsed:    1.4s remaining:    0.0s\n",
      "[CV] clf__iterations=1 ...............................................\n",
      "[CV] ...... clf__iterations=1, score=0.7656371406371406, total=   0.6s\n",
      "[Parallel(n_jobs=1)]: Done   3 out of   3 | elapsed:    2.1s remaining:    0.0s\n",
      "[CV] clf__iterations=10 ..............................................\n",
      "[CV] ..... clf__iterations=10, score=0.8042848870874348, total=   2.1s\n",
      "[Parallel(n_jobs=1)]: Done   4 out of   4 | elapsed:    4.3s remaining:    0.0s\n",
      "[CV] clf__iterations=10 ..............................................\n",
      "[CV] ..... clf__iterations=10, score=0.8367974617974618, total=   2.0s\n",
      "[Parallel(n_jobs=1)]: Done   5 out of   5 | elapsed:    6.4s remaining:    0.0s\n",
      "[CV] clf__iterations=10 ..............................................\n",
      "[CV] ..... clf__iterations=10, score=0.8369593369593369, total=   1.9s\n",
      "[Parallel(n_jobs=1)]: Done   6 out of   6 | elapsed:    8.4s remaining:    0.0s\n",
      "[CV] clf__iterations=50 ..............................................\n",
      "[CV] ..... clf__iterations=50, score=0.8019043942610821, total=   8.0s\n",
      "[Parallel(n_jobs=1)]: Done   7 out of   7 | elapsed:   16.5s remaining:    0.0s\n",
      "[CV] clf__iterations=50 ..............................................\n",
      "[CV] ..... clf__iterations=50, score=0.8502331002331002, total=   9.1s\n",
      "[Parallel(n_jobs=1)]: Done   8 out of   8 | elapsed:   25.7s remaining:    0.0s\n",
      "[CV] clf__iterations=50 ..............................................\n",
      "[CV] ..... clf__iterations=50, score=0.8613701113701114, total=   8.1s\n",
      "[Parallel(n_jobs=1)]: Done   9 out of   9 | elapsed:   33.9s remaining:    0.0s\n",
      "[CV] clf__iterations=100 .............................................\n",
      "[CV] ..... clf__iterations=100, score=0.823264492054301, total=  15.5s\n",
      "[Parallel(n_jobs=1)]: Done  10 out of  10 | elapsed:   49.5s remaining:    0.0s\n",
      "[CV] clf__iterations=100 .............................................\n",
      "[CV] .... clf__iterations=100, score=0.8458300958300957, total=  15.3s\n",
      "[Parallel(n_jobs=1)]: Done  11 out of  11 | elapsed:  1.1min remaining:    0.0s\n",
      "[CV] clf__iterations=100 .............................................\n",
      "[CV] .... clf__iterations=100, score=0.8552188552188552, total=  15.4s\n",
      "[Parallel(n_jobs=1)]: Done  12 out of  12 | elapsed:  1.3min remaining:    0.0s\n",
      "[CV] clf__iterations=150 .............................................\n",
      "[CV] .... clf__iterations=150, score=0.8273177636234961, total=  22.8s\n",
      "[Parallel(n_jobs=1)]: Done  13 out of  13 | elapsed:  1.7min remaining:    0.0s\n",
      "[CV] clf__iterations=150 .............................................\n",
      "[CV] .... clf__iterations=150, score=0.8526288526288527, total=  23.0s\n",
      "[Parallel(n_jobs=1)]: Done  14 out of  14 | elapsed:  2.1min remaining:    0.0s\n",
      "[CV] clf__iterations=150 .............................................\n",
      "[CV] .... clf__iterations=150, score=0.8650608650608651, total=  22.9s\n",
      "[Parallel(n_jobs=1)]: Done  15 out of  15 | elapsed:  2.5min remaining:    0.0s\n",
      "[CV] clf__iterations=200 .............................................\n",
      "[CV] .... clf__iterations=200, score=0.8300842823135817, total=  30.1s\n",
      "[Parallel(n_jobs=1)]: Done  16 out of  16 | elapsed:  3.0min remaining:    0.0s\n",
      "[CV] clf__iterations=200 .............................................\n",
      "[CV] .... clf__iterations=200, score=0.8496503496503497, total=  30.1s\n",
      "[Parallel(n_jobs=1)]: Done  17 out of  17 | elapsed:  3.5min remaining:    0.0s\n",
      "[CV] clf__iterations=200 .............................................\n",
      "[CV] .... clf__iterations=200, score=0.8597513597513597, total=  30.2s\n",
      "[Parallel(n_jobs=1)]: Done  18 out of  18 | elapsed:  4.0min remaining:    0.0s\n",
      "[CV] clf__iterations=250 .............................................\n",
      "[CV] .... clf__iterations=250, score=0.8275751141993181, total=  37.8s\n",
      "[Parallel(n_jobs=1)]: Done  19 out of  19 | elapsed:  4.6min remaining:    0.0s\n",
      "[CV] clf__iterations=250 .............................................\n",
      "[CV] ..... clf__iterations=250, score=0.848096348096348, total=  37.7s\n",
      "[Parallel(n_jobs=1)]: Done  20 out of  20 | elapsed:  5.3min remaining:    0.0s\n",
      "[CV] clf__iterations=250 .............................................\n",
      "[CV] .... clf__iterations=250, score=0.8706293706293705, total=  37.6s\n",
      "[Parallel(n_jobs=1)]: Done  21 out of  21 | elapsed:  5.9min remaining:    0.0s\n",
      "[CV] clf__iterations=300 .............................................\n",
      "[CV] .... clf__iterations=300, score=0.8253876343048319, total=  45.4s\n",
      "[Parallel(n_jobs=1)]: Done  22 out of  22 | elapsed:  6.7min remaining:    0.0s\n",
      "[CV] clf__iterations=300 .............................................\n",
      "[CV] .... clf__iterations=300, score=0.8515928515928516, total=  45.2s\n",
      "[Parallel(n_jobs=1)]: Done  23 out of  23 | elapsed:  7.4min remaining:    0.0s\n",
      "[CV] clf__iterations=300 .............................................\n",
      "[CV] .... clf__iterations=300, score=0.8730898730898731, total=  45.1s\n",
      "[Parallel(n_jobs=1)]: Done  24 out of  24 | elapsed:  8.2min remaining:    0.0s\n",
      "[CV] clf__iterations=350 .............................................\n",
      "[CV] .... clf__iterations=350, score=0.8305346458212701, total=  52.6s\n",
      "[Parallel(n_jobs=1)]: Done  25 out of  25 | elapsed:  9.0min remaining:    0.0s\n",
      "[CV] clf__iterations=350 .............................................\n",
      "[CV] .... clf__iterations=350, score=0.8568376068376069, total=  52.6s\n",
      "[Parallel(n_jobs=1)]: Done  26 out of  26 | elapsed:  9.9min remaining:    0.0s\n",
      "[CV] clf__iterations=350 .............................................\n",
      "[CV] .... clf__iterations=350, score=0.8648018648018648, total=  52.6s\n",
      "[Parallel(n_jobs=1)]: Done  27 out of  27 | elapsed: 10.8min remaining:    0.0s\n",
      "[CV] clf__iterations=400 .............................................\n",
      "[CV] .... clf__iterations=400, score=0.8297625940938043, total= 1.0min\n",
      "[Parallel(n_jobs=1)]: Done  28 out of  28 | elapsed: 11.8min remaining:    0.0s\n",
      "[CV] clf__iterations=400 .............................................\n",
      "[CV] .... clf__iterations=400, score=0.8518518518518519, total= 1.0min\n",
      "[Parallel(n_jobs=1)]: Done  29 out of  29 | elapsed: 12.8min remaining:    0.0s\n",
      "[CV] clf__iterations=400 .............................................\n",
      "[CV] .... clf__iterations=400, score=0.8664206164206164, total= 1.0min\n",
      "[Parallel(n_jobs=1)]: Done  30 out of  30 | elapsed: 13.8min remaining:    0.0s\n",
      "[CV] clf__iterations=600 .............................................\n",
      "[CV] .... clf__iterations=600, score=0.8190182075532394, total= 1.8min\n",
      "[Parallel(n_jobs=1)]: Done  31 out of  31 | elapsed: 15.6min remaining:    0.0s\n",
      "[CV] clf__iterations=600 .............................................\n",
      "[CV] ..... clf__iterations=600, score=0.856967106967107, total= 1.9min\n",
      "[Parallel(n_jobs=1)]: Done  32 out of  32 | elapsed: 17.4min remaining:    0.0s\n",
      "[CV] clf__iterations=600 .............................................\n",
      "[CV] .... clf__iterations=600, score=0.8651903651903652, total= 1.8min\n",
      "[Parallel(n_jobs=1)]: Done  33 out of  33 | elapsed: 19.2min remaining:    0.0s\n",
      "[CV] clf__iterations=800 .............................................\n",
      "[CV] .... clf__iterations=800, score=0.8164447017950203, total= 2.2min\n",
      "[Parallel(n_jobs=1)]: Done  34 out of  34 | elapsed: 21.4min remaining:    0.0s\n",
      "[CV] clf__iterations=800 .............................................\n",
      "[CV] ..... clf__iterations=800, score=0.847060347060347, total= 2.6min\n",
      "[Parallel(n_jobs=1)]: Done  35 out of  35 | elapsed: 24.0min remaining:    0.0s\n",
      "[CV] clf__iterations=800 .............................................\n",
      "[CV] .... clf__iterations=800, score=0.8674566174566174, total= 2.7min\n",
      "[Parallel(n_jobs=1)]: Done  36 out of  36 | elapsed: 26.7min remaining:    0.0s\n",
      "[CV] clf__iterations=1000 ............................................\n"
     ]
    },
    {
     "name": "stdout",
     "output_type": "stream",
     "text": [
      "[CV] ... clf__iterations=1000, score=0.8211413498037702, total= 3.5min\n",
      "[Parallel(n_jobs=1)]: Done  37 out of  37 | elapsed: 30.2min remaining:    0.0s\n",
      "[CV] clf__iterations=1000 ............................................\n",
      "[CV] ... clf__iterations=1000, score=0.8569023569023568, total= 3.3min\n",
      "[Parallel(n_jobs=1)]: Done  38 out of  38 | elapsed: 33.5min remaining:    0.0s\n",
      "[CV] clf__iterations=1000 ............................................\n",
      "[CV] ... clf__iterations=1000, score=0.8693991193991193, total= 2.8min\n",
      "[Parallel(n_jobs=1)]: Done  39 out of  39 | elapsed: 36.2min remaining:    0.0s\n",
      "[Parallel(n_jobs=1)]: Done  39 out of  39 | elapsed: 36.2min finished\n"
     ]
    },
    {
     "data": {
      "text/plain": [
       "GridSearchCV(cv=3, error_score='raise-deprecating',\n",
       "       estimator=Pipeline(memory=None,\n",
       "     steps=[('imputer', ColumnTransformer(n_jobs=None, remainder='passthrough', sparse_threshold=0.3,\n",
       "         transformer_weights=None,\n",
       "         transformers=[('cat_imputer', SimpleImputer(copy=True, fill_value=None, missing_values=nan,\n",
       "       strategy='most_frequent', verbose=0), Index(['f485', 'f488',...(iterations=400, learning_rate=0.03,\n",
       "             logging_level='Silent', loss_function='Logloss'))]),\n",
       "       fit_params=None, iid='warn', n_jobs=None,\n",
       "       param_grid={'clf__iterations': [1, 10, 50, 100, 150, 200, 250, 300, 350, 400, 600, 800, 1000]},\n",
       "       pre_dispatch='2*n_jobs', refit=True, return_train_score=True,\n",
       "       scoring='roc_auc', verbose=1000000000)"
      ]
     },
     "execution_count": 37,
     "metadata": {},
     "output_type": "execute_result"
    }
   ],
   "source": [
    "iter_grid = {    \n",
    "    'clf__iterations': [1, 10, 50, 100, 150, 200, 250, 300, 350, 400, 600, 800, 1000]\n",
    "}\n",
    "\n",
    "gsearch_gb_iter = GridSearchCV(gb_clf,\n",
    "                       iter_grid,\n",
    "                       scoring='roc_auc',\n",
    "                       cv=3,\n",
    "                       return_train_score=True,\n",
    "                       verbose=10**9)\n",
    "\n",
    "gsearch_gb_iter.fit(X_train, y_train)"
   ]
  },
  {
   "cell_type": "markdown",
   "metadata": {},
   "source": [
    "Посмотрим, как меняется оценка с ростом числа итераций."
   ]
  },
  {
   "cell_type": "code",
   "execution_count": 112,
   "metadata": {},
   "outputs": [
    {
     "data": {
      "image/png": "[encoded data removed]",
      "text/plain": [
       "<Figure size 648x432 with 1 Axes>"
      ]
     },
     "metadata": {},
     "output_type": "display_data"
    }
   ],
   "source": [
    "mean_scores_iter = gsearch_gb_iter.cv_results_['mean_test_score']\n",
    "std_scores_iter = gsearch_gb_iter.cv_results_['std_test_score']\n",
    "train_scores_iter = gsearch_gb_iter.cv_results_['mean_train_score']\n",
    "\n",
    "plot_scores(iter_grid['clf__iterations'],\n",
    "            mean_scores_iter, std_scores_iter, train_scores_iter)"
   ]
  },
  {
   "cell_type": "markdown",
   "metadata": {},
   "source": [
    "Хоть поиск и показывает, что лучшее значение количества итераций - это 600, по графикам особых различий в диапазоне 400-1000 не наблюдается, поэтому будем использовать `iterations=400`, чтобы ускорить обучение в дальнейшем."
   ]
  },
  {
   "cell_type": "code",
   "execution_count": 70,
   "metadata": {},
   "outputs": [
    {
     "data": {
      "text/plain": [
       "Pipeline(memory=None,\n",
       "     steps=[('imputer', ColumnTransformer(n_jobs=None, remainder='passthrough', sparse_threshold=0.3,\n",
       "         transformer_weights=None,\n",
       "         transformers=[('cat_imputer', SimpleImputer(copy=True, fill_value=None, missing_values=nan,\n",
       "       strategy='most_frequent', verbose=0), Index(['f485', 'f488',...ostClassifierWrapper(iterations=400, logging_level='Silent',\n",
       "             loss_function='Logloss'))])"
      ]
     },
     "execution_count": 70,
     "metadata": {},
     "output_type": "execute_result"
    }
   ],
   "source": [
    "gb_clf.set_params(clf__iterations=400)\n",
    "gb_clf.fit(X_train, y_train)"
   ]
  },
  {
   "cell_type": "code",
   "execution_count": 71,
   "metadata": {},
   "outputs": [
    {
     "name": "stdout",
     "output_type": "stream",
     "text": [
      "ROC-AUC score for this model: 0.8773290714898261\n"
     ]
    }
   ],
   "source": [
    "score(gb_clf, X_test, y_test)"
   ]
  },
  {
   "cell_type": "code",
   "execution_count": 72,
   "metadata": {},
   "outputs": [
    {
     "name": "stdout",
     "output_type": "stream",
     "text": [
      "Submission written to output/grad_boosting_2.csv\n"
     ]
    }
   ],
   "source": [
    "gb_clf.fit(X, y)\n",
    "submit(gb_clf, df_test, 'grad_boosting_2')"
   ]
  },
  {
   "cell_type": "markdown",
   "metadata": {},
   "source": [
    "**Kaggle test score**: 0.90577"
   ]
  },
  {
   "cell_type": "markdown",
   "metadata": {},
   "source": [
    "Локально качество несколько упало, однако по оценке Kaggle оно заметно возросло."
   ]
  },
  {
   "cell_type": "markdown",
   "metadata": {},
   "source": [
    "Попробуем теперь настроить максимальную глубину каждого решающего дерева в ансамбле."
   ]
  },
  {
   "cell_type": "code",
   "execution_count": 46,
   "metadata": {
    "scrolled": true
   },
   "outputs": [
    {
     "name": "stdout",
     "output_type": "stream",
     "text": [
      "Fitting 3 folds for each of 5 candidates, totalling 15 fits\n",
      "[Parallel(n_jobs=1)]: Using backend SequentialBackend with 1 concurrent workers.\n",
      "[CV] clf__depth=5 ....................................................\n",
      "[CV] ........... clf__depth=5, score=0.8286688541465612, total=  31.1s\n",
      "[Parallel(n_jobs=1)]: Done   1 out of   1 | elapsed:   31.2s remaining:    0.0s\n",
      "[CV] clf__depth=5 ....................................................\n",
      "[CV] ........... clf__depth=5, score=0.8514633514633514, total=  31.7s\n",
      "[Parallel(n_jobs=1)]: Done   2 out of   2 | elapsed:  1.1min remaining:    0.0s\n",
      "[CV] clf__depth=5 ....................................................\n",
      "[CV] ............ clf__depth=5, score=0.861952861952862, total=  31.7s\n",
      "[Parallel(n_jobs=1)]: Done   3 out of   3 | elapsed:  1.6min remaining:    0.0s\n",
      "[CV] clf__depth=6 ....................................................\n",
      "[CV] ........... clf__depth=6, score=0.8253232966608762, total=  54.4s\n",
      "[Parallel(n_jobs=1)]: Done   4 out of   4 | elapsed:  2.5min remaining:    0.0s\n",
      "[CV] clf__depth=6 ....................................................\n",
      "[CV] ........... clf__depth=6, score=0.8606578606578607, total=  54.1s\n",
      "[Parallel(n_jobs=1)]: Done   5 out of   5 | elapsed:  3.4min remaining:    0.0s\n",
      "[CV] clf__depth=6 ....................................................\n",
      "[CV] ........... clf__depth=6, score=0.8624061124061123, total=  53.7s\n",
      "[Parallel(n_jobs=1)]: Done   6 out of   6 | elapsed:  4.3min remaining:    0.0s\n",
      "[CV] clf__depth=7 ....................................................\n",
      "[CV] ............ clf__depth=7, score=0.829054880010294, total= 1.5min\n",
      "[Parallel(n_jobs=1)]: Done   7 out of   7 | elapsed:  5.7min remaining:    0.0s\n",
      "[CV] clf__depth=7 ....................................................\n",
      "[CV] ........... clf__depth=7, score=0.8614348614348614, total= 1.7min\n",
      "[Parallel(n_jobs=1)]: Done   8 out of   8 | elapsed:  7.4min remaining:    0.0s\n",
      "[CV] clf__depth=7 ....................................................\n",
      "[CV] ........... clf__depth=7, score=0.8648018648018648, total= 1.9min\n",
      "[Parallel(n_jobs=1)]: Done   9 out of   9 | elapsed:  9.3min remaining:    0.0s\n",
      "[CV] clf__depth=8 ....................................................\n",
      "[CV] ........... clf__depth=8, score=0.8177314546741298, total= 2.7min\n",
      "[Parallel(n_jobs=1)]: Done  10 out of  10 | elapsed: 12.0min remaining:    0.0s\n",
      "[CV] clf__depth=8 ....................................................\n",
      "[CV] ........... clf__depth=8, score=0.8637658637658637, total= 2.6min\n",
      "[Parallel(n_jobs=1)]: Done  11 out of  11 | elapsed: 14.6min remaining:    0.0s\n",
      "[CV] clf__depth=8 ....................................................\n",
      "[CV] ............ clf__depth=8, score=0.858003108003108, total= 2.6min\n",
      "[Parallel(n_jobs=1)]: Done  12 out of  12 | elapsed: 17.2min remaining:    0.0s\n",
      "[CV] clf__depth=9 ....................................................\n",
      "[CV] ........... clf__depth=9, score=0.8235861802740784, total= 6.8min\n",
      "[Parallel(n_jobs=1)]: Done  13 out of  13 | elapsed: 24.0min remaining:    0.0s\n",
      "[CV] clf__depth=9 ....................................................\n",
      "[CV] ........... clf__depth=9, score=0.8592333592333592, total= 7.1min\n",
      "[Parallel(n_jobs=1)]: Done  14 out of  14 | elapsed: 31.1min remaining:    0.0s\n",
      "[CV] clf__depth=9 ....................................................\n",
      "[CV] ............ clf__depth=9, score=0.864089614089614, total= 7.3min\n",
      "[Parallel(n_jobs=1)]: Done  15 out of  15 | elapsed: 38.4min remaining:    0.0s\n",
      "[Parallel(n_jobs=1)]: Done  15 out of  15 | elapsed: 38.4min finished\n"
     ]
    },
    {
     "data": {
      "text/plain": [
       "GridSearchCV(cv=3, error_score='raise-deprecating',\n",
       "       estimator=Pipeline(memory=None,\n",
       "     steps=[('imputer', ColumnTransformer(n_jobs=None, remainder='passthrough', sparse_threshold=0.3,\n",
       "         transformer_weights=None,\n",
       "         transformers=[('cat_imputer', SimpleImputer(copy=True, fill_value=None, missing_values=nan,\n",
       "       strategy='most_frequent', verbose=0), Index(['f485', 'f488',...(iterations=300, learning_rate=0.03,\n",
       "             logging_level='Silent', loss_function='Logloss'))]),\n",
       "       fit_params=None, iid='warn', n_jobs=None,\n",
       "       param_grid={'clf__depth': [5, 6, 7, 8, 9]}, pre_dispatch='2*n_jobs',\n",
       "       refit=True, return_train_score=True, scoring='roc_auc',\n",
       "       verbose=1000000000)"
      ]
     },
     "execution_count": 46,
     "metadata": {},
     "output_type": "execute_result"
    }
   ],
   "source": [
    "depth_grid = {\n",
    "    'clf__depth': [5, 6, 7, 8, 9]\n",
    "}\n",
    "\n",
    "gsearch_depth = GridSearchCV(gb_clf,\n",
    "                       depth_grid,\n",
    "                       scoring='roc_auc',\n",
    "                       cv=3,\n",
    "                       return_train_score=True,\n",
    "                       verbose=10**9)\n",
    "\n",
    "gsearch_depth.fit(X_train, y_train)"
   ]
  },
  {
   "cell_type": "code",
   "execution_count": 111,
   "metadata": {},
   "outputs": [
    {
     "data": {
      "image/png": "[encoded data removed]",
      "text/plain": [
       "<Figure size 648x432 with 1 Axes>"
      ]
     },
     "metadata": {},
     "output_type": "display_data"
    }
   ],
   "source": [
    "mean_scores_depth = gsearch_depth.cv_results_['mean_test_score']\n",
    "std_scores_depth = gsearch_depth.cv_results_['std_test_score']\n",
    "train_scores_depth = gsearch_depth.cv_results_['mean_train_score']\n",
    "\n",
    "plot_scores(depth_grid['clf__depth'],\n",
    "            mean_scores_depth, std_scores_depth)"
   ]
  },
  {
   "cell_type": "code",
   "execution_count": 51,
   "metadata": {},
   "outputs": [
    {
     "name": "stdout",
     "output_type": "stream",
     "text": [
      "ROC-AUC score for this model: 0.8670382786310127\n"
     ]
    }
   ],
   "source": [
    "best_gb_clf = clone(gsearch_depth.best_estimator_)\n",
    "\n",
    "best_gb_clf.fit(X_train, y_train)\n",
    "score(best_gb_clf, X_test, y_test)"
   ]
  },
  {
   "cell_type": "code",
   "execution_count": 52,
   "metadata": {},
   "outputs": [
    {
     "name": "stdout",
     "output_type": "stream",
     "text": [
      "Submission written to output/grad_boosting_3.csv\n"
     ]
    }
   ],
   "source": [
    "best_gb_clf.fit(X, y)\n",
    "submit(best_gb_clf, df_test, 'grad_boosting_3')"
   ]
  },
  {
   "cell_type": "markdown",
   "metadata": {},
   "source": [
    "**Kaggle test score**: 0.89882"
   ]
  },
  {
   "cell_type": "markdown",
   "metadata": {},
   "source": [
    "Качество и при локальной оценке, и при оценке Kaggle заметно упало. Поэтому здесь настройки, видимо, стоит оставить \"по умолчанию\"."
   ]
  },
  {
   "cell_type": "markdown",
   "metadata": {},
   "source": [
    "## Вывод "
   ]
  },
  {
   "cell_type": "markdown",
   "metadata": {},
   "source": [
    "Было рассмотрено четыре модели в порядке возрастания их \"сложности\". Для каждой модели были подобраны близкие к оптимальным значения её гиперпараметров. Результаты тестирования представлены в следующей таблице:"
   ]
  },
  {
   "cell_type": "markdown",
   "metadata": {},
   "source": [
    "\n",
    "|          Модель         | Kaggle test   ROC-AUC |\n",
    "|-------------------------|-----------------------|\n",
    "| Логистическая регрессия |        0.87193        |\n",
    "| Метод опорных векторов  |        0.87288        |\n",
    "| Случайный лес           |        0.88470        |\n",
    "| Градиентный бустинг     |        0.90577        |"
   ]
  },
  {
   "cell_type": "markdown",
   "metadata": {},
   "source": [
    "Лучшей по качеству классификации оказалась самая сложная модель градиентного бустинга, оставив своих конкурентов далеко позади."
   ]
  }
 ],
 "metadata": {
  "kernelspec": {
   "display_name": "Python 3",
   "language": "python",
   "name": "python3"
  },
  "language_info": {
   "codemirror_mode": {
    "name": "ipython",
    "version": 3
   },
   "file_extension": ".py",
   "mimetype": "text/x-python",
   "name": "python",
   "nbconvert_exporter": "python",
   "pygments_lexer": "ipython3",
   "version": "3.6.5"
  }
 },
 "nbformat": 4,
 "nbformat_minor": 2
}
